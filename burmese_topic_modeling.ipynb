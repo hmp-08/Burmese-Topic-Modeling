{
  "cells": [
    {
      "cell_type": "markdown",
      "metadata": {
        "id": "zwqoZ9el9Uz9"
      },
      "source": [
        "# Install and Import Libraries"
      ]
    },
    {
      "cell_type": "code",
      "execution_count": 1,
      "metadata": {
        "colab": {
          "base_uri": "https://localhost:8080/"
        },
        "id": "HsYQehVd70TC",
        "outputId": "031ec4b6-0eab-478c-eaf7-370efef9eced"
      },
      "outputs": [
        {
          "output_type": "stream",
          "name": "stdout",
          "text": [
            "Collecting bertopic\n",
            "  Downloading bertopic-0.15.0-py2.py3-none-any.whl (143 kB)\n",
            "\u001b[2K     \u001b[90m━━━━━━━━━━━━━━━━━━━━━━━━━━━━━━━━━━━━━━━━\u001b[0m \u001b[32m143.4/143.4 kB\u001b[0m \u001b[31m3.8 MB/s\u001b[0m eta \u001b[36m0:00:00\u001b[0m\n",
            "\u001b[?25hRequirement already satisfied: numpy>=1.20.0 in /usr/local/lib/python3.10/dist-packages (from bertopic) (1.23.5)\n",
            "Collecting hdbscan>=0.8.29 (from bertopic)\n",
            "  Downloading hdbscan-0.8.33.tar.gz (5.2 MB)\n",
            "\u001b[2K     \u001b[90m━━━━━━━━━━━━━━━━━━━━━━━━━━━━━━━━━━━━━━━━\u001b[0m \u001b[32m5.2/5.2 MB\u001b[0m \u001b[31m27.4 MB/s\u001b[0m eta \u001b[36m0:00:00\u001b[0m\n",
            "\u001b[?25h  Installing build dependencies ... \u001b[?25l\u001b[?25hdone\n",
            "  Getting requirements to build wheel ... \u001b[?25l\u001b[?25hdone\n",
            "  Preparing metadata (pyproject.toml) ... \u001b[?25l\u001b[?25hdone\n",
            "Collecting umap-learn>=0.5.0 (from bertopic)\n",
            "  Downloading umap-learn-0.5.5.tar.gz (90 kB)\n",
            "\u001b[2K     \u001b[90m━━━━━━━━━━━━━━━━━━━━━━━━━━━━━━━━━━━━━━━━\u001b[0m \u001b[32m90.9/90.9 kB\u001b[0m \u001b[31m13.3 MB/s\u001b[0m eta \u001b[36m0:00:00\u001b[0m\n",
            "\u001b[?25h  Preparing metadata (setup.py) ... \u001b[?25l\u001b[?25hdone\n",
            "Requirement already satisfied: pandas>=1.1.5 in /usr/local/lib/python3.10/dist-packages (from bertopic) (1.5.3)\n",
            "Requirement already satisfied: scikit-learn>=0.22.2.post1 in /usr/local/lib/python3.10/dist-packages (from bertopic) (1.2.2)\n",
            "Requirement already satisfied: tqdm>=4.41.1 in /usr/local/lib/python3.10/dist-packages (from bertopic) (4.66.1)\n",
            "Collecting sentence-transformers>=0.4.1 (from bertopic)\n",
            "  Downloading sentence-transformers-2.2.2.tar.gz (85 kB)\n",
            "\u001b[2K     \u001b[90m━━━━━━━━━━━━━━━━━━━━━━━━━━━━━━━━━━━━━━━━\u001b[0m \u001b[32m86.0/86.0 kB\u001b[0m \u001b[31m11.8 MB/s\u001b[0m eta \u001b[36m0:00:00\u001b[0m\n",
            "\u001b[?25h  Preparing metadata (setup.py) ... \u001b[?25l\u001b[?25hdone\n",
            "Requirement already satisfied: plotly>=4.7.0 in /usr/local/lib/python3.10/dist-packages (from bertopic) (5.15.0)\n",
            "Collecting cython<3,>=0.27 (from hdbscan>=0.8.29->bertopic)\n",
            "  Using cached Cython-0.29.36-cp310-cp310-manylinux_2_17_x86_64.manylinux2014_x86_64.manylinux_2_24_x86_64.whl (1.9 MB)\n",
            "Requirement already satisfied: scipy>=1.0 in /usr/local/lib/python3.10/dist-packages (from hdbscan>=0.8.29->bertopic) (1.11.3)\n",
            "Requirement already satisfied: joblib>=1.0 in /usr/local/lib/python3.10/dist-packages (from hdbscan>=0.8.29->bertopic) (1.3.2)\n",
            "Requirement already satisfied: python-dateutil>=2.8.1 in /usr/local/lib/python3.10/dist-packages (from pandas>=1.1.5->bertopic) (2.8.2)\n",
            "Requirement already satisfied: pytz>=2020.1 in /usr/local/lib/python3.10/dist-packages (from pandas>=1.1.5->bertopic) (2023.3.post1)\n",
            "Requirement already satisfied: tenacity>=6.2.0 in /usr/local/lib/python3.10/dist-packages (from plotly>=4.7.0->bertopic) (8.2.3)\n",
            "Requirement already satisfied: packaging in /usr/local/lib/python3.10/dist-packages (from plotly>=4.7.0->bertopic) (23.2)\n",
            "Requirement already satisfied: threadpoolctl>=2.0.0 in /usr/local/lib/python3.10/dist-packages (from scikit-learn>=0.22.2.post1->bertopic) (3.2.0)\n",
            "Requirement already satisfied: transformers<5.0.0,>=4.6.0 in /usr/local/lib/python3.10/dist-packages (from sentence-transformers>=0.4.1->bertopic) (4.35.2)\n",
            "Requirement already satisfied: torch>=1.6.0 in /usr/local/lib/python3.10/dist-packages (from sentence-transformers>=0.4.1->bertopic) (2.1.0+cu118)\n",
            "Requirement already satisfied: torchvision in /usr/local/lib/python3.10/dist-packages (from sentence-transformers>=0.4.1->bertopic) (0.16.0+cu118)\n",
            "Requirement already satisfied: nltk in /usr/local/lib/python3.10/dist-packages (from sentence-transformers>=0.4.1->bertopic) (3.8.1)\n",
            "Collecting sentencepiece (from sentence-transformers>=0.4.1->bertopic)\n",
            "  Downloading sentencepiece-0.1.99-cp310-cp310-manylinux_2_17_x86_64.manylinux2014_x86_64.whl (1.3 MB)\n",
            "\u001b[2K     \u001b[90m━━━━━━━━━━━━━━━━━━━━━━━━━━━━━━━━━━━━━━━━\u001b[0m \u001b[32m1.3/1.3 MB\u001b[0m \u001b[31m36.7 MB/s\u001b[0m eta \u001b[36m0:00:00\u001b[0m\n",
            "\u001b[?25hRequirement already satisfied: huggingface-hub>=0.4.0 in /usr/local/lib/python3.10/dist-packages (from sentence-transformers>=0.4.1->bertopic) (0.19.4)\n",
            "Requirement already satisfied: numba>=0.51.2 in /usr/local/lib/python3.10/dist-packages (from umap-learn>=0.5.0->bertopic) (0.58.1)\n",
            "Collecting pynndescent>=0.5 (from umap-learn>=0.5.0->bertopic)\n",
            "  Downloading pynndescent-0.5.11-py3-none-any.whl (55 kB)\n",
            "\u001b[2K     \u001b[90m━━━━━━━━━━━━━━━━━━━━━━━━━━━━━━━━━━━━━━━━\u001b[0m \u001b[32m55.8/55.8 kB\u001b[0m \u001b[31m7.6 MB/s\u001b[0m eta \u001b[36m0:00:00\u001b[0m\n",
            "\u001b[?25hRequirement already satisfied: filelock in /usr/local/lib/python3.10/dist-packages (from huggingface-hub>=0.4.0->sentence-transformers>=0.4.1->bertopic) (3.13.1)\n",
            "Requirement already satisfied: fsspec>=2023.5.0 in /usr/local/lib/python3.10/dist-packages (from huggingface-hub>=0.4.0->sentence-transformers>=0.4.1->bertopic) (2023.6.0)\n",
            "Requirement already satisfied: requests in /usr/local/lib/python3.10/dist-packages (from huggingface-hub>=0.4.0->sentence-transformers>=0.4.1->bertopic) (2.31.0)\n",
            "Requirement already satisfied: pyyaml>=5.1 in /usr/local/lib/python3.10/dist-packages (from huggingface-hub>=0.4.0->sentence-transformers>=0.4.1->bertopic) (6.0.1)\n",
            "Requirement already satisfied: typing-extensions>=3.7.4.3 in /usr/local/lib/python3.10/dist-packages (from huggingface-hub>=0.4.0->sentence-transformers>=0.4.1->bertopic) (4.5.0)\n",
            "Requirement already satisfied: llvmlite<0.42,>=0.41.0dev0 in /usr/local/lib/python3.10/dist-packages (from numba>=0.51.2->umap-learn>=0.5.0->bertopic) (0.41.1)\n",
            "Requirement already satisfied: six>=1.5 in /usr/local/lib/python3.10/dist-packages (from python-dateutil>=2.8.1->pandas>=1.1.5->bertopic) (1.16.0)\n",
            "Requirement already satisfied: sympy in /usr/local/lib/python3.10/dist-packages (from torch>=1.6.0->sentence-transformers>=0.4.1->bertopic) (1.12)\n",
            "Requirement already satisfied: networkx in /usr/local/lib/python3.10/dist-packages (from torch>=1.6.0->sentence-transformers>=0.4.1->bertopic) (3.2.1)\n",
            "Requirement already satisfied: jinja2 in /usr/local/lib/python3.10/dist-packages (from torch>=1.6.0->sentence-transformers>=0.4.1->bertopic) (3.1.2)\n",
            "Requirement already satisfied: triton==2.1.0 in /usr/local/lib/python3.10/dist-packages (from torch>=1.6.0->sentence-transformers>=0.4.1->bertopic) (2.1.0)\n",
            "Requirement already satisfied: regex!=2019.12.17 in /usr/local/lib/python3.10/dist-packages (from transformers<5.0.0,>=4.6.0->sentence-transformers>=0.4.1->bertopic) (2023.6.3)\n",
            "Requirement already satisfied: tokenizers<0.19,>=0.14 in /usr/local/lib/python3.10/dist-packages (from transformers<5.0.0,>=4.6.0->sentence-transformers>=0.4.1->bertopic) (0.15.0)\n",
            "Requirement already satisfied: safetensors>=0.3.1 in /usr/local/lib/python3.10/dist-packages (from transformers<5.0.0,>=4.6.0->sentence-transformers>=0.4.1->bertopic) (0.4.0)\n",
            "Requirement already satisfied: click in /usr/local/lib/python3.10/dist-packages (from nltk->sentence-transformers>=0.4.1->bertopic) (8.1.7)\n",
            "Requirement already satisfied: pillow!=8.3.*,>=5.3.0 in /usr/local/lib/python3.10/dist-packages (from torchvision->sentence-transformers>=0.4.1->bertopic) (9.4.0)\n",
            "Requirement already satisfied: MarkupSafe>=2.0 in /usr/local/lib/python3.10/dist-packages (from jinja2->torch>=1.6.0->sentence-transformers>=0.4.1->bertopic) (2.1.3)\n",
            "Requirement already satisfied: charset-normalizer<4,>=2 in /usr/local/lib/python3.10/dist-packages (from requests->huggingface-hub>=0.4.0->sentence-transformers>=0.4.1->bertopic) (3.3.2)\n",
            "Requirement already satisfied: idna<4,>=2.5 in /usr/local/lib/python3.10/dist-packages (from requests->huggingface-hub>=0.4.0->sentence-transformers>=0.4.1->bertopic) (3.4)\n",
            "Requirement already satisfied: urllib3<3,>=1.21.1 in /usr/local/lib/python3.10/dist-packages (from requests->huggingface-hub>=0.4.0->sentence-transformers>=0.4.1->bertopic) (2.0.7)\n",
            "Requirement already satisfied: certifi>=2017.4.17 in /usr/local/lib/python3.10/dist-packages (from requests->huggingface-hub>=0.4.0->sentence-transformers>=0.4.1->bertopic) (2023.7.22)\n",
            "Requirement already satisfied: mpmath>=0.19 in /usr/local/lib/python3.10/dist-packages (from sympy->torch>=1.6.0->sentence-transformers>=0.4.1->bertopic) (1.3.0)\n",
            "Building wheels for collected packages: hdbscan, sentence-transformers, umap-learn\n",
            "  Building wheel for hdbscan (pyproject.toml) ... \u001b[?25l\u001b[?25hdone\n",
            "  Created wheel for hdbscan: filename=hdbscan-0.8.33-cp310-cp310-linux_x86_64.whl size=3039165 sha256=f7349385902844f12b2bb2a75966d06c17cb52d0ec4f8332be128683c47d80ad\n",
            "  Stored in directory: /root/.cache/pip/wheels/75/0b/3b/dc4f60b7cc455efaefb62883a7483e76f09d06ca81cf87d610\n",
            "  Building wheel for sentence-transformers (setup.py) ... \u001b[?25l\u001b[?25hdone\n",
            "  Created wheel for sentence-transformers: filename=sentence_transformers-2.2.2-py3-none-any.whl size=125923 sha256=901065e05d65ac33661ae2b5811cada099fcd1dd8f0a1971c46ec106b0b37e8b\n",
            "  Stored in directory: /root/.cache/pip/wheels/62/f2/10/1e606fd5f02395388f74e7462910fe851042f97238cbbd902f\n",
            "  Building wheel for umap-learn (setup.py) ... \u001b[?25l\u001b[?25hdone\n",
            "  Created wheel for umap-learn: filename=umap_learn-0.5.5-py3-none-any.whl size=86831 sha256=adda8e7a8358efbcc8ff8c813732a951a0472e76b64a37662ebb19f8c989c2cc\n",
            "  Stored in directory: /root/.cache/pip/wheels/3a/70/07/428d2b58660a1a3b431db59b806a10da736612ebbc66c1bcc5\n",
            "Successfully built hdbscan sentence-transformers umap-learn\n",
            "Installing collected packages: sentencepiece, cython, pynndescent, hdbscan, umap-learn, sentence-transformers, bertopic\n",
            "  Attempting uninstall: cython\n",
            "    Found existing installation: Cython 3.0.5\n",
            "    Uninstalling Cython-3.0.5:\n",
            "      Successfully uninstalled Cython-3.0.5\n",
            "Successfully installed bertopic-0.15.0 cython-0.29.36 hdbscan-0.8.33 pynndescent-0.5.11 sentence-transformers-2.2.2 sentencepiece-0.1.99 umap-learn-0.5.5\n"
          ]
        }
      ],
      "source": [
        "# Install bertopic\n",
        "!pip install bertopic"
      ]
    },
    {
      "cell_type": "code",
      "source": [
        "from google.colab import drive\n",
        "drive.mount('/content/drive')"
      ],
      "metadata": {
        "colab": {
          "base_uri": "https://localhost:8080/"
        },
        "id": "FO4KxySkdyfC",
        "outputId": "dcef5570-55c1-43e5-f8cd-f7c4911e54f4"
      },
      "execution_count": 2,
      "outputs": [
        {
          "output_type": "stream",
          "name": "stdout",
          "text": [
            "Mounted at /content/drive\n"
          ]
        }
      ]
    },
    {
      "cell_type": "code",
      "source": [
        "with open(\"/content/drive/MyDrive/stopwords.txt\", \"r\", encoding=\"utf-8\") as text_file:\n",
        "    content = text_file.read()\n",
        "    stopwords = content.strip().split()\n",
        "    print(stopwords)"
      ],
      "metadata": {
        "colab": {
          "base_uri": "https://localhost:8080/"
        },
        "id": "vDkjU00fd1lD",
        "outputId": "cef8be40-4c33-4198-f90c-82468feba817"
      },
      "execution_count": 3,
      "outputs": [
        {
          "output_type": "stream",
          "name": "stdout",
          "text": [
            "['က', 'ကတော့', 'ကနေ', 'ကရော', 'ကို', 'ကိုယ့်', 'ကောင်းကောင်း', 'ကျ', 'ကျေးဇူးပြု', 'ကျွန်တော်', 'ကြ', 'ကြား', 'ကြိမ်', 'ကြီး', 'ကြောင့်', 'ခင်ဗျ', 'ခင်ဗျာ', 'ခဏ', 'ခဏခဏ', 'ခန့်', 'ခဗျ', 'ခါ', 'ခါနီး', 'ခု', 'ခဲ့', 'ချက်ချင်း', 'ချင်', 'ချိန်', 'ခွဲ', 'ငါးဆယ်', 'စတင်', 'စတဲ့', 'စဖြစ်', 'စရာ', 'စသည်', 'စေ', 'ဆက်သောက်', 'ဆို', 'ဆိုတာ', 'ဆိုတာက', 'ဆိုပြီး', 'ဆိုရင်', 'ဆောင်', 'တကယ်', 'တက်', 'တက်တဲ့', 'တင်', 'တစ်ခါတစ်ခါ', 'တစ်ခါတစ်ရံ', 'တစ်ခါတစ်လေ', 'တစ်ခုခု', 'တစ်ချက်', 'တစ်ခြား', 'တစ်ဖြည်းဖြည်း', 'တစ်လှပ်လှပ်', 'တည့်တည့်', 'တတ်', 'တယ်', 'တာ', 'တာက', 'တာကရော', 'တာတော့', 'တိုင်း', 'တို့', 'တောင်', 'တော့', 'တော်တော်များများ', 'တဲ့', 'တွင်', 'တွေ', 'ထက်', 'ထည့်', 'ထား', 'ထဲ', 'ထဲက', 'ထဲတွင်', 'ထဲမှာ', 'ဒီ', 'နည်းနည်း', 'နိင်', 'နိုင်', 'နေ', 'နေတဲ့', 'နေရင်', 'နေရင်း', 'နေရတဲ့', 'နေလို့', 'နေသူ', 'နောက်', 'နောက်ဆုံး', 'နောက်ပိုင်း', 'နော်', 'နေ့တိုင်း', 'နဲ့', 'နဲ့အမျှ', 'နှင့်', 'နှစ်', 'နှုန်း', 'ပါ', 'ပါက', 'ပါတဲ့', 'ပါဝင်', 'ပါ့', 'ပို', 'ပိုင်း', 'ပိုမို', 'ပုံမှန်အားဖြင့်', 'ပေမယ့်', 'ပေါ်', 'ပေးတဲ့', 'ပေးနိုင်တဲ့', 'ပဲ', 'ပြ', 'ပြီ', 'ပြီး', 'ပြီးတော့', 'ပြီးမှ', 'ပြီးရင်', 'ဖို့', 'ဖူး', 'ဖြင့်', 'ဖြစ်', 'ဖြစ်စေတဲ့', 'ဖြစ်ရင်', 'ဗျ', 'ဗျာ', 'ဘက်', 'ဘယ်', 'ဘယ်မှာ', 'ဘယ်လို', 'ဘယ်လောက်', 'ဘာ', 'ဘာကြောင့်', 'ဘာတွေ', 'ဘာမှ', 'ဘာလို့', 'ဘာလဲ', 'ဘူး', 'ဘဲ', 'မ', 'မကြာခဏ', 'မည်', 'မည်သည့်', 'မယ်', 'မလား', 'မလဲ', 'မဟုတ်ပဲ', 'မိမိ', 'များ', 'များများ', 'မျိုး', 'မြန်မြန်', 'မှ', 'မှန်း', 'မှာ', 'ရ', 'ရင်', 'ရင်ရော', 'ရင်လဲ', 'ရတာ', 'ရတဲ့', 'ရန်', 'ရမယ့်', 'ရယ်', 'ရာ', 'ရော', 'ရဲ့', 'ရှင်', 'ရှင့်', 'ရှိ', 'ရှိရင်', 'လည်း', 'လာ', 'လား', 'လိမ့်မယ်', 'လို', 'လိုက်', 'လိုလို', 'လို့', 'လုပ်', 'လုံး', 'လုံးဝ', 'လောက်', 'လေး', 'လဲ', 'လျှင်', 'သင့်', 'သည်', 'သည့်', 'သလား', 'သလို', 'သလောက်', 'သလဲ', 'သာ', 'သိ', 'သိနိုင်တဲ့', 'သိပ်', 'သို့', 'သုံး', 'သော်လည်း', 'ဟာ', 'ဟု', 'ဟုတ်', 'ဟုတ်ကဲ့', 'အခု', 'အစ', 'အတိုင်း', 'အတော်', 'အတွက်', 'အတွင်း', 'အထိ', 'အထူးသဖြင့်', 'အထွေထွေ', 'အနည်းဆုံး', 'အနေနဲ့', 'အပေါ်', 'အများစု', 'အမျိုးမျိုး', 'အမြန်', 'အမြဲ', 'အမြဲတမ်း', 'အရမ်း', 'အလွန်အကျွံ', 'အောင်', 'အောင့်အောင့်', 'အေး', 'အဲဒီ', 'အဲ့ဒါ', 'အဲ့လောက်', 'ဦး', 'ဦး', '၍', '၏', 'အခါ', 'သော', 'ပြန်', 'သေချာ', 'ထိ', 'သော', 'အပြင်', 'စ', 'ရေ', 'ကိုယ်', 'ကျော်', 'မှု', 'ယောက်', 'ခင်', 'ဝ', 'သ', 'ဒါ', 'ဆိုင်ရာ', 'မယ့်', 'တချို့', 'မရွေး', 'ပေါ့', 'မဖြစ်အောင်', 'ရှိမရှိ', 'သင်', 'ကျွန်မ', 'အကြောင်း', 'ထံမှ', 'ကျရင်', 'အဲဒါ', 'ခြေ', 'နောက်ပြီး', 'ရက်ပိုင်း']\n"
          ]
        }
      ]
    },
    {
      "cell_type": "code",
      "source": [
        "import pandas as pd\n",
        "pd.set_option('colwidth',0)"
      ],
      "metadata": {
        "id": "OWdWLe9ih6hd"
      },
      "execution_count": 4,
      "outputs": []
    },
    {
      "cell_type": "code",
      "source": [
        "df = pd.read_csv(\"/content/drive/MyDrive/3_domain_data.csv\",encoding=\"utf-8\")\n",
        "df.head()"
      ],
      "metadata": {
        "colab": {
          "base_uri": "https://localhost:8080/",
          "height": 258
        },
        "id": "w3-2KZONd3MU",
        "outputId": "0fe7874a-e524-4cfa-c72c-b4ae439ca3fe"
      },
      "execution_count": 5,
      "outputs": [
        {
          "output_type": "execute_result",
          "data": {
            "text/plain": [
              "                                                                                                                           sent\n",
              "0  နေပူ ထဲ ထွက် တဲ့ အခါ အဆောင်းအကာ မ ပါ ဘဲ သနပ်ခါး သို့မဟုတ် မိတ်ကပ်လိမ်း ထား မယ် ဆိုရင် လဲ နေလောင်ဒဏ် ခံ ရ နိုင် ပါ တယ် ခင်ဗျာ\n",
              "1  အဲဒါ အပြင် ပို နေ တဲ့ မ လိုအပ် တဲ့ အဝတ်အစား တွေ သိမ်း လို့ ရ ပါ တယ်                                                         \n",
              "2  လိုအပ် ပါ က အချိန် မရွေး လာရောက် မေးမြန်း အပ်နှံ လို့ ရ မှာ ဖြစ် ကြောင်း သတင်း ကောင်း ပါး လိုက် ပါ တယ် နော်                 \n",
              "3  ခေါက်သိမ်း ရ လဲ လွယ်ကူ ပါ တယ်                                                                                               \n",
              "4  လိုအပ် တာ တွေ ကို တစ်နေရာ တည်း မှာ ဝယ်ယူ နိုင် လို့ ရုံးခန်း အတွက် ဘာ ပဲ လိုလို အိုးရှင်း ကို သာ လှမ်း ခဲ့ လိုက် တော့       "
            ],
            "text/html": [
              "\n",
              "  <div id=\"df-dba62006-4e45-4826-91ed-f87123ff1f77\" class=\"colab-df-container\">\n",
              "    <div>\n",
              "<style scoped>\n",
              "    .dataframe tbody tr th:only-of-type {\n",
              "        vertical-align: middle;\n",
              "    }\n",
              "\n",
              "    .dataframe tbody tr th {\n",
              "        vertical-align: top;\n",
              "    }\n",
              "\n",
              "    .dataframe thead th {\n",
              "        text-align: right;\n",
              "    }\n",
              "</style>\n",
              "<table border=\"1\" class=\"dataframe\">\n",
              "  <thead>\n",
              "    <tr style=\"text-align: right;\">\n",
              "      <th></th>\n",
              "      <th>sent</th>\n",
              "    </tr>\n",
              "  </thead>\n",
              "  <tbody>\n",
              "    <tr>\n",
              "      <th>0</th>\n",
              "      <td>နေပူ ထဲ ထွက် တဲ့ အခါ အဆောင်းအကာ မ ပါ ဘဲ သနပ်ခါး သို့မဟုတ် မိတ်ကပ်လိမ်း ထား မယ် ဆိုရင် လဲ နေလောင်ဒဏ် ခံ ရ နိုင် ပါ တယ် ခင်ဗျာ</td>\n",
              "    </tr>\n",
              "    <tr>\n",
              "      <th>1</th>\n",
              "      <td>အဲဒါ အပြင် ပို နေ တဲ့ မ လိုအပ် တဲ့ အဝတ်အစား တွေ သိမ်း လို့ ရ ပါ တယ်</td>\n",
              "    </tr>\n",
              "    <tr>\n",
              "      <th>2</th>\n",
              "      <td>လိုအပ် ပါ က အချိန် မရွေး လာရောက် မေးမြန်း အပ်နှံ လို့ ရ မှာ ဖြစ် ကြောင်း သတင်း ကောင်း ပါး လိုက် ပါ တယ် နော်</td>\n",
              "    </tr>\n",
              "    <tr>\n",
              "      <th>3</th>\n",
              "      <td>ခေါက်သိမ်း ရ လဲ လွယ်ကူ ပါ တယ်</td>\n",
              "    </tr>\n",
              "    <tr>\n",
              "      <th>4</th>\n",
              "      <td>လိုအပ် တာ တွေ ကို တစ်နေရာ တည်း မှာ ဝယ်ယူ နိုင် လို့ ရုံးခန်း အတွက် ဘာ ပဲ လိုလို အိုးရှင်း ကို သာ လှမ်း ခဲ့ လိုက် တော့</td>\n",
              "    </tr>\n",
              "  </tbody>\n",
              "</table>\n",
              "</div>\n",
              "    <div class=\"colab-df-buttons\">\n",
              "\n",
              "  <div class=\"colab-df-container\">\n",
              "    <button class=\"colab-df-convert\" onclick=\"convertToInteractive('df-dba62006-4e45-4826-91ed-f87123ff1f77')\"\n",
              "            title=\"Convert this dataframe to an interactive table.\"\n",
              "            style=\"display:none;\">\n",
              "\n",
              "  <svg xmlns=\"http://www.w3.org/2000/svg\" height=\"24px\" viewBox=\"0 -960 960 960\">\n",
              "    <path d=\"M120-120v-720h720v720H120Zm60-500h600v-160H180v160Zm220 220h160v-160H400v160Zm0 220h160v-160H400v160ZM180-400h160v-160H180v160Zm440 0h160v-160H620v160ZM180-180h160v-160H180v160Zm440 0h160v-160H620v160Z\"/>\n",
              "  </svg>\n",
              "    </button>\n",
              "\n",
              "  <style>\n",
              "    .colab-df-container {\n",
              "      display:flex;\n",
              "      gap: 12px;\n",
              "    }\n",
              "\n",
              "    .colab-df-convert {\n",
              "      background-color: #E8F0FE;\n",
              "      border: none;\n",
              "      border-radius: 50%;\n",
              "      cursor: pointer;\n",
              "      display: none;\n",
              "      fill: #1967D2;\n",
              "      height: 32px;\n",
              "      padding: 0 0 0 0;\n",
              "      width: 32px;\n",
              "    }\n",
              "\n",
              "    .colab-df-convert:hover {\n",
              "      background-color: #E2EBFA;\n",
              "      box-shadow: 0px 1px 2px rgba(60, 64, 67, 0.3), 0px 1px 3px 1px rgba(60, 64, 67, 0.15);\n",
              "      fill: #174EA6;\n",
              "    }\n",
              "\n",
              "    .colab-df-buttons div {\n",
              "      margin-bottom: 4px;\n",
              "    }\n",
              "\n",
              "    [theme=dark] .colab-df-convert {\n",
              "      background-color: #3B4455;\n",
              "      fill: #D2E3FC;\n",
              "    }\n",
              "\n",
              "    [theme=dark] .colab-df-convert:hover {\n",
              "      background-color: #434B5C;\n",
              "      box-shadow: 0px 1px 3px 1px rgba(0, 0, 0, 0.15);\n",
              "      filter: drop-shadow(0px 1px 2px rgba(0, 0, 0, 0.3));\n",
              "      fill: #FFFFFF;\n",
              "    }\n",
              "  </style>\n",
              "\n",
              "    <script>\n",
              "      const buttonEl =\n",
              "        document.querySelector('#df-dba62006-4e45-4826-91ed-f87123ff1f77 button.colab-df-convert');\n",
              "      buttonEl.style.display =\n",
              "        google.colab.kernel.accessAllowed ? 'block' : 'none';\n",
              "\n",
              "      async function convertToInteractive(key) {\n",
              "        const element = document.querySelector('#df-dba62006-4e45-4826-91ed-f87123ff1f77');\n",
              "        const dataTable =\n",
              "          await google.colab.kernel.invokeFunction('convertToInteractive',\n",
              "                                                    [key], {});\n",
              "        if (!dataTable) return;\n",
              "\n",
              "        const docLinkHtml = 'Like what you see? Visit the ' +\n",
              "          '<a target=\"_blank\" href=https://colab.research.google.com/notebooks/data_table.ipynb>data table notebook</a>'\n",
              "          + ' to learn more about interactive tables.';\n",
              "        element.innerHTML = '';\n",
              "        dataTable['output_type'] = 'display_data';\n",
              "        await google.colab.output.renderOutput(dataTable, element);\n",
              "        const docLink = document.createElement('div');\n",
              "        docLink.innerHTML = docLinkHtml;\n",
              "        element.appendChild(docLink);\n",
              "      }\n",
              "    </script>\n",
              "  </div>\n",
              "\n",
              "\n",
              "<div id=\"df-493b1ebb-3d6d-4e70-955b-0cb336bc27a8\">\n",
              "  <button class=\"colab-df-quickchart\" onclick=\"quickchart('df-493b1ebb-3d6d-4e70-955b-0cb336bc27a8')\"\n",
              "            title=\"Suggest charts\"\n",
              "            style=\"display:none;\">\n",
              "\n",
              "<svg xmlns=\"http://www.w3.org/2000/svg\" height=\"24px\"viewBox=\"0 0 24 24\"\n",
              "     width=\"24px\">\n",
              "    <g>\n",
              "        <path d=\"M19 3H5c-1.1 0-2 .9-2 2v14c0 1.1.9 2 2 2h14c1.1 0 2-.9 2-2V5c0-1.1-.9-2-2-2zM9 17H7v-7h2v7zm4 0h-2V7h2v10zm4 0h-2v-4h2v4z\"/>\n",
              "    </g>\n",
              "</svg>\n",
              "  </button>\n",
              "\n",
              "<style>\n",
              "  .colab-df-quickchart {\n",
              "      --bg-color: #E8F0FE;\n",
              "      --fill-color: #1967D2;\n",
              "      --hover-bg-color: #E2EBFA;\n",
              "      --hover-fill-color: #174EA6;\n",
              "      --disabled-fill-color: #AAA;\n",
              "      --disabled-bg-color: #DDD;\n",
              "  }\n",
              "\n",
              "  [theme=dark] .colab-df-quickchart {\n",
              "      --bg-color: #3B4455;\n",
              "      --fill-color: #D2E3FC;\n",
              "      --hover-bg-color: #434B5C;\n",
              "      --hover-fill-color: #FFFFFF;\n",
              "      --disabled-bg-color: #3B4455;\n",
              "      --disabled-fill-color: #666;\n",
              "  }\n",
              "\n",
              "  .colab-df-quickchart {\n",
              "    background-color: var(--bg-color);\n",
              "    border: none;\n",
              "    border-radius: 50%;\n",
              "    cursor: pointer;\n",
              "    display: none;\n",
              "    fill: var(--fill-color);\n",
              "    height: 32px;\n",
              "    padding: 0;\n",
              "    width: 32px;\n",
              "  }\n",
              "\n",
              "  .colab-df-quickchart:hover {\n",
              "    background-color: var(--hover-bg-color);\n",
              "    box-shadow: 0 1px 2px rgba(60, 64, 67, 0.3), 0 1px 3px 1px rgba(60, 64, 67, 0.15);\n",
              "    fill: var(--button-hover-fill-color);\n",
              "  }\n",
              "\n",
              "  .colab-df-quickchart-complete:disabled,\n",
              "  .colab-df-quickchart-complete:disabled:hover {\n",
              "    background-color: var(--disabled-bg-color);\n",
              "    fill: var(--disabled-fill-color);\n",
              "    box-shadow: none;\n",
              "  }\n",
              "\n",
              "  .colab-df-spinner {\n",
              "    border: 2px solid var(--fill-color);\n",
              "    border-color: transparent;\n",
              "    border-bottom-color: var(--fill-color);\n",
              "    animation:\n",
              "      spin 1s steps(1) infinite;\n",
              "  }\n",
              "\n",
              "  @keyframes spin {\n",
              "    0% {\n",
              "      border-color: transparent;\n",
              "      border-bottom-color: var(--fill-color);\n",
              "      border-left-color: var(--fill-color);\n",
              "    }\n",
              "    20% {\n",
              "      border-color: transparent;\n",
              "      border-left-color: var(--fill-color);\n",
              "      border-top-color: var(--fill-color);\n",
              "    }\n",
              "    30% {\n",
              "      border-color: transparent;\n",
              "      border-left-color: var(--fill-color);\n",
              "      border-top-color: var(--fill-color);\n",
              "      border-right-color: var(--fill-color);\n",
              "    }\n",
              "    40% {\n",
              "      border-color: transparent;\n",
              "      border-right-color: var(--fill-color);\n",
              "      border-top-color: var(--fill-color);\n",
              "    }\n",
              "    60% {\n",
              "      border-color: transparent;\n",
              "      border-right-color: var(--fill-color);\n",
              "    }\n",
              "    80% {\n",
              "      border-color: transparent;\n",
              "      border-right-color: var(--fill-color);\n",
              "      border-bottom-color: var(--fill-color);\n",
              "    }\n",
              "    90% {\n",
              "      border-color: transparent;\n",
              "      border-bottom-color: var(--fill-color);\n",
              "    }\n",
              "  }\n",
              "</style>\n",
              "\n",
              "  <script>\n",
              "    async function quickchart(key) {\n",
              "      const quickchartButtonEl =\n",
              "        document.querySelector('#' + key + ' button');\n",
              "      quickchartButtonEl.disabled = true;  // To prevent multiple clicks.\n",
              "      quickchartButtonEl.classList.add('colab-df-spinner');\n",
              "      try {\n",
              "        const charts = await google.colab.kernel.invokeFunction(\n",
              "            'suggestCharts', [key], {});\n",
              "      } catch (error) {\n",
              "        console.error('Error during call to suggestCharts:', error);\n",
              "      }\n",
              "      quickchartButtonEl.classList.remove('colab-df-spinner');\n",
              "      quickchartButtonEl.classList.add('colab-df-quickchart-complete');\n",
              "    }\n",
              "    (() => {\n",
              "      let quickchartButtonEl =\n",
              "        document.querySelector('#df-493b1ebb-3d6d-4e70-955b-0cb336bc27a8 button');\n",
              "      quickchartButtonEl.style.display =\n",
              "        google.colab.kernel.accessAllowed ? 'block' : 'none';\n",
              "    })();\n",
              "  </script>\n",
              "</div>\n",
              "    </div>\n",
              "  </div>\n"
            ]
          },
          "metadata": {},
          "execution_count": 5
        }
      ]
    },
    {
      "cell_type": "code",
      "source": [
        "len(df)"
      ],
      "metadata": {
        "colab": {
          "base_uri": "https://localhost:8080/"
        },
        "id": "rhFwioNrUlNE",
        "outputId": "95fa457d-b575-4d4d-8e33-ca40508e9c1e"
      },
      "execution_count": 6,
      "outputs": [
        {
          "output_type": "execute_result",
          "data": {
            "text/plain": [
              "30000"
            ]
          },
          "metadata": {},
          "execution_count": 6
        }
      ]
    },
    {
      "cell_type": "code",
      "source": [
        "df[\"sent\"] = df[\"sent\"].fillna(\"\")\n",
        "len(df)"
      ],
      "metadata": {
        "colab": {
          "base_uri": "https://localhost:8080/"
        },
        "id": "CZ7fTTBdUm32",
        "outputId": "d8ad7fe3-634f-4379-d55a-50ee338b09da"
      },
      "execution_count": 7,
      "outputs": [
        {
          "output_type": "execute_result",
          "data": {
            "text/plain": [
              "30000"
            ]
          },
          "metadata": {},
          "execution_count": 7
        }
      ]
    },
    {
      "cell_type": "code",
      "source": [
        "# Tokenizer for Burmese\n",
        "def tokenize(line):\n",
        "    sentence = line.split(\" \")\n",
        "    return sentence"
      ],
      "metadata": {
        "id": "RoH65HKLmyst"
      },
      "execution_count": 8,
      "outputs": []
    },
    {
      "cell_type": "code",
      "source": [
        "from sklearn.pipeline import make_pipeline\n",
        "from sklearn.decomposition import TruncatedSVD\n",
        "from sklearn.feature_extraction.text import TfidfVectorizer\n",
        "\n",
        "pipe = make_pipeline(\n",
        "    TfidfVectorizer(tokenizer=tokenize, stop_words=stopwords),\n",
        "    TruncatedSVD(100)\n",
        ")\n",
        "# topic_model = BERTopic(embedding_model=pipe)"
      ],
      "metadata": {
        "id": "4XaJVlJ8dBrt"
      },
      "execution_count": 9,
      "outputs": []
    },
    {
      "cell_type": "code",
      "source": [
        "# test\n",
        "transformed_data = pipe.fit_transform(df[\"sent\"])\n",
        "transformed_data.shape"
      ],
      "metadata": {
        "colab": {
          "base_uri": "https://localhost:8080/"
        },
        "id": "yrG3E0r5nFyd",
        "outputId": "fc12a12f-ad6f-4e3f-f3e7-58eeef42d22f"
      },
      "execution_count": 10,
      "outputs": [
        {
          "output_type": "stream",
          "name": "stderr",
          "text": [
            "/usr/local/lib/python3.10/dist-packages/sklearn/feature_extraction/text.py:528: UserWarning: The parameter 'token_pattern' will not be used since 'tokenizer' is not None'\n",
            "  warnings.warn(\n"
          ]
        },
        {
          "output_type": "execute_result",
          "data": {
            "text/plain": [
              "(30000, 100)"
            ]
          },
          "metadata": {},
          "execution_count": 10
        }
      ]
    },
    {
      "cell_type": "markdown",
      "source": [
        "# Dimensionality Reduction"
      ],
      "metadata": {
        "id": "oAILofIJdSUt"
      }
    },
    {
      "cell_type": "code",
      "source": [
        "# UMAP\n",
        "from bertopic import BERTopic\n",
        "from umap import UMAP\n",
        "\n",
        "umap_model = UMAP(n_neighbors=15, n_components=2, min_dist=0.0, metric='cosine')\n",
        "# topic_model = BERTopic(umap_model=umap_model)"
      ],
      "metadata": {
        "id": "Nt-KjYI-dmPI"
      },
      "execution_count": 11,
      "outputs": []
    },
    {
      "cell_type": "code",
      "source": [
        "# PCA\n",
        "from sklearn.decomposition import PCA\n",
        "\n",
        "dim_model = PCA(n_components=2)\n",
        "# topic_model = BERTopic(umap_model=dim_model)"
      ],
      "metadata": {
        "id": "HO_IYsisdVjc"
      },
      "execution_count": 12,
      "outputs": []
    },
    {
      "cell_type": "code",
      "source": [
        "# test\n",
        "test_data = transformed_data\n",
        "umap_embeddings = dim_model.fit_transform(test_data)\n",
        "umap_embeddings"
      ],
      "metadata": {
        "colab": {
          "base_uri": "https://localhost:8080/"
        },
        "id": "WGTPjKlrpwE-",
        "outputId": "7c8cdfe2-f849-452b-8c99-97ff3166e7f7"
      },
      "execution_count": 13,
      "outputs": [
        {
          "output_type": "execute_result",
          "data": {
            "text/plain": [
              "array([[-0.019634  , -0.022588  ],\n",
              "       [-0.01391259, -0.01832445],\n",
              "       [-0.03609168, -0.0423643 ],\n",
              "       ...,\n",
              "       [ 0.88549845,  0.12929561],\n",
              "       [ 0.02898938, -0.02757884],\n",
              "       [-0.03385092, -0.02894862]])"
            ]
          },
          "metadata": {},
          "execution_count": 13
        }
      ]
    },
    {
      "cell_type": "markdown",
      "source": [
        "# Clustering"
      ],
      "metadata": {
        "id": "QC3YZHz2eDeY"
      }
    },
    {
      "cell_type": "code",
      "source": [
        "# HDBSCAN\n",
        "from hdbscan import HDBSCAN\n",
        "\n",
        "hdbscan_model = HDBSCAN(min_cluster_size=50, metric='euclidean', cluster_selection_method='eom', prediction_data=True)\n",
        "# topic_model = BERTopic(hdbscan_model=hdbscan_model)"
      ],
      "metadata": {
        "id": "hOjPasMIeY2a"
      },
      "execution_count": 14,
      "outputs": []
    },
    {
      "cell_type": "code",
      "source": [
        "# test\n",
        "hdbscan_model.fit(umap_embeddings)\n",
        "\n",
        "# Get the predicted cluster labels\n",
        "cluster_labels = hdbscan_model.labels_\n",
        "\n",
        "cluster_labels"
      ],
      "metadata": {
        "colab": {
          "base_uri": "https://localhost:8080/"
        },
        "id": "e7OXsczqtQpE",
        "outputId": "13bbd137-7311-4491-bf00-6357e3557bf3"
      },
      "execution_count": 15,
      "outputs": [
        {
          "output_type": "execute_result",
          "data": {
            "text/plain": [
              "array([-1, -1, -1, ..., -1, -1, -1])"
            ]
          },
          "metadata": {},
          "execution_count": 15
        }
      ]
    },
    {
      "cell_type": "code",
      "source": [
        "num_labels = len(set(cluster_labels))\n",
        "num_labels"
      ],
      "metadata": {
        "colab": {
          "base_uri": "https://localhost:8080/"
        },
        "id": "ZODDPZsW2ghb",
        "outputId": "cdcb0e22-535b-483d-d0ef-3fcd6e6992e3"
      },
      "execution_count": 16,
      "outputs": [
        {
          "output_type": "execute_result",
          "data": {
            "text/plain": [
              "33"
            ]
          },
          "metadata": {},
          "execution_count": 16
        }
      ]
    },
    {
      "cell_type": "code",
      "source": [
        "# K-Means\n",
        "from sklearn.cluster import KMeans\n",
        "\n",
        "cluster_model = KMeans(n_clusters=3)\n",
        "# topic_model = BERTopic(hdbscan_model=cluster_model)"
      ],
      "metadata": {
        "id": "yMuN2K_zeb46"
      },
      "execution_count": 17,
      "outputs": []
    },
    {
      "cell_type": "code",
      "source": [
        "# test\n",
        "cluster_labels = cluster_model.fit_predict(umap_embeddings)\n",
        "cluster_labels"
      ],
      "metadata": {
        "colab": {
          "base_uri": "https://localhost:8080/"
        },
        "id": "STdvb9LO0M_q",
        "outputId": "c5b512e8-caf5-4e76-a9ee-7e3fa2f90c4f"
      },
      "execution_count": 18,
      "outputs": [
        {
          "output_type": "execute_result",
          "data": {
            "text/plain": [
              "array([0, 0, 0, ..., 1, 0, 0], dtype=int32)"
            ]
          },
          "metadata": {},
          "execution_count": 18
        }
      ]
    },
    {
      "cell_type": "code",
      "source": [
        "num_labels = len(set(cluster_labels))\n",
        "num_labels"
      ],
      "metadata": {
        "colab": {
          "base_uri": "https://localhost:8080/"
        },
        "id": "IoN2p7rM1ZCh",
        "outputId": "a403560d-f57b-434d-c916-9641d68bfd73"
      },
      "execution_count": 19,
      "outputs": [
        {
          "output_type": "execute_result",
          "data": {
            "text/plain": [
              "3"
            ]
          },
          "metadata": {},
          "execution_count": 19
        }
      ]
    },
    {
      "cell_type": "code",
      "source": [
        "# Agglomerative Clustering\n",
        "from sklearn.cluster import AgglomerativeClustering\n",
        "\n",
        "cluster_model = AgglomerativeClustering(n_clusters=3)\n",
        "# topic_model = BERTopic(hdbscan_model=cluster_model)"
      ],
      "metadata": {
        "id": "8giWLglZepss"
      },
      "execution_count": 20,
      "outputs": []
    },
    {
      "cell_type": "markdown",
      "source": [
        "# Vectorizers"
      ],
      "metadata": {
        "id": "iM08LlJEeyp7"
      }
    },
    {
      "cell_type": "code",
      "execution_count": 21,
      "metadata": {
        "id": "9J9GpQnDEuhc"
      },
      "outputs": [],
      "source": [
        "from sklearn.feature_extraction.text import TfidfVectorizer\n",
        "vectorizer_model = TfidfVectorizer(stop_words=stopwords, tokenizer=tokenize)\n",
        "# topic_model = BERTopic(vectorizer_model=vectorizer_model)"
      ]
    },
    {
      "cell_type": "code",
      "source": [
        "# test\n",
        "tokenized_data = vectorizer_model.fit_transform(df[\"sent\"])\n",
        "tokenized_data.shape"
      ],
      "metadata": {
        "colab": {
          "base_uri": "https://localhost:8080/"
        },
        "id": "_ELvTeABuO9k",
        "outputId": "3a03e4a3-53dc-4914-b22a-ea748cedd15c"
      },
      "execution_count": 22,
      "outputs": [
        {
          "output_type": "execute_result",
          "data": {
            "text/plain": [
              "(30000, 9552)"
            ]
          },
          "metadata": {},
          "execution_count": 22
        }
      ]
    },
    {
      "cell_type": "markdown",
      "source": [
        "# c-TFIDF"
      ],
      "metadata": {
        "id": "awRJWa9sg2Hd"
      }
    },
    {
      "cell_type": "code",
      "source": [
        "from bertopic.vectorizers import ClassTfidfTransformer\n",
        "\n",
        "ctfidf_model = ClassTfidfTransformer(reduce_frequent_words=True)\n",
        "# topic_model = BERTopic(ctfidf_model=ctfidf_model)"
      ],
      "metadata": {
        "id": "QbE3rtmugbvR"
      },
      "execution_count": 23,
      "outputs": []
    },
    {
      "cell_type": "code",
      "source": [
        "# test\n",
        "from sklearn.feature_extraction.text import TfidfVectorizer\n",
        "\n",
        "tfidf_vectorizer = TfidfVectorizer()\n",
        "count_matrix = tfidf_vectorizer.fit_transform(df[\"sent\"])\n",
        "\n",
        "tfidf_matrix = ctfidf_model.fit_transform(count_matrix)\n",
        "\n",
        "# View the transformed matrix\n",
        "print(tfidf_matrix)\n",
        "print(tfidf_matrix.toarray())"
      ],
      "metadata": {
        "colab": {
          "base_uri": "https://localhost:8080/"
        },
        "id": "z49J0NnBvIkF",
        "outputId": "dc449d15-9d27-442c-ef52-92b672fd5354"
      },
      "execution_count": 24,
      "outputs": [
        {
          "output_type": "stream",
          "name": "stdout",
          "text": [
            "  (0, 484)\t0.00029468082037931723\n",
            "  (0, 503)\t0.001273669705403633\n",
            "  (0, 478)\t0.00033136376693738783\n",
            "  (0, 457)\t0.0023367686682169153\n",
            "  (0, 368)\t0.007332495483493913\n",
            "  (0, 17)\t0.0015752835691898739\n",
            "  (0, 355)\t0.00022990271247668565\n",
            "  (0, 385)\t0.00016839365481237668\n",
            "  (0, 216)\t0.007980243548748791\n",
            "  (0, 183)\t5.849013420378341e-05\n",
            "  (0, 37)\t0.0008389088992350278\n",
            "  (1, 183)\t9.116273071453365e-05\n",
            "  (1, 532)\t0.0009685714868744517\n",
            "  (1, 570)\t0.012291045489145582\n",
            "  (1, 493)\t0.0005505222434663714\n",
            "  (2, 484)\t0.0004039980159634662\n",
            "  (2, 183)\t8.018811044895502e-05\n",
            "  (2, 532)\t0.0008519700623098479\n",
            "  (2, 356)\t0.004841904944961862\n",
            "  (2, 452)\t0.015335024066021857\n",
            "  (3, 183)\t0.00029135611978498146\n",
            "  (4, 532)\t0.0006206193716359621\n",
            "  (4, 159)\t0.0002963914531898321\n",
            "  (4, 167)\t0.001486906801766953\n",
            "  (4, 439)\t0.0009610609147816115\n",
            "  :\t:\n",
            "  (29984, 183)\t8.279376022961248e-05\n",
            "  (29984, 76)\t0.002707292800978724\n",
            "  (29984, 409)\t0.0005762592487172747\n",
            "  (29984, 65)\t0.004534638937152901\n",
            "  (29985, 15)\t0.005432472461350211\n",
            "  (29986, 159)\t0.0003936266117339974\n",
            "  (29986, 348)\t0.0028710150687824595\n",
            "  (29986, 427)\t0.004159003157337474\n",
            "  (29987, 385)\t0.0004082974295997789\n",
            "  (29987, 76)\t0.004637363739488146\n",
            "  (29988, 183)\t0.0001757820565826961\n",
            "  (29988, 512)\t0.0009123463047630891\n",
            "  (29989, 37)\t0.002747974435640033\n",
            "  (29990, 317)\t0.011842669954036877\n",
            "  (29991, 538)\t0.003909513193251861\n",
            "  (29992, 183)\t8.365871353374674e-05\n",
            "  (29992, 37)\t0.0011998953368357\n",
            "  (29992, 532)\t0.0006285076069268264\n",
            "  (29992, 559)\t0.0007004109869319791\n",
            "  (29992, 258)\t0.0024267366073521725\n",
            "  (29992, 129)\t0.000875426191529408\n",
            "  (29995, 416)\t0.0012169263484386366\n",
            "  (29996, 532)\t0.0008239617651824495\n",
            "  (29996, 111)\t0.0017433409261286426\n",
            "  (29996, 200)\t0.0035729358162499593\n",
            "[[0. 0. 0. ... 0. 0. 0.]\n",
            " [0. 0. 0. ... 0. 0. 0.]\n",
            " [0. 0. 0. ... 0. 0. 0.]\n",
            " ...\n",
            " [0. 0. 0. ... 0. 0. 0.]\n",
            " [0. 0. 0. ... 0. 0. 0.]\n",
            " [0. 0. 0. ... 0. 0. 0.]]\n"
          ]
        }
      ]
    },
    {
      "cell_type": "markdown",
      "metadata": {
        "id": "KzF4rNEzVYr-"
      },
      "source": [
        "## One Topic Model for Multiple Group"
      ]
    },
    {
      "cell_type": "code",
      "execution_count": 25,
      "metadata": {
        "id": "ZSy8Iq0KUKMH"
      },
      "outputs": [],
      "source": [
        "# Initiate BERTopic\n",
        "topic_model = BERTopic(embedding_model=pipe,\n",
        "                       umap_model=dim_model,\n",
        "                       hdbscan_model=hdbscan_model,\n",
        "                       vectorizer_model=vectorizer_model,\n",
        "                       ctfidf_model=ctfidf_model)"
      ]
    },
    {
      "cell_type": "code",
      "source": [
        "# Fit the topic model and obtain the topics for each sentence\n",
        "topics, probabilities = topic_model.fit_transform(df.sent)"
      ],
      "metadata": {
        "id": "rxHuG_UdWLYc"
      },
      "execution_count": 26,
      "outputs": []
    },
    {
      "cell_type": "markdown",
      "source": [
        "# Results"
      ],
      "metadata": {
        "id": "im742NF4mPIm"
      }
    },
    {
      "cell_type": "code",
      "source": [
        "topic_model.get_topic_info()"
      ],
      "metadata": {
        "colab": {
          "base_uri": "https://localhost:8080/",
          "height": 1000
        },
        "id": "pKqF75UoWWKT",
        "outputId": "de13e52d-8d78-4b82-84c2-f74c3141c284"
      },
      "execution_count": 27,
      "outputs": [
        {
          "output_type": "execute_result",
          "data": {
            "text/plain": [
              "    Topic  Count                                      Name  \\\n",
              "0  -1      19382  -1_ဝယ်_သွေးတိုး_ဆရာ_ဆရာဝန်                 \n",
              "1   0      6295   0_နေထိုင်_အော်_ကပ်_အွန်လိုင်း              \n",
              "2   1      1433   1_ရောင်းချ_မိတ်ဆက်_ပို့ဆောင်_ပေး           \n",
              "3   2      743    2_သောက်_ဆေး_သွေးကျဆေး_အရက်                 \n",
              "4   3      343    3_ဝတ်_ထွက်_မြင်_ဆိုင်                      \n",
              "5   4      201    4_သွား_သေး_အာလူး_စား                       \n",
              "6   5      128    5_တစ်_စင်_နေ့_ပွဲ                          \n",
              "7   6      116    6_သွေး_တိုး_အဆင်ပြေ_ကြည့်                  \n",
              "8   7      91     7_သူ_ဈေး_ဆံသားခြောက်_အဝိုင်း               \n",
              "9   8      86     8_ပျော်_စိတ်_အကောင်းမြင်_ကုန်              \n",
              "10  9      85     9_ကောင်း_စိတ်ထား_ကံကောင်း_အကြောအထူးကု      \n",
              "11  10     81     10_သောက်_ဆေး_ချင်း_သက်သာ                   \n",
              "12  11     80     11_ဌာနမှူး_ခပ်ပြတ်ပြတ်_အတည်_ပြော           \n",
              "13  12     79     12_လမ်းညွှန်_အကြံ_အကြံပြု_ဖုန်းဆက်         \n",
              "14  13     71     13_ဖြေ_ပေး_ရေဖိုး_ဖြေကြား                  \n",
              "15  14     70     14_စာရေးဆရာ_ပြော_စကား_ကြောင်ရုပ်           \n",
              "16  15     67     15_လေ_နှာခေါင်း_အိမ်_အစုံ                  \n",
              "17  16     65     16_မော_အရေးကြီး_ကြောက်_သယ်                 \n",
              "18  17     65     17_သွေးလေးဘက်နာ_အသက်_နာ_ဆတ်ခနဲ             \n",
              "19  18     63     18_ဆီးချို_ပုံမှန်_ကြက်ဥပြုတ်_သွေးတိုး     \n",
              "20  19     62     19_ပြော_ဓာတ်စာ_လျှော့_ချစ်                 \n",
              "21  20     62     20_ထိန်းညှိ_မျက်နှာပန်းလှ_ကာ_ချောမွတ်      \n",
              "22  21     59     21_ကောင်း_လှမ်း_စား_တော်တော်               \n",
              "23  22     58     22_ရဲယိုသီး_အတင်း_ပြော_ဆေးကန်              \n",
              "24  23     57     23_ရေခပ်_အပန်း_လမ်းညွန်_အစိုဓာတ်           \n",
              "25  24     54     24_လေးဘက်နာ_ကျောက်ကပ်_သက်သာ_ရာသီလာ         \n",
              "26  25     54     25_စား_ကန်ဇွန်းရိုးနီ_သွား_သွေးတိုးချိန်   \n",
              "27  26     50     26_ဂရုစိုက်_မျက်စိ_မျက်နှာ_ရေးဆွဲနည်း      \n",
              "\n",
              "                                                                                              Representation  \\\n",
              "0   [ဝယ်, သွေးတိုး, ဆရာ, ဆရာဝန်, တစ်, ပစ္စည်း, ယူ, တန်, သေး, ငါ]                                               \n",
              "1   [နေထိုင်, အော်, ကပ်, အွန်လိုင်း, မိုက်, စဉ်းစား, ကား, အသက်ရှူ, စီး, ခေတ်]                                  \n",
              "2   [ရောင်းချ, မိတ်ဆက်, ပို့ဆောင်, ပေး, အညစ်အကြေး, အတွင်းပိုင်း, ဖယ်ရှား, ဆံသား, ဖိုး, လျှော့ချ]               \n",
              "3   [သောက်, ဆေး, သွေးကျဆေး, အရက်, အားဆေး, ဆီးချိုဆေး, မက်ဖော်မင်, ဆေးလိပ်, ဆရာဝန်, စွဲသောက်]                   \n",
              "4   [ဝတ်, ထွက်, မြင်, ဆိုင်, အလုပ်, နင်, ကလေး, ခေါ်, တွေ့, အလှ]                                                \n",
              "5   [သွား, သေး, အာလူး, စား, သုပ်, ဆန်လုံးညို, ဘူဖေး, ပါတီ, နှလုံးသွေးကြောပိတ်, ခရမ်းသီး]                       \n",
              "6   [တစ်, စင်, နေ့, ပွဲ, ဒါရိုက်တာ, ငှက်ဖျားရောဂါပိုး, လေးသိန်း, ထွာ, ဗူး, ပုဒ်]                               \n",
              "7   [သွေး, တိုး, အဆင်ပြေ, ကြည့်, ခုန်, ကိုဗစ်, အောက်သွေး, တစ်ရာ, မြန်, ရောဂါ]                                  \n",
              "8   [သူ, ဈေး, ဆံသားခြောက်, အဝိုင်း, အထူး, ကောင်းမွန်, စောစော, လေးထောင့်, အတု, အသားအရေ]                         \n",
              "9   [ပျော်, စိတ်, အကောင်းမြင်, ကုန်, အရသာ, ခံစားမှု, အလုပ်, ခံစား, ပြဿနာတက်, တစ်သား]                           \n",
              "10  [ကောင်း, စိတ်ထား, ကံကောင်း, အကြောအထူးကု, ဘရန်း, အရိုး, အင်္ဂလိပ်, အသံထွက်, ဂျင်း, ကွာလတီ]                  \n",
              "11  [သောက်, ဆေး, ချင်း, သက်သာ, , , , , , ]                                                                     \n",
              "12  [ဌာနမှူး, ခပ်ပြတ်ပြတ်, အတည်, ပြော, ကျောင်း, အရေးတကြီး, အဝလွန်, ဆင်ခြေဆင်လက်, ကျောင်းဝတ်စုံ, အနည်းအကျဉ်း]   \n",
              "13  [လမ်းညွှန်, အကြံ, အကြံပြု, ဖုန်းဆက်, သိမ်း, ရှင်းပြ, ဝန်ဆောင်မှု, လိုဂို, ပေး, စနစ်တကျ]                    \n",
              "14  [ဖြေ, ပေး, ရေဖိုး, ဖြေကြား, လက်ဆောင်, ရောင်း, သူ, ဆိတ်သား, ကောင်လေး, ငွေလွှဲ]                              \n",
              "15  [စာရေးဆရာ, ပြော, စကား, ကြောင်ရုပ်, အစိမ်းရင့်ရောင်, အကဲဖြတ်, ချင်ချင်, အမျိုးအစားစုံ, မက်ဆေ့, မွေးမြူ]     \n",
              "16  [လေ, နှာခေါင်း, အိမ်, အစုံ, ဖိနပ်စီး, ကျူးလွန်, သက်ဆိုင်သူ, ဓါတ်ဘူး, အသည်းကွဲ, စုစုစည်းစည်း]               \n",
              "17  [မော, အရေးကြီး, ကြောက်, သယ်, လက်ချောင်း, စိုးရိမ်, ဖြစ်သည့်သူ, ရက်လိဇ်, ပူပင်တတ်သူ, အသက်ကြီးသူ]            \n",
              "18  [သွေးလေးဘက်နာ, အသက်, နာ, ဆတ်ခနဲ, ခုနှစ်ဆယ့်, ငါးဆယ့်, အဆို့ရှင်, နှလုံး, ဆက်တိုက်ခုန်, မျိုးရိုးလိုက်]     \n",
              "19  [ဆီးချို, ပုံမှန်, ကြက်ဥပြုတ်, သွေးတိုး, နီး, ကျန်, နေ့, ဆေးခန်း, အစားအသောက်, စိုး]                        \n",
              "20  [ပြော, ဓာတ်စာ, လျှော့, ချစ်, အစားစား, ပြန်လာ, မျှဝေ, အာမခံ, အချို, မမ]                                     \n",
              "21  [ထိန်းညှိ, မျက်နှာပန်းလှ, ကာ, ချောမွတ်, ဆု, ပြောပြ, လျှော့ချ, အဆီပြန်, ဘေးဖယ်, ဆွဲခြင်း]                   \n",
              "22  [ကောင်း, လှမ်း, စား, တော်တော်, တအား, အစ်မ, ကိုဗစ်, ကျောက်ကပ်, မို့, ဆီးချို]                               \n",
              "23  [ရဲယိုသီး, အတင်း, ပြော, ဆေးကန်, ဥက္ကဌ, ကာယကံရှင်, အိတ်ခ်ျအာ, သွေးကွဲ, ရင်ကယ်, ပြောက်ကင်း]                  \n",
              "24  [ရေခပ်, အပန်း, လမ်းညွန်, အစိုဓာတ်, ကျောက်မီးသွေး, နေလောင်ဒဏ်, အကြံ, အကောက်ခွန်, ဘောနပ်စ်, လမ်းခရီး]        \n",
              "25  [လေးဘက်နာ, ကျောက်ကပ်, သက်သာ, ရာသီလာ, စိတ်ပင်ပန်းမှု, ရက်, ဆယ့်ရှစ်, စဉ်, ခြောက်ဆယ်, ဘေးထွက်]               \n",
              "26  [စား, ကန်ဇွန်းရိုးနီ, သွား, သွေးတိုးချိန်, လျှာလည်, ပေါင်မုန့်, တစ်ဝက်, ထပ်, ဗိုက်, အစားစား]               \n",
              "27  [ဂရုစိုက်, မျက်စိ, မျက်နှာ, ရေးဆွဲနည်း, အားစိုက်ထုတ်မှု, ဟာလဝါ, ကွာရှင်း, ဘီရို, အဝတ်စင်, တွဲ]             \n",
              "\n",
              "                                                                                                                                                                                                                                                                                                                                                                                                                                                                                                                 Representative_Docs  \n",
              "0   [ဆေး မ သောက် ချင် လို့ ဆရာ ကို မေး ကြည့် တာ လမ်း များများ လျှောက် တဲ့, ညီမ တုန်း က နှစ် လ ဆက်တိုက် သွေးတိုး တာ ခေါင်း တွေ ကိုက် မူး နေ တာ ပဲ, ဆရာ ရေ တစ် ပတ် ပဲ ရှိ ပါ သေး တယ်]                                                                                                                                                                                                                                                                                                                                                   \n",
              "1   [ငါး စားသုံး ခြင်း ကြောင့် လေဖြတ်ရောဂါ နှင့် မြို့ ပေါ် တွင် အဖြစ် များ သော နှလုံးရောဂါ ဆီးချိုရောဂါ သွေးတိုးရောဂါ ဖြစ်ပွားမှု နည်းပါး စေ ပါ တယ်, တစ်နေ့တာ ရဲ့ အစ ဟာ နံနက်ခင်း ဆိုရင် သာယာ လှပ တဲ့ နံနက်ခင်း ကို ပိုင်ဆိုင် ဖို့ အတွက် အိပ်စက် အနားယူ ချိန် လေး ကို ကောင်းကောင်း အသုံးချ တတ် ဖို့ လို မယ် နော်, အင်္ကျီ ဦးထုပ် အိတ် ပုဝါ လေး တွေ ချိတ် ဖို့ အတွက် သုံး လို့ လဲ အဆင်ပြေ ဘောင်းဘီ ခြေအိတ် ဖိနပ် တွေ တင် လို့ လဲ အဆင်ပြေ တဲ့ စွယ်စုံသုံး စင် လေး ပါ]                                                                 \n",
              "2   [အသက်သာဆုံး ဈေးနှုန်း မြန်ဆန် တိကျ တဲ့ ဝန်ဆောင်မှု တွေ နဲ့ အတူ အိမ် အရောက် ပို့ဆောင် ပေး နေ ပါ ပြီ, မိတ်ကပ် ဖုန်မှုန့် နှင့် အသားအရည် မှ အညစ်အကြေး အားလုံး ကို ဖယ်ရှား ပေး နိုင် တယ်, အလှတရား တိုင်း ရဲ့ နောက်ကွယ် မှာ ခန္ဓာကိုယ် အတွင်းပိုင်း ကနေ အသားအရေ ကို ထိန်းသိမ်း ပြုပြင် ပေး မယ့် အရာ တစ်ခု က တော့ လို ကို လိုအပ် ပါ တယ်]                                                                                                                                                                                                \n",
              "3   [နှလုံး အားနည်း တာ ဖြစ် နိုင် တယ် ဆရာဝန် နဲ့ တိုင်ပင် ပြီး နှလုံး ဆေး သောက် သင့် တယ်, ဆီးချိုသမား ဆေးလိပ် အရက် သောက် လို့ ရ ပါ သလား, နှစ်ထောင့် ဆယ့် ကိုး က ပဲ ဗမာဆေး ဂုဏ်ရည် လေးဘက်နာ ဆေး လည်း တစ် ရက် ခြား တစ် ခါ သောက် တယ်]                                                                                                                                                                                                                                                                                                    \n",
              "4   [နှစ်ဆန်း တစ်ရက်နေ့ မှာ စတုဒီသာ တွေ ဘာ တွေ ကျွေး ဖြစ် ရင် သဘာဝ သစ်သီး စစ်စစ် တွေ နဲ့ ပြုလုပ် ထား တဲ့ ပွင့်သစ် ယိုစုံ တွေ က လူ တွေ သဘောကျ ကြ မှာ ပဲ, အဲ့လို နေ ရင်း အအေးမိ ခြင်း နှာစေး ချောင်းဆိုး လည်ချောင်း နာ ခြင်း များ ခံစား ရ ပြီး နောက်ဆက်တွဲ တုပ်ကွေး ဖျားနာ ခြင်း ဝေဒနာ များ အထိ ဖြစ်ပေါ် တတ် ပါ တယ်, မီးတွင်း ကာလ မှာ အနံ့ ဆိုး များ ဝေး ပြီး သန့်ရှင်း နေ စေ ဖို့ မီးဖွား တယ် ဆိုတာ အမျိုးသမီး တိုင်း အတွက် ခက်ခဲ လှ တဲ့ ကာလ ဖြစ် သလို ရင်သွေး လေး ကို ပိုင်ဆိုင် ရ လို့ ဂုဏ် အယူရဆုံး ကာလ ဆို လဲ မ မှား ပါ ဘူး နော်]  \n",
              "5   [တချို့ က လဲ အငန် ဟင်း တွေ ချက် တဲ့ အခါ ဒီလို အချဉ် တည် ထား တာ လေး ကို သုတ် ပြီး ထမင်း နဲ့ တွဲဖက် စား တတ် ကြ ပါ တယ် ရှင်, ပဲပင်ပေါက် အာလူး ခရမ်းသီး ကြက်သွန်ဖြူ အစိမ်း စား လို့ ရ တာ တွေ ပါ, ပဲပင်ပေါက် အာလူး ခရမ်းသီး ကြက်သွန်ဖြူ အစိမ်း စား တာ တွေ ပါ]                                                                                                                                                                                                                                                                          \n",
              "6   [ဈေးနှုန်း က လည်း ရှမ်းခေါက်ဆွဲ တစ် ပွဲ ကို ရာဂဏန်း မို့ ဈေး သက်သက်သာသာ နဲ့ အရသာရှိ တဲ့ ရှမ်းခေါက်ဆွဲ တစ် ပွဲ ကို အိမ် မှာ လုပ်စား နိုင် ပါ ပြီ, အစမ်းခန့် ကာလ ပင် ဖြစ် စေ ကာ မူ အလုပ်ဝင် ပြီး တစ် ရက် မြောက် နေ့ မှ စ ပြီး ပြည်သူ့ ကျန်းမာရေး အာမခံ ကို ဝင် ရ ပါ မယ်, အစို့ အညှောက် မြေပေါ် တစ် ထွာ မြေအောက် တစ် ထွာ အပင် တွေ မ တည့် လို့ ဆရာကြီး ဦးရန်အောင် ရေး ထား တာ ဖတ် ဖူး ပါ တယ် ရှင့်]                                                                                                                                    \n",
              "7   [သွေး လည်း တိုး တယ်, အပြင်ဆိုင် က ဝယ်စား တဲ့ ထမင်းကြော် ကို အဝစား ပြီး ပြီး ချင်း တိုင်း တာ ကိုး ဒဿမ ကိုး ဆိုတာ ဆီးချို ရှိ နေ လား ရှင့်, လ နဲ ချီ ကြာ ပြီ ဖြစ် တဲ့ ခံတွင်း ပါးစပ် အရသာ က ချဉ် တာ ချို တာ ငန် တာ က ဘာ ဖြစ် တဲ့ လက္ခဏာ လဲ ဗျာ]                                                                                                                                                                                                                                                                                     \n",
              "8   [အရေပြား ကို ထိခိုက်မှု လုံးဝ မ ရှိ စေ ဘဲ ဓာတ်မတည့် လွယ် တဲ့ အသားအရေ ရှိ သူ တွေ အတွက် လဲ အလွန် ကောင်းမွန် ပါ တယ်, အဆီပြန် တဲ့ သူ တွေ အတွက် အထူး ကောင်းမွန် တဲ့ ဒိန်ချဉ် နဲ့ အသီး တွေ ကနေ ထုတ်လုပ် ထား တဲ့ အတွက် အဆီ တွေ ကို ဖယ်ရှား ပြီး အသားအရေ ကို ကြည်လင် ဖြူဝင်း လာ စေ ပါ တယ်, မွေးရာပါ နှလုံးသွေးကြော အပို ပါ ခြင်း ကို ပေါင် မှ တဆင့် ခြေရာခံ ကုသ ခြင်း ပြုလုပ် ဖူး သူ ရှိ ပါ သလား ဗျ]                                                                                                                                      \n",
              "9   [ဒီလို စိတ် ရော ကိုယ် ပါ ပင်ပန်းနွမ်းနယ် လာ တဲ့ အခါ နောက်ဆက်တွဲ ဆိုးကျိုး အနေ နဲ့ ကိုယ်ခံအား ကျဆင်း ပြီး ကျန်းမာရေး ထိခိုက် လာ နိုင် ပါ တယ်, အာလူးချောင်းကြော် ကို မှ ရေညှိ အရသာ မွှေးမွှေး လေး အပြင် ချဉ်ပြုံးပြုံး လေး မို့ တမူထူးခြား နေ မှာ ပါ, ဆော့စ် အနှစ် လေး က ချိုချဉ် လေး ကို မှ အစပ် သေးသေး နဲ့ ခံတွင်း သာ စေ တဲ့ အရသာ လေး ပါ]                                                                                                                                                                                         \n",
              "10  [စိတ်ထား ကောင်း တဲ့ လူ တွေ မှာ သာ ကံကောင်း နိုင် မယ်, လေ့ကျင့်ခန်းလုပ် ခြင်း က အရိုးပွရောဂါ ရှိသူ အတွက် ကောင်း သော် လည်း အရိုး များ အပေါ် ရုတ်တရက် သို့မဟုတ် ပြင်းထန် သော ဒဏ် မ ဖြစ် ရင် ပို ကောင်း ပါ တယ်, ကိုယ့် မှာ ကံကောင်း ခြင်း တွေ ကြုံ ရ တဲ့ အခါ အချစ်ဆုံး သူငယ်ချင်း နဲ့ အတူတူ ဆိုရင် အရာရာ က ပို ပြီး ပျော် ဖို့ ကောင်း သွား တယ် ဟုတ်]                                                                                                                                                                                  \n",
              "11  [အခု တော့ ဆေး တွေ သောက် နေ ရ ပါ တယ်, ဒီ ဆေး ကို သောက် လို့ ရ လား သိ ချင် ပါ တယ်, ဘာ ဆေး သောက် ရ မလဲ ဗျ]                                                                                                                                                                                                                                                                                                                                                                                                                           \n",
              "12  [အစာ အလွန်အကျွံ စား ချင် စိတ် ကို တိုးပွား ဖြစ်ပေါ် စေ သလို အဝလွန် ခြင်း ကို တားဆီး ပေး သော ဟော်မုန်း များ ကို ပါ ပိတ်ဆို့ လို့ အဝလွန် ခြင်း ကို ဖြစ် စေ တယ်, နောက်ပြီး ကျောင်း တွေ အနေ နဲ့ က လဲ ကိုယ့် ကျောင်း ရဲ့ ပုံရိပ် ကို ကောင်း သတင်း ထင်ဟပ် စေ ဖို့ သန့်ရှင်း သပ်ရပ် လှပ တဲ့ ကျောင်းဝတ်စုံ လေး တွေ ကို ပြင်ဆင် ပေး ဖို့ အဓိက ကျ ပါ တယ်, အရည်အသွေး ကောင်း ပြီး လူငယ်ဆန်ဆန် ဒီဇိုင်း တွေ ဖန်တီး ပေး ထား တဲ့ ဘယ်လ်ဂျီယံ စိန် တွေ ကို ဈေး အသင့်အတင့် နဲ့ ဝတ်ဆင် ဖို့ ထာဝရဝိန့်စိန် ကို လှမ်း ခဲ့ လိုက် တော့ နော်]             \n",
              "13  [ဘယ် လို လုပ် ဆောင် ရ မ လဲ ဆို တာ လမ်းညွှန် ပေး ပါ ဦး ဗျ, သိ ရင် လမ်းညွှန် ပေး ကြ ပါ, လမ်းညွှန် ပေး ပါ ဦး]                                                                                                                                                                                                                                                                                                                                                                                                                        \n",
              "14  [သိ တဲ့ သူ များ ကျေးဇူးပြု ၍ ဖြေ ပေး စေ ချင် ပါ တယ်, သိ တဲ့ သူ များ ဖြေ ပေး ကြ ပါ ရှင့်, ပြ ဖူး သူ များ ဖြေ ပေး ကြ ပါ နော်]                                                                                                                                                                                                                                                                                                                                                                                                       \n",
              "15  [ရေး လို့ လဲ ကောင်း အသွင်အပြင် မှာ လဲ စမတ်ကျ တာ မို့ လုပ်ငန်းခွင် ဝင် နေ တဲ့ မေမေ တို့ ကို လက်ဆောင် ပေး ဖို့ အကောင်းဆုံး ဖောင်တိန် ပဲ, အိမ် မှာ ပဲ နေ တဲ့ သူ တွေ တင် မ ဟုတ် ဘဲ အားလုံး ဖတ် သင့် တဲ့ ဖတ် ထား သင့် တဲ့ အမျိုးအစား စုံ စာရေးဆရာ ငါး ဦး ရဲ့ စာအုပ် တွေ ကို ရွေးချယ် ပေး သွား မှာ ပဲ ဖြစ် ပါ တယ်, အိမ် မှာ ပဲ နေ တဲ့ သူ တွေ တင် မ ဟုတ် ဘဲ အားလုံး ဖတ် သင့် တဲ့ ဖတ် ထား သင့် တဲ့ အမျိုးအစားစုံ စာရေးဆရာ ငါး ဦး ရဲ့ စာအုပ် တွေ ကို ရွေးချယ် ပေး သွား မှာ ပဲ ဖြစ် ပါ တယ်]                                                 \n",
              "16  [ပြောင်းလဲမှု ဆိုတာ လူ တွေ မ မြင် အောင် သိမ်း ပြီး ထုပ်ပိုး ထား လို့ ရ တဲ့ အရာ မှ မ ဟုတ် ဘဲ လေ နော်, ဘဝ မှာ လေ သူများ ပိုက်ဆံ ကို မတရား သဖြင့် လို ချင် စိတ် တစ်စက် မှ မ ရှိ ပါ ဘူး ရှင့်, လူ့ အသားအရည် ဆိုတာ အပြစ် အနာအဆာ နဲ့ မ ကင်း လေ တော့ စိတ်ညစ် ရ တဲ့ အသားအရည် ပြဿနာ ဆိုတာ လူ တိုင်း မှာ ရှိ မယ် ထင် ပါ တယ်]                                                                                                                                                                                                                \n",
              "17  [အဲ့ဒီ အပင် ရဲ့ အပွင့် နဲ့ အရွက် တွေ ကို ချေ လိုက် ရင် သံပရာ အနံ့ ရ ပါ တယ်, အနိမ့် အမြင့် လုပ် နိုင် ရုံ သာမက ထိုင်ခုံ ပုံစံ လဲ ပြောင်း လို့ ရ တဲ့ အတွက် သုံး ရ တာ အလွန် အဆင်ပြေ ပါ တယ်, ဒူးခေါင်း နှင့် လက်ချောင်း အဆစ် များ အလွန် ဆိုးရွား စွာ နာကျင် ကိုက်ခဲ ပြီး တင်း ရောင် နေ ပါ တယ်]                                                                                                                                                                                                                                        \n",
              "18  [ဦးလေး က အသက် ခြောက်ဆယ့် လေး နှစ် ဆီးချိုသက် နှစ်ဆယ့် ငါး နှစ် ပါ, တစ်ခါတစ်လေ အသက် ပြင်းပြင်းရှူ လိုက် ရင် နှလုံး ဆတ်ခနဲ ဆတ်ခနဲ နာ တယ်, နှလုံး ကို သွေးလွှတ်ခန်း သွေးပြန်ခန်း နှလုံး အဆို့ရှင် သွေးလွှတ်ကြော တွေ သွေးပြန်ကြော တွေ နဲ့ ဖွဲ့စည်း ထား ပါ တယ်]                                                                                                                                                                                                                                                                        \n",
              "19  [ဆီးချို များ နေ တယ်, ဆီးချို မ ရှိ ပါ ဘူး ရှင်, ဆီးချို လည်း နည်းနည်း များ တယ်]                                                                                                                                                                                                                                                                                                                                                                                                                                                  \n",
              "20  [အချို လေး နည်းနည်း လျှော့ ပေး ရင် ကောင်း မယ်, အိတ် လေး တွေ ချစ် ဖို့ ကောင်း လို့ မ နေ နိုင် လို့ ရောင်း ပေး ပါ ဦး မယ်, နေ လို့ ထိုင် လို့ လည်း မ ကောင်း တဲ့ အပြင် အစားစား ချင် စိတ် ပါ မ ရှိ ဖြစ် နေ လို့ ပြောပြ ပေး ကြ ပါ ဦး ရှင့်]                                                                                                                                                                                                                                                                                             \n",
              "21  [လက် ထဲ ငွေသား မ ရှိ လည်း လကုန် မှ ပို့ ပေး ဆို ပြီး ဖုန်းနံပါတ် နဲ့ လိပ်စာ အတိအကျ လေး ပေး ပြီး ကြိုမှာ ထား ချင် ရင် ရ ပါ တယ်, အဆီပြန် တာ ကို လည်း ထိန်း ပေး ပြီး အစိုဓာတ် ကို မျှတ နေ အောင် ထိန်းညှိ ပေး တဲ့ အတွက် အသား လေး ကြည် ပြီး ချောမွတ် နေ စေ တယ် နော်, အဆီပြန် တာ ကို လဲ ထိန်း ပေး ပြီး အစိုဓာတ် ကို မျှတ နေ အောင် ထိန်းညှိ ပေး တဲ့ အတွက် အသား လေး ကြည် ပြီး ချောမွတ် နေ စေ တယ် နော်]                                                                                                                                    \n",
              "22  [မ ကောင်း ပါ ဘူး, မြန်မြန် ပြီး တိုင်း ကောင်း တာ မ ဟုတ် ဘူး, သင် တာ ကောင်း လို့ ပါ]                                                                                                                                                                                                                                                                                                                                                                                                                                               \n",
              "23  [အချင်းချင်း သွေးကွဲ စေ မဲ့ စကား မ ပြော ပါ နဲ့, ချမ်းသာ မှန် သမျှ လို ချင် ရင် သူများ အတင်း မ ပြော နဲ့ တဲ့, ဘယ်လို ကြွပ် တယ် ရွ တယ် စားကောင်း တယ် ဆိုတာ အမေရိကန် သူ လေး က မနားတမ်း ပြော တော့ တာ ပါ ပဲ]                                                                                                                                                                                                                                                                                                                            \n",
              "24  [သီးသန့် အော်ဒါ ပြုလုပ် ပေး ရ ခြင်း ဖြစ် သောကြောင့် အနည်းဆုံး အထည် ငါးဆယ် မှာယူ ပေး ရ ပါ မယ်, ကျောက်မီးသွေး နဲ့ ပြုလုပ် ထား တာ ကြောင့် အဆီပြန် ခြင်း ကို ထိန်းချုပ် ပေး ပြီး ရေဓာတ် ဖြည့် ပေး ပါ တယ်, ရေဓာတ် ဖြည့် ပေး လို့ အသားရည် ခြောက်သွေ့ တာ တွေ သက်သာ စေ ပြီး အစိုဓာတ် ပါ ထိန်း ပေး သေး တယ် နော်]                                                                                                                                                                                                                           \n",
              "25  [သုံး လ ဆို တဲ့ အချိန်ကာလ အတွက် ပရောဂျက် တိုင်းမ်လိုင်း ရေးဆွဲ ထား ပေမယ့် အကြောင်း အမျိုးမျိုး ကြောင့် နောက်ကျ တာ တွေ လဲ ရှိ တယ်, ဘေးထွက် ဆိုးကျိုး က လုံးဝ မ ရှိ တဲ့ အပြင် အသက်အရွယ် ဆယ့်ရှစ် နှစ် မှ အသက် ခြောက်ဆယ် အထိ သောက်သုံး နိုင် ပြီး အဆီ လဲ တကယ် ကျ တဲ့ ကော်ဖီ ဖြစ် ပါ တယ်, ဘေးထွက် ဆိုးကျိုး က လုံးဝ မ ရှိ တဲ့ အပြင် အသက်အရွယ် ဆယ့်ရှစ် နှစ် မှ အသက် ခြောက်ဆယ် ထိ သောက်သုံး နိုင် ပြီး အဆီ လဲ တကယ် ကျ တဲ့ ကော်ဖီ ဖြစ် ပါ တယ်]                                                                                          \n",
              "26  [ဘယ်လို တွေ တောင် လိုက်ဖက် ပြီး စားကောင်း လဲ ဆိုတာ အခု မှ စား ပြီး တာ တောင် ထပ် စား ချင် တာ, ကန်ဇွန်းရိုးနီ စား နိုင် သမျှ စား ပါ, ဘာ ပဲ စား စား ကန်ဇွန်းရိုးနီ ကို ကိုယ် ကြိုက် သလို လုပ်စား ပါ]                                                                                                                                                                                                                                                                                                                                 \n",
              "27  [နေရာ ကျယ်ကျယ် မ လို ဘဲ ချိတ် လေး နဲ့ ဘီရို ထဲ ဖြစ်ဖြစ် အဝတ်စင် မှာ ဖြစ်ဖြစ် ချိတ် ထား ရုံ ပဲ, အဖေ နဲ့ ကွာရှင်း လိုက် ခြင်း ဟာ အမေ့ အတွက် ဝဋ်ကြွေး တစ်ခု ကနေ တရားသေ လွတ်မြောက် ရာ လမ်းကြောင်း တစ်ခု ဖြစ် ခဲ့ တယ်, မီးခလုတ် ဖွင့် တာ နဲ့ အပူချိန် ကို အလျင်အမြန် ရရှိ ပြီး မည်သည့် ဟင်း ကို မဆို လျင်မြန် စွာ ချက်ပြုတ် နိုင် ပါ တယ် ရှင်]                                                                                                                                                                                         "
            ],
            "text/html": [
              "\n",
              "  <div id=\"df-011b832e-11b8-4a5f-b326-071331ebd3a8\" class=\"colab-df-container\">\n",
              "    <div>\n",
              "<style scoped>\n",
              "    .dataframe tbody tr th:only-of-type {\n",
              "        vertical-align: middle;\n",
              "    }\n",
              "\n",
              "    .dataframe tbody tr th {\n",
              "        vertical-align: top;\n",
              "    }\n",
              "\n",
              "    .dataframe thead th {\n",
              "        text-align: right;\n",
              "    }\n",
              "</style>\n",
              "<table border=\"1\" class=\"dataframe\">\n",
              "  <thead>\n",
              "    <tr style=\"text-align: right;\">\n",
              "      <th></th>\n",
              "      <th>Topic</th>\n",
              "      <th>Count</th>\n",
              "      <th>Name</th>\n",
              "      <th>Representation</th>\n",
              "      <th>Representative_Docs</th>\n",
              "    </tr>\n",
              "  </thead>\n",
              "  <tbody>\n",
              "    <tr>\n",
              "      <th>0</th>\n",
              "      <td>-1</td>\n",
              "      <td>19382</td>\n",
              "      <td>-1_ဝယ်_သွေးတိုး_ဆရာ_ဆရာဝန်</td>\n",
              "      <td>[ဝယ်, သွေးတိုး, ဆရာ, ဆရာဝန်, တစ်, ပစ္စည်း, ယူ, တန်, သေး, ငါ]</td>\n",
              "      <td>[ဆေး မ သောက် ချင် လို့ ဆရာ ကို မေး ကြည့် တာ လမ်း များများ လျှောက် တဲ့, ညီမ တုန်း က နှစ် လ ဆက်တိုက် သွေးတိုး တာ ခေါင်း တွေ ကိုက် မူး နေ တာ ပဲ, ဆရာ ရေ တစ် ပတ် ပဲ ရှိ ပါ သေး တယ်]</td>\n",
              "    </tr>\n",
              "    <tr>\n",
              "      <th>1</th>\n",
              "      <td>0</td>\n",
              "      <td>6295</td>\n",
              "      <td>0_နေထိုင်_အော်_ကပ်_အွန်လိုင်း</td>\n",
              "      <td>[နေထိုင်, အော်, ကပ်, အွန်လိုင်း, မိုက်, စဉ်းစား, ကား, အသက်ရှူ, စီး, ခေတ်]</td>\n",
              "      <td>[ငါး စားသုံး ခြင်း ကြောင့် လေဖြတ်ရောဂါ နှင့် မြို့ ပေါ် တွင် အဖြစ် များ သော နှလုံးရောဂါ ဆီးချိုရောဂါ သွေးတိုးရောဂါ ဖြစ်ပွားမှု နည်းပါး စေ ပါ တယ်, တစ်နေ့တာ ရဲ့ အစ ဟာ နံနက်ခင်း ဆိုရင် သာယာ လှပ တဲ့ နံနက်ခင်း ကို ပိုင်ဆိုင် ဖို့ အတွက် အိပ်စက် အနားယူ ချိန် လေး ကို ကောင်းကောင်း အသုံးချ တတ် ဖို့ လို မယ် နော်, အင်္ကျီ ဦးထုပ် အိတ် ပုဝါ လေး တွေ ချိတ် ဖို့ အတွက် သုံး လို့ လဲ အဆင်ပြေ ဘောင်းဘီ ခြေအိတ် ဖိနပ် တွေ တင် လို့ လဲ အဆင်ပြေ တဲ့ စွယ်စုံသုံး စင် လေး ပါ]</td>\n",
              "    </tr>\n",
              "    <tr>\n",
              "      <th>2</th>\n",
              "      <td>1</td>\n",
              "      <td>1433</td>\n",
              "      <td>1_ရောင်းချ_မိတ်ဆက်_ပို့ဆောင်_ပေး</td>\n",
              "      <td>[ရောင်းချ, မိတ်ဆက်, ပို့ဆောင်, ပေး, အညစ်အကြေး, အတွင်းပိုင်း, ဖယ်ရှား, ဆံသား, ဖိုး, လျှော့ချ]</td>\n",
              "      <td>[အသက်သာဆုံး ဈေးနှုန်း မြန်ဆန် တိကျ တဲ့ ဝန်ဆောင်မှု တွေ နဲ့ အတူ အိမ် အရောက် ပို့ဆောင် ပေး နေ ပါ ပြီ, မိတ်ကပ် ဖုန်မှုန့် နှင့် အသားအရည် မှ အညစ်အကြေး အားလုံး ကို ဖယ်ရှား ပေး နိုင် တယ်, အလှတရား တိုင်း ရဲ့ နောက်ကွယ် မှာ ခန္ဓာကိုယ် အတွင်းပိုင်း ကနေ အသားအရေ ကို ထိန်းသိမ်း ပြုပြင် ပေး မယ့် အရာ တစ်ခု က တော့ လို ကို လိုအပ် ပါ တယ်]</td>\n",
              "    </tr>\n",
              "    <tr>\n",
              "      <th>3</th>\n",
              "      <td>2</td>\n",
              "      <td>743</td>\n",
              "      <td>2_သောက်_ဆေး_သွေးကျဆေး_အရက်</td>\n",
              "      <td>[သောက်, ဆေး, သွေးကျဆေး, အရက်, အားဆေး, ဆီးချိုဆေး, မက်ဖော်မင်, ဆေးလိပ်, ဆရာဝန်, စွဲသောက်]</td>\n",
              "      <td>[နှလုံး အားနည်း တာ ဖြစ် နိုင် တယ် ဆရာဝန် နဲ့ တိုင်ပင် ပြီး နှလုံး ဆေး သောက် သင့် တယ်, ဆီးချိုသမား ဆေးလိပ် အရက် သောက် လို့ ရ ပါ သလား, နှစ်ထောင့် ဆယ့် ကိုး က ပဲ ဗမာဆေး ဂုဏ်ရည် လေးဘက်နာ ဆေး လည်း တစ် ရက် ခြား တစ် ခါ သောက် တယ်]</td>\n",
              "    </tr>\n",
              "    <tr>\n",
              "      <th>4</th>\n",
              "      <td>3</td>\n",
              "      <td>343</td>\n",
              "      <td>3_ဝတ်_ထွက်_မြင်_ဆိုင်</td>\n",
              "      <td>[ဝတ်, ထွက်, မြင်, ဆိုင်, အလုပ်, နင်, ကလေး, ခေါ်, တွေ့, အလှ]</td>\n",
              "      <td>[နှစ်ဆန်း တစ်ရက်နေ့ မှာ စတုဒီသာ တွေ ဘာ တွေ ကျွေး ဖြစ် ရင် သဘာဝ သစ်သီး စစ်စစ် တွေ နဲ့ ပြုလုပ် ထား တဲ့ ပွင့်သစ် ယိုစုံ တွေ က လူ တွေ သဘောကျ ကြ မှာ ပဲ, အဲ့လို နေ ရင်း အအေးမိ ခြင်း နှာစေး ချောင်းဆိုး လည်ချောင်း နာ ခြင်း များ ခံစား ရ ပြီး နောက်ဆက်တွဲ တုပ်ကွေး ဖျားနာ ခြင်း ဝေဒနာ များ အထိ ဖြစ်ပေါ် တတ် ပါ တယ်, မီးတွင်း ကာလ မှာ အနံ့ ဆိုး များ ဝေး ပြီး သန့်ရှင်း နေ စေ ဖို့ မီးဖွား တယ် ဆိုတာ အမျိုးသမီး တိုင်း အတွက် ခက်ခဲ လှ တဲ့ ကာလ ဖြစ် သလို ရင်သွေး လေး ကို ပိုင်ဆိုင် ရ လို့ ဂုဏ် အယူရဆုံး ကာလ ဆို လဲ မ မှား ပါ ဘူး နော်]</td>\n",
              "    </tr>\n",
              "    <tr>\n",
              "      <th>5</th>\n",
              "      <td>4</td>\n",
              "      <td>201</td>\n",
              "      <td>4_သွား_သေး_အာလူး_စား</td>\n",
              "      <td>[သွား, သေး, အာလူး, စား, သုပ်, ဆန်လုံးညို, ဘူဖေး, ပါတီ, နှလုံးသွေးကြောပိတ်, ခရမ်းသီး]</td>\n",
              "      <td>[တချို့ က လဲ အငန် ဟင်း တွေ ချက် တဲ့ အခါ ဒီလို အချဉ် တည် ထား တာ လေး ကို သုတ် ပြီး ထမင်း နဲ့ တွဲဖက် စား တတ် ကြ ပါ တယ် ရှင်, ပဲပင်ပေါက် အာလူး ခရမ်းသီး ကြက်သွန်ဖြူ အစိမ်း စား လို့ ရ တာ တွေ ပါ, ပဲပင်ပေါက် အာလူး ခရမ်းသီး ကြက်သွန်ဖြူ အစိမ်း စား တာ တွေ ပါ]</td>\n",
              "    </tr>\n",
              "    <tr>\n",
              "      <th>6</th>\n",
              "      <td>5</td>\n",
              "      <td>128</td>\n",
              "      <td>5_တစ်_စင်_နေ့_ပွဲ</td>\n",
              "      <td>[တစ်, စင်, နေ့, ပွဲ, ဒါရိုက်တာ, ငှက်ဖျားရောဂါပိုး, လေးသိန်း, ထွာ, ဗူး, ပုဒ်]</td>\n",
              "      <td>[ဈေးနှုန်း က လည်း ရှမ်းခေါက်ဆွဲ တစ် ပွဲ ကို ရာဂဏန်း မို့ ဈေး သက်သက်သာသာ နဲ့ အရသာရှိ တဲ့ ရှမ်းခေါက်ဆွဲ တစ် ပွဲ ကို အိမ် မှာ လုပ်စား နိုင် ပါ ပြီ, အစမ်းခန့် ကာလ ပင် ဖြစ် စေ ကာ မူ အလုပ်ဝင် ပြီး တစ် ရက် မြောက် နေ့ မှ စ ပြီး ပြည်သူ့ ကျန်းမာရေး အာမခံ ကို ဝင် ရ ပါ မယ်, အစို့ အညှောက် မြေပေါ် တစ် ထွာ မြေအောက် တစ် ထွာ အပင် တွေ မ တည့် လို့ ဆရာကြီး ဦးရန်အောင် ရေး ထား တာ ဖတ် ဖူး ပါ တယ် ရှင့်]</td>\n",
              "    </tr>\n",
              "    <tr>\n",
              "      <th>7</th>\n",
              "      <td>6</td>\n",
              "      <td>116</td>\n",
              "      <td>6_သွေး_တိုး_အဆင်ပြေ_ကြည့်</td>\n",
              "      <td>[သွေး, တိုး, အဆင်ပြေ, ကြည့်, ခုန်, ကိုဗစ်, အောက်သွေး, တစ်ရာ, မြန်, ရောဂါ]</td>\n",
              "      <td>[သွေး လည်း တိုး တယ်, အပြင်ဆိုင် က ဝယ်စား တဲ့ ထမင်းကြော် ကို အဝစား ပြီး ပြီး ချင်း တိုင်း တာ ကိုး ဒဿမ ကိုး ဆိုတာ ဆီးချို ရှိ နေ လား ရှင့်, လ နဲ ချီ ကြာ ပြီ ဖြစ် တဲ့ ခံတွင်း ပါးစပ် အရသာ က ချဉ် တာ ချို တာ ငန် တာ က ဘာ ဖြစ် တဲ့ လက္ခဏာ လဲ ဗျာ]</td>\n",
              "    </tr>\n",
              "    <tr>\n",
              "      <th>8</th>\n",
              "      <td>7</td>\n",
              "      <td>91</td>\n",
              "      <td>7_သူ_ဈေး_ဆံသားခြောက်_အဝိုင်း</td>\n",
              "      <td>[သူ, ဈေး, ဆံသားခြောက်, အဝိုင်း, အထူး, ကောင်းမွန်, စောစော, လေးထောင့်, အတု, အသားအရေ]</td>\n",
              "      <td>[အရေပြား ကို ထိခိုက်မှု လုံးဝ မ ရှိ စေ ဘဲ ဓာတ်မတည့် လွယ် တဲ့ အသားအရေ ရှိ သူ တွေ အတွက် လဲ အလွန် ကောင်းမွန် ပါ တယ်, အဆီပြန် တဲ့ သူ တွေ အတွက် အထူး ကောင်းမွန် တဲ့ ဒိန်ချဉ် နဲ့ အသီး တွေ ကနေ ထုတ်လုပ် ထား တဲ့ အတွက် အဆီ တွေ ကို ဖယ်ရှား ပြီး အသားအရေ ကို ကြည်လင် ဖြူဝင်း လာ စေ ပါ တယ်, မွေးရာပါ နှလုံးသွေးကြော အပို ပါ ခြင်း ကို ပေါင် မှ တဆင့် ခြေရာခံ ကုသ ခြင်း ပြုလုပ် ဖူး သူ ရှိ ပါ သလား ဗျ]</td>\n",
              "    </tr>\n",
              "    <tr>\n",
              "      <th>9</th>\n",
              "      <td>8</td>\n",
              "      <td>86</td>\n",
              "      <td>8_ပျော်_စိတ်_အကောင်းမြင်_ကုန်</td>\n",
              "      <td>[ပျော်, စိတ်, အကောင်းမြင်, ကုန်, အရသာ, ခံစားမှု, အလုပ်, ခံစား, ပြဿနာတက်, တစ်သား]</td>\n",
              "      <td>[ဒီလို စိတ် ရော ကိုယ် ပါ ပင်ပန်းနွမ်းနယ် လာ တဲ့ အခါ နောက်ဆက်တွဲ ဆိုးကျိုး အနေ နဲ့ ကိုယ်ခံအား ကျဆင်း ပြီး ကျန်းမာရေး ထိခိုက် လာ နိုင် ပါ တယ်, အာလူးချောင်းကြော် ကို မှ ရေညှိ အရသာ မွှေးမွှေး လေး အပြင် ချဉ်ပြုံးပြုံး လေး မို့ တမူထူးခြား နေ မှာ ပါ, ဆော့စ် အနှစ် လေး က ချိုချဉ် လေး ကို မှ အစပ် သေးသေး နဲ့ ခံတွင်း သာ စေ တဲ့ အရသာ လေး ပါ]</td>\n",
              "    </tr>\n",
              "    <tr>\n",
              "      <th>10</th>\n",
              "      <td>9</td>\n",
              "      <td>85</td>\n",
              "      <td>9_ကောင်း_စိတ်ထား_ကံကောင်း_အကြောအထူးကု</td>\n",
              "      <td>[ကောင်း, စိတ်ထား, ကံကောင်း, အကြောအထူးကု, ဘရန်း, အရိုး, အင်္ဂလိပ်, အသံထွက်, ဂျင်း, ကွာလတီ]</td>\n",
              "      <td>[စိတ်ထား ကောင်း တဲ့ လူ တွေ မှာ သာ ကံကောင်း နိုင် မယ်, လေ့ကျင့်ခန်းလုပ် ခြင်း က အရိုးပွရောဂါ ရှိသူ အတွက် ကောင်း သော် လည်း အရိုး များ အပေါ် ရုတ်တရက် သို့မဟုတ် ပြင်းထန် သော ဒဏ် မ ဖြစ် ရင် ပို ကောင်း ပါ တယ်, ကိုယ့် မှာ ကံကောင်း ခြင်း တွေ ကြုံ ရ တဲ့ အခါ အချစ်ဆုံး သူငယ်ချင်း နဲ့ အတူတူ ဆိုရင် အရာရာ က ပို ပြီး ပျော် ဖို့ ကောင်း သွား တယ် ဟုတ်]</td>\n",
              "    </tr>\n",
              "    <tr>\n",
              "      <th>11</th>\n",
              "      <td>10</td>\n",
              "      <td>81</td>\n",
              "      <td>10_သောက်_ဆေး_ချင်း_သက်သာ</td>\n",
              "      <td>[သောက်, ဆေး, ချင်း, သက်သာ, , , , , , ]</td>\n",
              "      <td>[အခု တော့ ဆေး တွေ သောက် နေ ရ ပါ တယ်, ဒီ ဆေး ကို သောက် လို့ ရ လား သိ ချင် ပါ တယ်, ဘာ ဆေး သောက် ရ မလဲ ဗျ]</td>\n",
              "    </tr>\n",
              "    <tr>\n",
              "      <th>12</th>\n",
              "      <td>11</td>\n",
              "      <td>80</td>\n",
              "      <td>11_ဌာနမှူး_ခပ်ပြတ်ပြတ်_အတည်_ပြော</td>\n",
              "      <td>[ဌာနမှူး, ခပ်ပြတ်ပြတ်, အတည်, ပြော, ကျောင်း, အရေးတကြီး, အဝလွန်, ဆင်ခြေဆင်လက်, ကျောင်းဝတ်စုံ, အနည်းအကျဉ်း]</td>\n",
              "      <td>[အစာ အလွန်အကျွံ စား ချင် စိတ် ကို တိုးပွား ဖြစ်ပေါ် စေ သလို အဝလွန် ခြင်း ကို တားဆီး ပေး သော ဟော်မုန်း များ ကို ပါ ပိတ်ဆို့ လို့ အဝလွန် ခြင်း ကို ဖြစ် စေ တယ်, နောက်ပြီး ကျောင်း တွေ အနေ နဲ့ က လဲ ကိုယ့် ကျောင်း ရဲ့ ပုံရိပ် ကို ကောင်း သတင်း ထင်ဟပ် စေ ဖို့ သန့်ရှင်း သပ်ရပ် လှပ တဲ့ ကျောင်းဝတ်စုံ လေး တွေ ကို ပြင်ဆင် ပေး ဖို့ အဓိက ကျ ပါ တယ်, အရည်အသွေး ကောင်း ပြီး လူငယ်ဆန်ဆန် ဒီဇိုင်း တွေ ဖန်တီး ပေး ထား တဲ့ ဘယ်လ်ဂျီယံ စိန် တွေ ကို ဈေး အသင့်အတင့် နဲ့ ဝတ်ဆင် ဖို့ ထာဝရဝိန့်စိန် ကို လှမ်း ခဲ့ လိုက် တော့ နော်]</td>\n",
              "    </tr>\n",
              "    <tr>\n",
              "      <th>13</th>\n",
              "      <td>12</td>\n",
              "      <td>79</td>\n",
              "      <td>12_လမ်းညွှန်_အကြံ_အကြံပြု_ဖုန်းဆက်</td>\n",
              "      <td>[လမ်းညွှန်, အကြံ, အကြံပြု, ဖုန်းဆက်, သိမ်း, ရှင်းပြ, ဝန်ဆောင်မှု, လိုဂို, ပေး, စနစ်တကျ]</td>\n",
              "      <td>[ဘယ် လို လုပ် ဆောင် ရ မ လဲ ဆို တာ လမ်းညွှန် ပေး ပါ ဦး ဗျ, သိ ရင် လမ်းညွှန် ပေး ကြ ပါ, လမ်းညွှန် ပေး ပါ ဦး]</td>\n",
              "    </tr>\n",
              "    <tr>\n",
              "      <th>14</th>\n",
              "      <td>13</td>\n",
              "      <td>71</td>\n",
              "      <td>13_ဖြေ_ပေး_ရေဖိုး_ဖြေကြား</td>\n",
              "      <td>[ဖြေ, ပေး, ရေဖိုး, ဖြေကြား, လက်ဆောင်, ရောင်း, သူ, ဆိတ်သား, ကောင်လေး, ငွေလွှဲ]</td>\n",
              "      <td>[သိ တဲ့ သူ များ ကျေးဇူးပြု ၍ ဖြေ ပေး စေ ချင် ပါ တယ်, သိ တဲ့ သူ များ ဖြေ ပေး ကြ ပါ ရှင့်, ပြ ဖူး သူ များ ဖြေ ပေး ကြ ပါ နော်]</td>\n",
              "    </tr>\n",
              "    <tr>\n",
              "      <th>15</th>\n",
              "      <td>14</td>\n",
              "      <td>70</td>\n",
              "      <td>14_စာရေးဆရာ_ပြော_စကား_ကြောင်ရုပ်</td>\n",
              "      <td>[စာရေးဆရာ, ပြော, စကား, ကြောင်ရုပ်, အစိမ်းရင့်ရောင်, အကဲဖြတ်, ချင်ချင်, အမျိုးအစားစုံ, မက်ဆေ့, မွေးမြူ]</td>\n",
              "      <td>[ရေး လို့ လဲ ကောင်း အသွင်အပြင် မှာ လဲ စမတ်ကျ တာ မို့ လုပ်ငန်းခွင် ဝင် နေ တဲ့ မေမေ တို့ ကို လက်ဆောင် ပေး ဖို့ အကောင်းဆုံး ဖောင်တိန် ပဲ, အိမ် မှာ ပဲ နေ တဲ့ သူ တွေ တင် မ ဟုတ် ဘဲ အားလုံး ဖတ် သင့် တဲ့ ဖတ် ထား သင့် တဲ့ အမျိုးအစား စုံ စာရေးဆရာ ငါး ဦး ရဲ့ စာအုပ် တွေ ကို ရွေးချယ် ပေး သွား မှာ ပဲ ဖြစ် ပါ တယ်, အိမ် မှာ ပဲ နေ တဲ့ သူ တွေ တင် မ ဟုတ် ဘဲ အားလုံး ဖတ် သင့် တဲ့ ဖတ် ထား သင့် တဲ့ အမျိုးအစားစုံ စာရေးဆရာ ငါး ဦး ရဲ့ စာအုပ် တွေ ကို ရွေးချယ် ပေး သွား မှာ ပဲ ဖြစ် ပါ တယ်]</td>\n",
              "    </tr>\n",
              "    <tr>\n",
              "      <th>16</th>\n",
              "      <td>15</td>\n",
              "      <td>67</td>\n",
              "      <td>15_လေ_နှာခေါင်း_အိမ်_အစုံ</td>\n",
              "      <td>[လေ, နှာခေါင်း, အိမ်, အစုံ, ဖိနပ်စီး, ကျူးလွန်, သက်ဆိုင်သူ, ဓါတ်ဘူး, အသည်းကွဲ, စုစုစည်းစည်း]</td>\n",
              "      <td>[ပြောင်းလဲမှု ဆိုတာ လူ တွေ မ မြင် အောင် သိမ်း ပြီး ထုပ်ပိုး ထား လို့ ရ တဲ့ အရာ မှ မ ဟုတ် ဘဲ လေ နော်, ဘဝ မှာ လေ သူများ ပိုက်ဆံ ကို မတရား သဖြင့် လို ချင် စိတ် တစ်စက် မှ မ ရှိ ပါ ဘူး ရှင့်, လူ့ အသားအရည် ဆိုတာ အပြစ် အနာအဆာ နဲ့ မ ကင်း လေ တော့ စိတ်ညစ် ရ တဲ့ အသားအရည် ပြဿနာ ဆိုတာ လူ တိုင်း မှာ ရှိ မယ် ထင် ပါ တယ်]</td>\n",
              "    </tr>\n",
              "    <tr>\n",
              "      <th>17</th>\n",
              "      <td>16</td>\n",
              "      <td>65</td>\n",
              "      <td>16_မော_အရေးကြီး_ကြောက်_သယ်</td>\n",
              "      <td>[မော, အရေးကြီး, ကြောက်, သယ်, လက်ချောင်း, စိုးရိမ်, ဖြစ်သည့်သူ, ရက်လိဇ်, ပူပင်တတ်သူ, အသက်ကြီးသူ]</td>\n",
              "      <td>[အဲ့ဒီ အပင် ရဲ့ အပွင့် နဲ့ အရွက် တွေ ကို ချေ လိုက် ရင် သံပရာ အနံ့ ရ ပါ တယ်, အနိမ့် အမြင့် လုပ် နိုင် ရုံ သာမက ထိုင်ခုံ ပုံစံ လဲ ပြောင်း လို့ ရ တဲ့ အတွက် သုံး ရ တာ အလွန် အဆင်ပြေ ပါ တယ်, ဒူးခေါင်း နှင့် လက်ချောင်း အဆစ် များ အလွန် ဆိုးရွား စွာ နာကျင် ကိုက်ခဲ ပြီး တင်း ရောင် နေ ပါ တယ်]</td>\n",
              "    </tr>\n",
              "    <tr>\n",
              "      <th>18</th>\n",
              "      <td>17</td>\n",
              "      <td>65</td>\n",
              "      <td>17_သွေးလေးဘက်နာ_အသက်_နာ_ဆတ်ခနဲ</td>\n",
              "      <td>[သွေးလေးဘက်နာ, အသက်, နာ, ဆတ်ခနဲ, ခုနှစ်ဆယ့်, ငါးဆယ့်, အဆို့ရှင်, နှလုံး, ဆက်တိုက်ခုန်, မျိုးရိုးလိုက်]</td>\n",
              "      <td>[ဦးလေး က အသက် ခြောက်ဆယ့် လေး နှစ် ဆီးချိုသက် နှစ်ဆယ့် ငါး နှစ် ပါ, တစ်ခါတစ်လေ အသက် ပြင်းပြင်းရှူ လိုက် ရင် နှလုံး ဆတ်ခနဲ ဆတ်ခနဲ နာ တယ်, နှလုံး ကို သွေးလွှတ်ခန်း သွေးပြန်ခန်း နှလုံး အဆို့ရှင် သွေးလွှတ်ကြော တွေ သွေးပြန်ကြော တွေ နဲ့ ဖွဲ့စည်း ထား ပါ တယ်]</td>\n",
              "    </tr>\n",
              "    <tr>\n",
              "      <th>19</th>\n",
              "      <td>18</td>\n",
              "      <td>63</td>\n",
              "      <td>18_ဆီးချို_ပုံမှန်_ကြက်ဥပြုတ်_သွေးတိုး</td>\n",
              "      <td>[ဆီးချို, ပုံမှန်, ကြက်ဥပြုတ်, သွေးတိုး, နီး, ကျန်, နေ့, ဆေးခန်း, အစားအသောက်, စိုး]</td>\n",
              "      <td>[ဆီးချို များ နေ တယ်, ဆီးချို မ ရှိ ပါ ဘူး ရှင်, ဆီးချို လည်း နည်းနည်း များ တယ်]</td>\n",
              "    </tr>\n",
              "    <tr>\n",
              "      <th>20</th>\n",
              "      <td>19</td>\n",
              "      <td>62</td>\n",
              "      <td>19_ပြော_ဓာတ်စာ_လျှော့_ချစ်</td>\n",
              "      <td>[ပြော, ဓာတ်စာ, လျှော့, ချစ်, အစားစား, ပြန်လာ, မျှဝေ, အာမခံ, အချို, မမ]</td>\n",
              "      <td>[အချို လေး နည်းနည်း လျှော့ ပေး ရင် ကောင်း မယ်, အိတ် လေး တွေ ချစ် ဖို့ ကောင်း လို့ မ နေ နိုင် လို့ ရောင်း ပေး ပါ ဦး မယ်, နေ လို့ ထိုင် လို့ လည်း မ ကောင်း တဲ့ အပြင် အစားစား ချင် စိတ် ပါ မ ရှိ ဖြစ် နေ လို့ ပြောပြ ပေး ကြ ပါ ဦး ရှင့်]</td>\n",
              "    </tr>\n",
              "    <tr>\n",
              "      <th>21</th>\n",
              "      <td>20</td>\n",
              "      <td>62</td>\n",
              "      <td>20_ထိန်းညှိ_မျက်နှာပန်းလှ_ကာ_ချောမွတ်</td>\n",
              "      <td>[ထိန်းညှိ, မျက်နှာပန်းလှ, ကာ, ချောမွတ်, ဆု, ပြောပြ, လျှော့ချ, အဆီပြန်, ဘေးဖယ်, ဆွဲခြင်း]</td>\n",
              "      <td>[လက် ထဲ ငွေသား မ ရှိ လည်း လကုန် မှ ပို့ ပေး ဆို ပြီး ဖုန်းနံပါတ် နဲ့ လိပ်စာ အတိအကျ လေး ပေး ပြီး ကြိုမှာ ထား ချင် ရင် ရ ပါ တယ်, အဆီပြန် တာ ကို လည်း ထိန်း ပေး ပြီး အစိုဓာတ် ကို မျှတ နေ အောင် ထိန်းညှိ ပေး တဲ့ အတွက် အသား လေး ကြည် ပြီး ချောမွတ် နေ စေ တယ် နော်, အဆီပြန် တာ ကို လဲ ထိန်း ပေး ပြီး အစိုဓာတ် ကို မျှတ နေ အောင် ထိန်းညှိ ပေး တဲ့ အတွက် အသား လေး ကြည် ပြီး ချောမွတ် နေ စေ တယ် နော်]</td>\n",
              "    </tr>\n",
              "    <tr>\n",
              "      <th>22</th>\n",
              "      <td>21</td>\n",
              "      <td>59</td>\n",
              "      <td>21_ကောင်း_လှမ်း_စား_တော်တော်</td>\n",
              "      <td>[ကောင်း, လှမ်း, စား, တော်တော်, တအား, အစ်မ, ကိုဗစ်, ကျောက်ကပ်, မို့, ဆီးချို]</td>\n",
              "      <td>[မ ကောင်း ပါ ဘူး, မြန်မြန် ပြီး တိုင်း ကောင်း တာ မ ဟုတ် ဘူး, သင် တာ ကောင်း လို့ ပါ]</td>\n",
              "    </tr>\n",
              "    <tr>\n",
              "      <th>23</th>\n",
              "      <td>22</td>\n",
              "      <td>58</td>\n",
              "      <td>22_ရဲယိုသီး_အတင်း_ပြော_ဆေးကန်</td>\n",
              "      <td>[ရဲယိုသီး, အတင်း, ပြော, ဆေးကန်, ဥက္ကဌ, ကာယကံရှင်, အိတ်ခ်ျအာ, သွေးကွဲ, ရင်ကယ်, ပြောက်ကင်း]</td>\n",
              "      <td>[အချင်းချင်း သွေးကွဲ စေ မဲ့ စကား မ ပြော ပါ နဲ့, ချမ်းသာ မှန် သမျှ လို ချင် ရင် သူများ အတင်း မ ပြော နဲ့ တဲ့, ဘယ်လို ကြွပ် တယ် ရွ တယ် စားကောင်း တယ် ဆိုတာ အမေရိကန် သူ လေး က မနားတမ်း ပြော တော့ တာ ပါ ပဲ]</td>\n",
              "    </tr>\n",
              "    <tr>\n",
              "      <th>24</th>\n",
              "      <td>23</td>\n",
              "      <td>57</td>\n",
              "      <td>23_ရေခပ်_အပန်း_လမ်းညွန်_အစိုဓာတ်</td>\n",
              "      <td>[ရေခပ်, အပန်း, လမ်းညွန်, အစိုဓာတ်, ကျောက်မီးသွေး, နေလောင်ဒဏ်, အကြံ, အကောက်ခွန်, ဘောနပ်စ်, လမ်းခရီး]</td>\n",
              "      <td>[သီးသန့် အော်ဒါ ပြုလုပ် ပေး ရ ခြင်း ဖြစ် သောကြောင့် အနည်းဆုံး အထည် ငါးဆယ် မှာယူ ပေး ရ ပါ မယ်, ကျောက်မီးသွေး နဲ့ ပြုလုပ် ထား တာ ကြောင့် အဆီပြန် ခြင်း ကို ထိန်းချုပ် ပေး ပြီး ရေဓာတ် ဖြည့် ပေး ပါ တယ်, ရေဓာတ် ဖြည့် ပေး လို့ အသားရည် ခြောက်သွေ့ တာ တွေ သက်သာ စေ ပြီး အစိုဓာတ် ပါ ထိန်း ပေး သေး တယ် နော်]</td>\n",
              "    </tr>\n",
              "    <tr>\n",
              "      <th>25</th>\n",
              "      <td>24</td>\n",
              "      <td>54</td>\n",
              "      <td>24_လေးဘက်နာ_ကျောက်ကပ်_သက်သာ_ရာသီလာ</td>\n",
              "      <td>[လေးဘက်နာ, ကျောက်ကပ်, သက်သာ, ရာသီလာ, စိတ်ပင်ပန်းမှု, ရက်, ဆယ့်ရှစ်, စဉ်, ခြောက်ဆယ်, ဘေးထွက်]</td>\n",
              "      <td>[သုံး လ ဆို တဲ့ အချိန်ကာလ အတွက် ပရောဂျက် တိုင်းမ်လိုင်း ရေးဆွဲ ထား ပေမယ့် အကြောင်း အမျိုးမျိုး ကြောင့် နောက်ကျ တာ တွေ လဲ ရှိ တယ်, ဘေးထွက် ဆိုးကျိုး က လုံးဝ မ ရှိ တဲ့ အပြင် အသက်အရွယ် ဆယ့်ရှစ် နှစ် မှ အသက် ခြောက်ဆယ် အထိ သောက်သုံး နိုင် ပြီး အဆီ လဲ တကယ် ကျ တဲ့ ကော်ဖီ ဖြစ် ပါ တယ်, ဘေးထွက် ဆိုးကျိုး က လုံးဝ မ ရှိ တဲ့ အပြင် အသက်အရွယ် ဆယ့်ရှစ် နှစ် မှ အသက် ခြောက်ဆယ် ထိ သောက်သုံး နိုင် ပြီး အဆီ လဲ တကယ် ကျ တဲ့ ကော်ဖီ ဖြစ် ပါ တယ်]</td>\n",
              "    </tr>\n",
              "    <tr>\n",
              "      <th>26</th>\n",
              "      <td>25</td>\n",
              "      <td>54</td>\n",
              "      <td>25_စား_ကန်ဇွန်းရိုးနီ_သွား_သွေးတိုးချိန်</td>\n",
              "      <td>[စား, ကန်ဇွန်းရိုးနီ, သွား, သွေးတိုးချိန်, လျှာလည်, ပေါင်မုန့်, တစ်ဝက်, ထပ်, ဗိုက်, အစားစား]</td>\n",
              "      <td>[ဘယ်လို တွေ တောင် လိုက်ဖက် ပြီး စားကောင်း လဲ ဆိုတာ အခု မှ စား ပြီး တာ တောင် ထပ် စား ချင် တာ, ကန်ဇွန်းရိုးနီ စား နိုင် သမျှ စား ပါ, ဘာ ပဲ စား စား ကန်ဇွန်းရိုးနီ ကို ကိုယ် ကြိုက် သလို လုပ်စား ပါ]</td>\n",
              "    </tr>\n",
              "    <tr>\n",
              "      <th>27</th>\n",
              "      <td>26</td>\n",
              "      <td>50</td>\n",
              "      <td>26_ဂရုစိုက်_မျက်စိ_မျက်နှာ_ရေးဆွဲနည်း</td>\n",
              "      <td>[ဂရုစိုက်, မျက်စိ, မျက်နှာ, ရေးဆွဲနည်း, အားစိုက်ထုတ်မှု, ဟာလဝါ, ကွာရှင်း, ဘီရို, အဝတ်စင်, တွဲ]</td>\n",
              "      <td>[နေရာ ကျယ်ကျယ် မ လို ဘဲ ချိတ် လေး နဲ့ ဘီရို ထဲ ဖြစ်ဖြစ် အဝတ်စင် မှာ ဖြစ်ဖြစ် ချိတ် ထား ရုံ ပဲ, အဖေ နဲ့ ကွာရှင်း လိုက် ခြင်း ဟာ အမေ့ အတွက် ဝဋ်ကြွေး တစ်ခု ကနေ တရားသေ လွတ်မြောက် ရာ လမ်းကြောင်း တစ်ခု ဖြစ် ခဲ့ တယ်, မီးခလုတ် ဖွင့် တာ နဲ့ အပူချိန် ကို အလျင်အမြန် ရရှိ ပြီး မည်သည့် ဟင်း ကို မဆို လျင်မြန် စွာ ချက်ပြုတ် နိုင် ပါ တယ် ရှင်]</td>\n",
              "    </tr>\n",
              "  </tbody>\n",
              "</table>\n",
              "</div>\n",
              "    <div class=\"colab-df-buttons\">\n",
              "\n",
              "  <div class=\"colab-df-container\">\n",
              "    <button class=\"colab-df-convert\" onclick=\"convertToInteractive('df-011b832e-11b8-4a5f-b326-071331ebd3a8')\"\n",
              "            title=\"Convert this dataframe to an interactive table.\"\n",
              "            style=\"display:none;\">\n",
              "\n",
              "  <svg xmlns=\"http://www.w3.org/2000/svg\" height=\"24px\" viewBox=\"0 -960 960 960\">\n",
              "    <path d=\"M120-120v-720h720v720H120Zm60-500h600v-160H180v160Zm220 220h160v-160H400v160Zm0 220h160v-160H400v160ZM180-400h160v-160H180v160Zm440 0h160v-160H620v160ZM180-180h160v-160H180v160Zm440 0h160v-160H620v160Z\"/>\n",
              "  </svg>\n",
              "    </button>\n",
              "\n",
              "  <style>\n",
              "    .colab-df-container {\n",
              "      display:flex;\n",
              "      gap: 12px;\n",
              "    }\n",
              "\n",
              "    .colab-df-convert {\n",
              "      background-color: #E8F0FE;\n",
              "      border: none;\n",
              "      border-radius: 50%;\n",
              "      cursor: pointer;\n",
              "      display: none;\n",
              "      fill: #1967D2;\n",
              "      height: 32px;\n",
              "      padding: 0 0 0 0;\n",
              "      width: 32px;\n",
              "    }\n",
              "\n",
              "    .colab-df-convert:hover {\n",
              "      background-color: #E2EBFA;\n",
              "      box-shadow: 0px 1px 2px rgba(60, 64, 67, 0.3), 0px 1px 3px 1px rgba(60, 64, 67, 0.15);\n",
              "      fill: #174EA6;\n",
              "    }\n",
              "\n",
              "    .colab-df-buttons div {\n",
              "      margin-bottom: 4px;\n",
              "    }\n",
              "\n",
              "    [theme=dark] .colab-df-convert {\n",
              "      background-color: #3B4455;\n",
              "      fill: #D2E3FC;\n",
              "    }\n",
              "\n",
              "    [theme=dark] .colab-df-convert:hover {\n",
              "      background-color: #434B5C;\n",
              "      box-shadow: 0px 1px 3px 1px rgba(0, 0, 0, 0.15);\n",
              "      filter: drop-shadow(0px 1px 2px rgba(0, 0, 0, 0.3));\n",
              "      fill: #FFFFFF;\n",
              "    }\n",
              "  </style>\n",
              "\n",
              "    <script>\n",
              "      const buttonEl =\n",
              "        document.querySelector('#df-011b832e-11b8-4a5f-b326-071331ebd3a8 button.colab-df-convert');\n",
              "      buttonEl.style.display =\n",
              "        google.colab.kernel.accessAllowed ? 'block' : 'none';\n",
              "\n",
              "      async function convertToInteractive(key) {\n",
              "        const element = document.querySelector('#df-011b832e-11b8-4a5f-b326-071331ebd3a8');\n",
              "        const dataTable =\n",
              "          await google.colab.kernel.invokeFunction('convertToInteractive',\n",
              "                                                    [key], {});\n",
              "        if (!dataTable) return;\n",
              "\n",
              "        const docLinkHtml = 'Like what you see? Visit the ' +\n",
              "          '<a target=\"_blank\" href=https://colab.research.google.com/notebooks/data_table.ipynb>data table notebook</a>'\n",
              "          + ' to learn more about interactive tables.';\n",
              "        element.innerHTML = '';\n",
              "        dataTable['output_type'] = 'display_data';\n",
              "        await google.colab.output.renderOutput(dataTable, element);\n",
              "        const docLink = document.createElement('div');\n",
              "        docLink.innerHTML = docLinkHtml;\n",
              "        element.appendChild(docLink);\n",
              "      }\n",
              "    </script>\n",
              "  </div>\n",
              "\n",
              "\n",
              "<div id=\"df-34f7c9ad-4345-42d8-a4d0-af0cf9396fe1\">\n",
              "  <button class=\"colab-df-quickchart\" onclick=\"quickchart('df-34f7c9ad-4345-42d8-a4d0-af0cf9396fe1')\"\n",
              "            title=\"Suggest charts\"\n",
              "            style=\"display:none;\">\n",
              "\n",
              "<svg xmlns=\"http://www.w3.org/2000/svg\" height=\"24px\"viewBox=\"0 0 24 24\"\n",
              "     width=\"24px\">\n",
              "    <g>\n",
              "        <path d=\"M19 3H5c-1.1 0-2 .9-2 2v14c0 1.1.9 2 2 2h14c1.1 0 2-.9 2-2V5c0-1.1-.9-2-2-2zM9 17H7v-7h2v7zm4 0h-2V7h2v10zm4 0h-2v-4h2v4z\"/>\n",
              "    </g>\n",
              "</svg>\n",
              "  </button>\n",
              "\n",
              "<style>\n",
              "  .colab-df-quickchart {\n",
              "      --bg-color: #E8F0FE;\n",
              "      --fill-color: #1967D2;\n",
              "      --hover-bg-color: #E2EBFA;\n",
              "      --hover-fill-color: #174EA6;\n",
              "      --disabled-fill-color: #AAA;\n",
              "      --disabled-bg-color: #DDD;\n",
              "  }\n",
              "\n",
              "  [theme=dark] .colab-df-quickchart {\n",
              "      --bg-color: #3B4455;\n",
              "      --fill-color: #D2E3FC;\n",
              "      --hover-bg-color: #434B5C;\n",
              "      --hover-fill-color: #FFFFFF;\n",
              "      --disabled-bg-color: #3B4455;\n",
              "      --disabled-fill-color: #666;\n",
              "  }\n",
              "\n",
              "  .colab-df-quickchart {\n",
              "    background-color: var(--bg-color);\n",
              "    border: none;\n",
              "    border-radius: 50%;\n",
              "    cursor: pointer;\n",
              "    display: none;\n",
              "    fill: var(--fill-color);\n",
              "    height: 32px;\n",
              "    padding: 0;\n",
              "    width: 32px;\n",
              "  }\n",
              "\n",
              "  .colab-df-quickchart:hover {\n",
              "    background-color: var(--hover-bg-color);\n",
              "    box-shadow: 0 1px 2px rgba(60, 64, 67, 0.3), 0 1px 3px 1px rgba(60, 64, 67, 0.15);\n",
              "    fill: var(--button-hover-fill-color);\n",
              "  }\n",
              "\n",
              "  .colab-df-quickchart-complete:disabled,\n",
              "  .colab-df-quickchart-complete:disabled:hover {\n",
              "    background-color: var(--disabled-bg-color);\n",
              "    fill: var(--disabled-fill-color);\n",
              "    box-shadow: none;\n",
              "  }\n",
              "\n",
              "  .colab-df-spinner {\n",
              "    border: 2px solid var(--fill-color);\n",
              "    border-color: transparent;\n",
              "    border-bottom-color: var(--fill-color);\n",
              "    animation:\n",
              "      spin 1s steps(1) infinite;\n",
              "  }\n",
              "\n",
              "  @keyframes spin {\n",
              "    0% {\n",
              "      border-color: transparent;\n",
              "      border-bottom-color: var(--fill-color);\n",
              "      border-left-color: var(--fill-color);\n",
              "    }\n",
              "    20% {\n",
              "      border-color: transparent;\n",
              "      border-left-color: var(--fill-color);\n",
              "      border-top-color: var(--fill-color);\n",
              "    }\n",
              "    30% {\n",
              "      border-color: transparent;\n",
              "      border-left-color: var(--fill-color);\n",
              "      border-top-color: var(--fill-color);\n",
              "      border-right-color: var(--fill-color);\n",
              "    }\n",
              "    40% {\n",
              "      border-color: transparent;\n",
              "      border-right-color: var(--fill-color);\n",
              "      border-top-color: var(--fill-color);\n",
              "    }\n",
              "    60% {\n",
              "      border-color: transparent;\n",
              "      border-right-color: var(--fill-color);\n",
              "    }\n",
              "    80% {\n",
              "      border-color: transparent;\n",
              "      border-right-color: var(--fill-color);\n",
              "      border-bottom-color: var(--fill-color);\n",
              "    }\n",
              "    90% {\n",
              "      border-color: transparent;\n",
              "      border-bottom-color: var(--fill-color);\n",
              "    }\n",
              "  }\n",
              "</style>\n",
              "\n",
              "  <script>\n",
              "    async function quickchart(key) {\n",
              "      const quickchartButtonEl =\n",
              "        document.querySelector('#' + key + ' button');\n",
              "      quickchartButtonEl.disabled = true;  // To prevent multiple clicks.\n",
              "      quickchartButtonEl.classList.add('colab-df-spinner');\n",
              "      try {\n",
              "        const charts = await google.colab.kernel.invokeFunction(\n",
              "            'suggestCharts', [key], {});\n",
              "      } catch (error) {\n",
              "        console.error('Error during call to suggestCharts:', error);\n",
              "      }\n",
              "      quickchartButtonEl.classList.remove('colab-df-spinner');\n",
              "      quickchartButtonEl.classList.add('colab-df-quickchart-complete');\n",
              "    }\n",
              "    (() => {\n",
              "      let quickchartButtonEl =\n",
              "        document.querySelector('#df-34f7c9ad-4345-42d8-a4d0-af0cf9396fe1 button');\n",
              "      quickchartButtonEl.style.display =\n",
              "        google.colab.kernel.accessAllowed ? 'block' : 'none';\n",
              "    })();\n",
              "  </script>\n",
              "</div>\n",
              "    </div>\n",
              "  </div>\n"
            ]
          },
          "metadata": {},
          "execution_count": 27
        }
      ]
    },
    {
      "cell_type": "code",
      "source": [
        "topic_model.get_topic(0)  # Select the most frequent topic"
      ],
      "metadata": {
        "colab": {
          "base_uri": "https://localhost:8080/"
        },
        "id": "m5VtqiJNWHwG",
        "outputId": "311c3ae8-0572-4a8a-b3b8-b17d2d35160c"
      },
      "execution_count": 28,
      "outputs": [
        {
          "output_type": "execute_result",
          "data": {
            "text/plain": [
              "[('နေထိုင်', 0.16310459256986332),\n",
              " ('အော်', 0.16001381773178178),\n",
              " ('ကပ်', 0.15231346102550042),\n",
              " ('အွန်လိုင်း', 0.15220961294041796),\n",
              " ('မိုက်', 0.151305734069517),\n",
              " ('စဉ်းစား', 0.1510591653234243),\n",
              " ('ကား', 0.15075304604996684),\n",
              " ('အသက်ရှူ', 0.1505193903675395),\n",
              " ('စီး', 0.1505040787518755),\n",
              " ('ခေတ်', 0.1496344339603597)]"
            ]
          },
          "metadata": {},
          "execution_count": 28
        }
      ]
    },
    {
      "cell_type": "code",
      "source": [
        "# Interactive graph\n",
        "topic_model.visualize_topics()"
      ],
      "metadata": {
        "colab": {
          "base_uri": "https://localhost:8080/",
          "height": 687
        },
        "id": "gk5415VamHqY",
        "outputId": "24d83921-56e4-48b2-8d9d-98109074f1d3"
      },
      "execution_count": 29,
      "outputs": [
        {
          "output_type": "display_data",
          "data": {
            "text/html": [
              "<html>\n",
              "<head><meta charset=\"utf-8\" /></head>\n",
              "<body>\n",
              "    <div>            <script src=\"https://cdnjs.cloudflare.com/ajax/libs/mathjax/2.7.5/MathJax.js?config=TeX-AMS-MML_SVG\"></script><script type=\"text/javascript\">if (window.MathJax && window.MathJax.Hub && window.MathJax.Hub.Config) {window.MathJax.Hub.Config({SVG: {font: \"STIX-Web\"}});}</script>                <script type=\"text/javascript\">window.PlotlyConfig = {MathJaxConfig: 'local'};</script>\n",
              "        <script charset=\"utf-8\" src=\"https://cdn.plot.ly/plotly-2.24.1.min.js\"></script>                <div id=\"6e18eafd-97e6-4a90-885b-7fba0edd4a20\" class=\"plotly-graph-div\" style=\"height:650px; width:650px;\"></div>            <script type=\"text/javascript\">                                    window.PLOTLYENV=window.PLOTLYENV || {};                                    if (document.getElementById(\"6e18eafd-97e6-4a90-885b-7fba0edd4a20\")) {                    Plotly.newPlot(                        \"6e18eafd-97e6-4a90-885b-7fba0edd4a20\",                        [{\"customdata\":[[0,\"\\u1014\\u1031\\u1011\\u102d\\u102f\\u1004\\u103a | \\u1021\\u1031\\u102c\\u103a | \\u1000\\u1015\\u103a | \\u1021\\u103d\\u1014\\u103a\\u101c\\u102d\\u102f\\u1004\\u103a\\u1038 | \\u1019\\u102d\\u102f\\u1000\\u103a\",6295],[1,\"\\u101b\\u1031\\u102c\\u1004\\u103a\\u1038\\u1001\\u103b | \\u1019\\u102d\\u1010\\u103a\\u1006\\u1000\\u103a | \\u1015\\u102d\\u102f\\u1037\\u1006\\u1031\\u102c\\u1004\\u103a | \\u1015\\u1031\\u1038 | \\u1021\\u100a\\u1005\\u103a\\u1021\\u1000\\u103c\\u1031\\u1038\",1433],[2,\"\\u101e\\u1031\\u102c\\u1000\\u103a | \\u1006\\u1031\\u1038 | \\u101e\\u103d\\u1031\\u1038\\u1000\\u103b\\u1006\\u1031\\u1038 | \\u1021\\u101b\\u1000\\u103a | \\u1021\\u102c\\u1038\\u1006\\u1031\\u1038\",743],[3,\"\\u101d\\u1010\\u103a | \\u1011\\u103d\\u1000\\u103a | \\u1019\\u103c\\u1004\\u103a | \\u1006\\u102d\\u102f\\u1004\\u103a | \\u1021\\u101c\\u102f\\u1015\\u103a\",343],[4,\"\\u101e\\u103d\\u102c\\u1038 | \\u101e\\u1031\\u1038 | \\u1021\\u102c\\u101c\\u1030\\u1038 | \\u1005\\u102c\\u1038 | \\u101e\\u102f\\u1015\\u103a\",201],[5,\"\\u1010\\u1005\\u103a | \\u1005\\u1004\\u103a | \\u1014\\u1031\\u1037 | \\u1015\\u103d\\u1032 | \\u1012\\u102b\\u101b\\u102d\\u102f\\u1000\\u103a\\u1010\\u102c\",128],[6,\"\\u101e\\u103d\\u1031\\u1038 | \\u1010\\u102d\\u102f\\u1038 | \\u1021\\u1006\\u1004\\u103a\\u1015\\u103c\\u1031 | \\u1000\\u103c\\u100a\\u103a\\u1037 | \\u1001\\u102f\\u1014\\u103a\",116],[7,\"\\u101e\\u1030 | \\u1008\\u1031\\u1038 | \\u1006\\u1036\\u101e\\u102c\\u1038\\u1001\\u103c\\u1031\\u102c\\u1000\\u103a | \\u1021\\u101d\\u102d\\u102f\\u1004\\u103a\\u1038 | \\u1021\\u1011\\u1030\\u1038\",91],[8,\"\\u1015\\u103b\\u1031\\u102c\\u103a | \\u1005\\u102d\\u1010\\u103a | \\u1021\\u1000\\u1031\\u102c\\u1004\\u103a\\u1038\\u1019\\u103c\\u1004\\u103a | \\u1000\\u102f\\u1014\\u103a | \\u1021\\u101b\\u101e\\u102c\",86],[9,\"\\u1000\\u1031\\u102c\\u1004\\u103a\\u1038 | \\u1005\\u102d\\u1010\\u103a\\u1011\\u102c\\u1038 | \\u1000\\u1036\\u1000\\u1031\\u102c\\u1004\\u103a\\u1038 | \\u1021\\u1000\\u103c\\u1031\\u102c\\u1021\\u1011\\u1030\\u1038\\u1000\\u102f | \\u1018\\u101b\\u1014\\u103a\\u1038\",85],[10,\"\\u101e\\u1031\\u102c\\u1000\\u103a | \\u1006\\u1031\\u1038 | \\u1001\\u103b\\u1004\\u103a\\u1038 | \\u101e\\u1000\\u103a\\u101e\\u102c | \",81],[11,\"\\u100c\\u102c\\u1014\\u1019\\u103e\\u1030\\u1038 | \\u1001\\u1015\\u103a\\u1015\\u103c\\u1010\\u103a\\u1015\\u103c\\u1010\\u103a | \\u1021\\u1010\\u100a\\u103a | \\u1015\\u103c\\u1031\\u102c | \\u1000\\u103b\\u1031\\u102c\\u1004\\u103a\\u1038\",80],[12,\"\\u101c\\u1019\\u103a\\u1038\\u100a\\u103d\\u103e\\u1014\\u103a | \\u1021\\u1000\\u103c\\u1036 | \\u1021\\u1000\\u103c\\u1036\\u1015\\u103c\\u102f | \\u1016\\u102f\\u1014\\u103a\\u1038\\u1006\\u1000\\u103a | \\u101e\\u102d\\u1019\\u103a\\u1038\",79],[13,\"\\u1016\\u103c\\u1031 | \\u1015\\u1031\\u1038 | \\u101b\\u1031\\u1016\\u102d\\u102f\\u1038 | \\u1016\\u103c\\u1031\\u1000\\u103c\\u102c\\u1038 | \\u101c\\u1000\\u103a\\u1006\\u1031\\u102c\\u1004\\u103a\",71],[14,\"\\u1005\\u102c\\u101b\\u1031\\u1038\\u1006\\u101b\\u102c | \\u1015\\u103c\\u1031\\u102c | \\u1005\\u1000\\u102c\\u1038 | \\u1000\\u103c\\u1031\\u102c\\u1004\\u103a\\u101b\\u102f\\u1015\\u103a | \\u1021\\u1005\\u102d\\u1019\\u103a\\u1038\\u101b\\u1004\\u103a\\u1037\\u101b\\u1031\\u102c\\u1004\\u103a\",70],[15,\"\\u101c\\u1031 | \\u1014\\u103e\\u102c\\u1001\\u1031\\u102b\\u1004\\u103a\\u1038 | \\u1021\\u102d\\u1019\\u103a | \\u1021\\u1005\\u102f\\u1036 | \\u1016\\u102d\\u1014\\u1015\\u103a\\u1005\\u102e\\u1038\",67],[16,\"\\u1019\\u1031\\u102c | \\u1021\\u101b\\u1031\\u1038\\u1000\\u103c\\u102e\\u1038 | \\u1000\\u103c\\u1031\\u102c\\u1000\\u103a | \\u101e\\u101a\\u103a | \\u101c\\u1000\\u103a\\u1001\\u103b\\u1031\\u102c\\u1004\\u103a\\u1038\",65],[17,\"\\u101e\\u103d\\u1031\\u1038\\u101c\\u1031\\u1038\\u1018\\u1000\\u103a\\u1014\\u102c | \\u1021\\u101e\\u1000\\u103a | \\u1014\\u102c | \\u1006\\u1010\\u103a\\u1001\\u1014\\u1032 | \\u1001\\u102f\\u1014\\u103e\\u1005\\u103a\\u1006\\u101a\\u103a\\u1037\",65],[18,\"\\u1006\\u102e\\u1038\\u1001\\u103b\\u102d\\u102f | \\u1015\\u102f\\u1036\\u1019\\u103e\\u1014\\u103a | \\u1000\\u103c\\u1000\\u103a\\u1025\\u1015\\u103c\\u102f\\u1010\\u103a | \\u101e\\u103d\\u1031\\u1038\\u1010\\u102d\\u102f\\u1038 | \\u1014\\u102e\\u1038\",63],[19,\"\\u1015\\u103c\\u1031\\u102c | \\u1013\\u102c\\u1010\\u103a\\u1005\\u102c | \\u101c\\u103b\\u103e\\u1031\\u102c\\u1037 | \\u1001\\u103b\\u1005\\u103a | \\u1021\\u1005\\u102c\\u1038\\u1005\\u102c\\u1038\",62],[20,\"\\u1011\\u102d\\u1014\\u103a\\u1038\\u100a\\u103e\\u102d | \\u1019\\u103b\\u1000\\u103a\\u1014\\u103e\\u102c\\u1015\\u1014\\u103a\\u1038\\u101c\\u103e | \\u1000\\u102c | \\u1001\\u103b\\u1031\\u102c\\u1019\\u103d\\u1010\\u103a | \\u1006\\u102f\",62],[21,\"\\u1000\\u1031\\u102c\\u1004\\u103a\\u1038 | \\u101c\\u103e\\u1019\\u103a\\u1038 | \\u1005\\u102c\\u1038 | \\u1010\\u1031\\u102c\\u103a\\u1010\\u1031\\u102c\\u103a | \\u1010\\u1021\\u102c\\u1038\",59],[22,\"\\u101b\\u1032\\u101a\\u102d\\u102f\\u101e\\u102e\\u1038 | \\u1021\\u1010\\u1004\\u103a\\u1038 | \\u1015\\u103c\\u1031\\u102c | \\u1006\\u1031\\u1038\\u1000\\u1014\\u103a | \\u1025\\u1000\\u1039\\u1000\\u100c\",58],[23,\"\\u101b\\u1031\\u1001\\u1015\\u103a | \\u1021\\u1015\\u1014\\u103a\\u1038 | \\u101c\\u1019\\u103a\\u1038\\u100a\\u103d\\u1014\\u103a | \\u1021\\u1005\\u102d\\u102f\\u1013\\u102c\\u1010\\u103a | \\u1000\\u103b\\u1031\\u102c\\u1000\\u103a\\u1019\\u102e\\u1038\\u101e\\u103d\\u1031\\u1038\",57],[24,\"\\u101c\\u1031\\u1038\\u1018\\u1000\\u103a\\u1014\\u102c | \\u1000\\u103b\\u1031\\u102c\\u1000\\u103a\\u1000\\u1015\\u103a | \\u101e\\u1000\\u103a\\u101e\\u102c | \\u101b\\u102c\\u101e\\u102e\\u101c\\u102c | \\u1005\\u102d\\u1010\\u103a\\u1015\\u1004\\u103a\\u1015\\u1014\\u103a\\u1038\\u1019\\u103e\\u102f\",54],[25,\"\\u1005\\u102c\\u1038 | \\u1000\\u1014\\u103a\\u1007\\u103d\\u1014\\u103a\\u1038\\u101b\\u102d\\u102f\\u1038\\u1014\\u102e | \\u101e\\u103d\\u102c\\u1038 | \\u101e\\u103d\\u1031\\u1038\\u1010\\u102d\\u102f\\u1038\\u1001\\u103b\\u102d\\u1014\\u103a | \\u101c\\u103b\\u103e\\u102c\\u101c\\u100a\\u103a\",54],[26,\"\\u1002\\u101b\\u102f\\u1005\\u102d\\u102f\\u1000\\u103a | \\u1019\\u103b\\u1000\\u103a\\u1005\\u102d | \\u1019\\u103b\\u1000\\u103a\\u1014\\u103e\\u102c | \\u101b\\u1031\\u1038\\u1006\\u103d\\u1032\\u1014\\u100a\\u103a\\u1038 | \\u1021\\u102c\\u1038\\u1005\\u102d\\u102f\\u1000\\u103a\\u1011\\u102f\\u1010\\u103a\\u1019\\u103e\\u102f\",50]],\"hovertemplate\":\"\\u003cb\\u003eTopic %{customdata[0]}\\u003c\\u002fb\\u003e\\u003cbr\\u003e%{customdata[1]}\\u003cbr\\u003eSize: %{customdata[2]}\",\"legendgroup\":\"\",\"marker\":{\"color\":\"#B0BEC5\",\"size\":[6295,1433,743,343,201,128,116,91,86,85,81,80,79,71,70,67,65,65,63,62,62,59,58,57,54,54,50],\"sizemode\":\"area\",\"sizeref\":3.934375,\"symbol\":\"circle\",\"line\":{\"color\":\"DarkSlateGrey\",\"width\":2}},\"mode\":\"markers\",\"name\":\"\",\"orientation\":\"v\",\"showlegend\":false,\"x\":[1.215934157371521,-1.4153013229370117,12.962925910949707,2.687659502029419,17.07262420654297,1.639250636100769,2.3685572147369385,1.3591890335083008,2.9543581008911133,9.1157865524292,13.077462196350098,0.255636066198349,-0.9776384234428406,-1.0059821605682373,-0.3695293068885803,2.828157901763916,1.2773970365524292,1.1395832300186157,17.330734252929688,-0.23439230024814606,-1.1479907035827637,9.186758041381836,0.3861679136753082,-1.0568580627441406,1.7395401000976562,17.1462345123291,1.7929326295852661],\"xaxis\":\"x\",\"y\":[3.70194673538208,-13.663264274597168,6.581593036651611,3.927461624145508,0.03189113736152649,3.73864483833313,4.763152599334717,4.0221381187438965,4.15210485458374,4.603896141052246,6.69605016708374,-18.54940414428711,-13.700849533081055,-13.019936561584473,-18.32223129272461,3.8197548389434814,5.750066757202148,5.97985315322876,-0.22625645995140076,-18.422664642333984,-13.988704681396484,4.532584190368652,-18.417308807373047,-13.164064407348633,4.48175048828125,-0.04170607775449753,3.97900390625],\"yaxis\":\"y\",\"type\":\"scatter\"}],                        {\"template\":{\"data\":{\"barpolar\":[{\"marker\":{\"line\":{\"color\":\"white\",\"width\":0.5},\"pattern\":{\"fillmode\":\"overlay\",\"size\":10,\"solidity\":0.2}},\"type\":\"barpolar\"}],\"bar\":[{\"error_x\":{\"color\":\"rgb(36,36,36)\"},\"error_y\":{\"color\":\"rgb(36,36,36)\"},\"marker\":{\"line\":{\"color\":\"white\",\"width\":0.5},\"pattern\":{\"fillmode\":\"overlay\",\"size\":10,\"solidity\":0.2}},\"type\":\"bar\"}],\"carpet\":[{\"aaxis\":{\"endlinecolor\":\"rgb(36,36,36)\",\"gridcolor\":\"white\",\"linecolor\":\"white\",\"minorgridcolor\":\"white\",\"startlinecolor\":\"rgb(36,36,36)\"},\"baxis\":{\"endlinecolor\":\"rgb(36,36,36)\",\"gridcolor\":\"white\",\"linecolor\":\"white\",\"minorgridcolor\":\"white\",\"startlinecolor\":\"rgb(36,36,36)\"},\"type\":\"carpet\"}],\"choropleth\":[{\"colorbar\":{\"outlinewidth\":1,\"tickcolor\":\"rgb(36,36,36)\",\"ticks\":\"outside\"},\"type\":\"choropleth\"}],\"contourcarpet\":[{\"colorbar\":{\"outlinewidth\":1,\"tickcolor\":\"rgb(36,36,36)\",\"ticks\":\"outside\"},\"type\":\"contourcarpet\"}],\"contour\":[{\"colorbar\":{\"outlinewidth\":1,\"tickcolor\":\"rgb(36,36,36)\",\"ticks\":\"outside\"},\"colorscale\":[[0.0,\"#440154\"],[0.1111111111111111,\"#482878\"],[0.2222222222222222,\"#3e4989\"],[0.3333333333333333,\"#31688e\"],[0.4444444444444444,\"#26828e\"],[0.5555555555555556,\"#1f9e89\"],[0.6666666666666666,\"#35b779\"],[0.7777777777777778,\"#6ece58\"],[0.8888888888888888,\"#b5de2b\"],[1.0,\"#fde725\"]],\"type\":\"contour\"}],\"heatmapgl\":[{\"colorbar\":{\"outlinewidth\":1,\"tickcolor\":\"rgb(36,36,36)\",\"ticks\":\"outside\"},\"colorscale\":[[0.0,\"#440154\"],[0.1111111111111111,\"#482878\"],[0.2222222222222222,\"#3e4989\"],[0.3333333333333333,\"#31688e\"],[0.4444444444444444,\"#26828e\"],[0.5555555555555556,\"#1f9e89\"],[0.6666666666666666,\"#35b779\"],[0.7777777777777778,\"#6ece58\"],[0.8888888888888888,\"#b5de2b\"],[1.0,\"#fde725\"]],\"type\":\"heatmapgl\"}],\"heatmap\":[{\"colorbar\":{\"outlinewidth\":1,\"tickcolor\":\"rgb(36,36,36)\",\"ticks\":\"outside\"},\"colorscale\":[[0.0,\"#440154\"],[0.1111111111111111,\"#482878\"],[0.2222222222222222,\"#3e4989\"],[0.3333333333333333,\"#31688e\"],[0.4444444444444444,\"#26828e\"],[0.5555555555555556,\"#1f9e89\"],[0.6666666666666666,\"#35b779\"],[0.7777777777777778,\"#6ece58\"],[0.8888888888888888,\"#b5de2b\"],[1.0,\"#fde725\"]],\"type\":\"heatmap\"}],\"histogram2dcontour\":[{\"colorbar\":{\"outlinewidth\":1,\"tickcolor\":\"rgb(36,36,36)\",\"ticks\":\"outside\"},\"colorscale\":[[0.0,\"#440154\"],[0.1111111111111111,\"#482878\"],[0.2222222222222222,\"#3e4989\"],[0.3333333333333333,\"#31688e\"],[0.4444444444444444,\"#26828e\"],[0.5555555555555556,\"#1f9e89\"],[0.6666666666666666,\"#35b779\"],[0.7777777777777778,\"#6ece58\"],[0.8888888888888888,\"#b5de2b\"],[1.0,\"#fde725\"]],\"type\":\"histogram2dcontour\"}],\"histogram2d\":[{\"colorbar\":{\"outlinewidth\":1,\"tickcolor\":\"rgb(36,36,36)\",\"ticks\":\"outside\"},\"colorscale\":[[0.0,\"#440154\"],[0.1111111111111111,\"#482878\"],[0.2222222222222222,\"#3e4989\"],[0.3333333333333333,\"#31688e\"],[0.4444444444444444,\"#26828e\"],[0.5555555555555556,\"#1f9e89\"],[0.6666666666666666,\"#35b779\"],[0.7777777777777778,\"#6ece58\"],[0.8888888888888888,\"#b5de2b\"],[1.0,\"#fde725\"]],\"type\":\"histogram2d\"}],\"histogram\":[{\"marker\":{\"line\":{\"color\":\"white\",\"width\":0.6}},\"type\":\"histogram\"}],\"mesh3d\":[{\"colorbar\":{\"outlinewidth\":1,\"tickcolor\":\"rgb(36,36,36)\",\"ticks\":\"outside\"},\"type\":\"mesh3d\"}],\"parcoords\":[{\"line\":{\"colorbar\":{\"outlinewidth\":1,\"tickcolor\":\"rgb(36,36,36)\",\"ticks\":\"outside\"}},\"type\":\"parcoords\"}],\"pie\":[{\"automargin\":true,\"type\":\"pie\"}],\"scatter3d\":[{\"line\":{\"colorbar\":{\"outlinewidth\":1,\"tickcolor\":\"rgb(36,36,36)\",\"ticks\":\"outside\"}},\"marker\":{\"colorbar\":{\"outlinewidth\":1,\"tickcolor\":\"rgb(36,36,36)\",\"ticks\":\"outside\"}},\"type\":\"scatter3d\"}],\"scattercarpet\":[{\"marker\":{\"colorbar\":{\"outlinewidth\":1,\"tickcolor\":\"rgb(36,36,36)\",\"ticks\":\"outside\"}},\"type\":\"scattercarpet\"}],\"scattergeo\":[{\"marker\":{\"colorbar\":{\"outlinewidth\":1,\"tickcolor\":\"rgb(36,36,36)\",\"ticks\":\"outside\"}},\"type\":\"scattergeo\"}],\"scattergl\":[{\"marker\":{\"colorbar\":{\"outlinewidth\":1,\"tickcolor\":\"rgb(36,36,36)\",\"ticks\":\"outside\"}},\"type\":\"scattergl\"}],\"scattermapbox\":[{\"marker\":{\"colorbar\":{\"outlinewidth\":1,\"tickcolor\":\"rgb(36,36,36)\",\"ticks\":\"outside\"}},\"type\":\"scattermapbox\"}],\"scatterpolargl\":[{\"marker\":{\"colorbar\":{\"outlinewidth\":1,\"tickcolor\":\"rgb(36,36,36)\",\"ticks\":\"outside\"}},\"type\":\"scatterpolargl\"}],\"scatterpolar\":[{\"marker\":{\"colorbar\":{\"outlinewidth\":1,\"tickcolor\":\"rgb(36,36,36)\",\"ticks\":\"outside\"}},\"type\":\"scatterpolar\"}],\"scatter\":[{\"fillpattern\":{\"fillmode\":\"overlay\",\"size\":10,\"solidity\":0.2},\"type\":\"scatter\"}],\"scatterternary\":[{\"marker\":{\"colorbar\":{\"outlinewidth\":1,\"tickcolor\":\"rgb(36,36,36)\",\"ticks\":\"outside\"}},\"type\":\"scatterternary\"}],\"surface\":[{\"colorbar\":{\"outlinewidth\":1,\"tickcolor\":\"rgb(36,36,36)\",\"ticks\":\"outside\"},\"colorscale\":[[0.0,\"#440154\"],[0.1111111111111111,\"#482878\"],[0.2222222222222222,\"#3e4989\"],[0.3333333333333333,\"#31688e\"],[0.4444444444444444,\"#26828e\"],[0.5555555555555556,\"#1f9e89\"],[0.6666666666666666,\"#35b779\"],[0.7777777777777778,\"#6ece58\"],[0.8888888888888888,\"#b5de2b\"],[1.0,\"#fde725\"]],\"type\":\"surface\"}],\"table\":[{\"cells\":{\"fill\":{\"color\":\"rgb(237,237,237)\"},\"line\":{\"color\":\"white\"}},\"header\":{\"fill\":{\"color\":\"rgb(217,217,217)\"},\"line\":{\"color\":\"white\"}},\"type\":\"table\"}]},\"layout\":{\"annotationdefaults\":{\"arrowhead\":0,\"arrowwidth\":1},\"autotypenumbers\":\"strict\",\"coloraxis\":{\"colorbar\":{\"outlinewidth\":1,\"tickcolor\":\"rgb(36,36,36)\",\"ticks\":\"outside\"}},\"colorscale\":{\"diverging\":[[0.0,\"rgb(103,0,31)\"],[0.1,\"rgb(178,24,43)\"],[0.2,\"rgb(214,96,77)\"],[0.3,\"rgb(244,165,130)\"],[0.4,\"rgb(253,219,199)\"],[0.5,\"rgb(247,247,247)\"],[0.6,\"rgb(209,229,240)\"],[0.7,\"rgb(146,197,222)\"],[0.8,\"rgb(67,147,195)\"],[0.9,\"rgb(33,102,172)\"],[1.0,\"rgb(5,48,97)\"]],\"sequential\":[[0.0,\"#440154\"],[0.1111111111111111,\"#482878\"],[0.2222222222222222,\"#3e4989\"],[0.3333333333333333,\"#31688e\"],[0.4444444444444444,\"#26828e\"],[0.5555555555555556,\"#1f9e89\"],[0.6666666666666666,\"#35b779\"],[0.7777777777777778,\"#6ece58\"],[0.8888888888888888,\"#b5de2b\"],[1.0,\"#fde725\"]],\"sequentialminus\":[[0.0,\"#440154\"],[0.1111111111111111,\"#482878\"],[0.2222222222222222,\"#3e4989\"],[0.3333333333333333,\"#31688e\"],[0.4444444444444444,\"#26828e\"],[0.5555555555555556,\"#1f9e89\"],[0.6666666666666666,\"#35b779\"],[0.7777777777777778,\"#6ece58\"],[0.8888888888888888,\"#b5de2b\"],[1.0,\"#fde725\"]]},\"colorway\":[\"#1F77B4\",\"#FF7F0E\",\"#2CA02C\",\"#D62728\",\"#9467BD\",\"#8C564B\",\"#E377C2\",\"#7F7F7F\",\"#BCBD22\",\"#17BECF\"],\"font\":{\"color\":\"rgb(36,36,36)\"},\"geo\":{\"bgcolor\":\"white\",\"lakecolor\":\"white\",\"landcolor\":\"white\",\"showlakes\":true,\"showland\":true,\"subunitcolor\":\"white\"},\"hoverlabel\":{\"align\":\"left\"},\"hovermode\":\"closest\",\"mapbox\":{\"style\":\"light\"},\"paper_bgcolor\":\"white\",\"plot_bgcolor\":\"white\",\"polar\":{\"angularaxis\":{\"gridcolor\":\"rgb(232,232,232)\",\"linecolor\":\"rgb(36,36,36)\",\"showgrid\":false,\"showline\":true,\"ticks\":\"outside\"},\"bgcolor\":\"white\",\"radialaxis\":{\"gridcolor\":\"rgb(232,232,232)\",\"linecolor\":\"rgb(36,36,36)\",\"showgrid\":false,\"showline\":true,\"ticks\":\"outside\"}},\"scene\":{\"xaxis\":{\"backgroundcolor\":\"white\",\"gridcolor\":\"rgb(232,232,232)\",\"gridwidth\":2,\"linecolor\":\"rgb(36,36,36)\",\"showbackground\":true,\"showgrid\":false,\"showline\":true,\"ticks\":\"outside\",\"zeroline\":false,\"zerolinecolor\":\"rgb(36,36,36)\"},\"yaxis\":{\"backgroundcolor\":\"white\",\"gridcolor\":\"rgb(232,232,232)\",\"gridwidth\":2,\"linecolor\":\"rgb(36,36,36)\",\"showbackground\":true,\"showgrid\":false,\"showline\":true,\"ticks\":\"outside\",\"zeroline\":false,\"zerolinecolor\":\"rgb(36,36,36)\"},\"zaxis\":{\"backgroundcolor\":\"white\",\"gridcolor\":\"rgb(232,232,232)\",\"gridwidth\":2,\"linecolor\":\"rgb(36,36,36)\",\"showbackground\":true,\"showgrid\":false,\"showline\":true,\"ticks\":\"outside\",\"zeroline\":false,\"zerolinecolor\":\"rgb(36,36,36)\"}},\"shapedefaults\":{\"fillcolor\":\"black\",\"line\":{\"width\":0},\"opacity\":0.3},\"ternary\":{\"aaxis\":{\"gridcolor\":\"rgb(232,232,232)\",\"linecolor\":\"rgb(36,36,36)\",\"showgrid\":false,\"showline\":true,\"ticks\":\"outside\"},\"baxis\":{\"gridcolor\":\"rgb(232,232,232)\",\"linecolor\":\"rgb(36,36,36)\",\"showgrid\":false,\"showline\":true,\"ticks\":\"outside\"},\"bgcolor\":\"white\",\"caxis\":{\"gridcolor\":\"rgb(232,232,232)\",\"linecolor\":\"rgb(36,36,36)\",\"showgrid\":false,\"showline\":true,\"ticks\":\"outside\"}},\"title\":{\"x\":0.05},\"xaxis\":{\"automargin\":true,\"gridcolor\":\"rgb(232,232,232)\",\"linecolor\":\"rgb(36,36,36)\",\"showgrid\":false,\"showline\":true,\"ticks\":\"outside\",\"title\":{\"standoff\":15},\"zeroline\":false,\"zerolinecolor\":\"rgb(36,36,36)\"},\"yaxis\":{\"automargin\":true,\"gridcolor\":\"rgb(232,232,232)\",\"linecolor\":\"rgb(36,36,36)\",\"showgrid\":false,\"showline\":true,\"ticks\":\"outside\",\"title\":{\"standoff\":15},\"zeroline\":false,\"zerolinecolor\":\"rgb(36,36,36)\"}}},\"xaxis\":{\"anchor\":\"y\",\"domain\":[0.0,1.0],\"title\":{\"text\":\"\"},\"visible\":false,\"range\":[-1.6275965213775634,19.93034439086914]},\"yaxis\":{\"anchor\":\"x\",\"domain\":[0.0,1.0],\"title\":{\"text\":\"\"},\"visible\":false,\"range\":[-21.331814765930176,7.700457692146301]},\"legend\":{\"tracegroupgap\":0,\"itemsizing\":\"constant\"},\"margin\":{\"t\":60},\"title\":{\"font\":{\"size\":22,\"color\":\"Black\"},\"text\":\"\\u003cb\\u003eIntertopic Distance Map\\u003c\\u002fb\\u003e\",\"y\":0.95,\"x\":0.5,\"xanchor\":\"center\",\"yanchor\":\"top\"},\"hoverlabel\":{\"font\":{\"size\":16,\"family\":\"Rockwell\"},\"bgcolor\":\"white\"},\"width\":650,\"height\":650,\"sliders\":[{\"active\":0,\"pad\":{\"t\":50},\"steps\":[{\"args\":[{\"marker.color\":[[\"red\",\"#B0BEC5\",\"#B0BEC5\",\"#B0BEC5\",\"#B0BEC5\",\"#B0BEC5\",\"#B0BEC5\",\"#B0BEC5\",\"#B0BEC5\",\"#B0BEC5\",\"#B0BEC5\",\"#B0BEC5\",\"#B0BEC5\",\"#B0BEC5\",\"#B0BEC5\",\"#B0BEC5\",\"#B0BEC5\",\"#B0BEC5\",\"#B0BEC5\",\"#B0BEC5\",\"#B0BEC5\",\"#B0BEC5\",\"#B0BEC5\",\"#B0BEC5\",\"#B0BEC5\",\"#B0BEC5\",\"#B0BEC5\"]]}],\"label\":\"Topic 0\",\"method\":\"update\"},{\"args\":[{\"marker.color\":[[\"#B0BEC5\",\"red\",\"#B0BEC5\",\"#B0BEC5\",\"#B0BEC5\",\"#B0BEC5\",\"#B0BEC5\",\"#B0BEC5\",\"#B0BEC5\",\"#B0BEC5\",\"#B0BEC5\",\"#B0BEC5\",\"#B0BEC5\",\"#B0BEC5\",\"#B0BEC5\",\"#B0BEC5\",\"#B0BEC5\",\"#B0BEC5\",\"#B0BEC5\",\"#B0BEC5\",\"#B0BEC5\",\"#B0BEC5\",\"#B0BEC5\",\"#B0BEC5\",\"#B0BEC5\",\"#B0BEC5\",\"#B0BEC5\"]]}],\"label\":\"Topic 1\",\"method\":\"update\"},{\"args\":[{\"marker.color\":[[\"#B0BEC5\",\"#B0BEC5\",\"red\",\"#B0BEC5\",\"#B0BEC5\",\"#B0BEC5\",\"#B0BEC5\",\"#B0BEC5\",\"#B0BEC5\",\"#B0BEC5\",\"#B0BEC5\",\"#B0BEC5\",\"#B0BEC5\",\"#B0BEC5\",\"#B0BEC5\",\"#B0BEC5\",\"#B0BEC5\",\"#B0BEC5\",\"#B0BEC5\",\"#B0BEC5\",\"#B0BEC5\",\"#B0BEC5\",\"#B0BEC5\",\"#B0BEC5\",\"#B0BEC5\",\"#B0BEC5\",\"#B0BEC5\"]]}],\"label\":\"Topic 2\",\"method\":\"update\"},{\"args\":[{\"marker.color\":[[\"#B0BEC5\",\"#B0BEC5\",\"#B0BEC5\",\"red\",\"#B0BEC5\",\"#B0BEC5\",\"#B0BEC5\",\"#B0BEC5\",\"#B0BEC5\",\"#B0BEC5\",\"#B0BEC5\",\"#B0BEC5\",\"#B0BEC5\",\"#B0BEC5\",\"#B0BEC5\",\"#B0BEC5\",\"#B0BEC5\",\"#B0BEC5\",\"#B0BEC5\",\"#B0BEC5\",\"#B0BEC5\",\"#B0BEC5\",\"#B0BEC5\",\"#B0BEC5\",\"#B0BEC5\",\"#B0BEC5\",\"#B0BEC5\"]]}],\"label\":\"Topic 3\",\"method\":\"update\"},{\"args\":[{\"marker.color\":[[\"#B0BEC5\",\"#B0BEC5\",\"#B0BEC5\",\"#B0BEC5\",\"red\",\"#B0BEC5\",\"#B0BEC5\",\"#B0BEC5\",\"#B0BEC5\",\"#B0BEC5\",\"#B0BEC5\",\"#B0BEC5\",\"#B0BEC5\",\"#B0BEC5\",\"#B0BEC5\",\"#B0BEC5\",\"#B0BEC5\",\"#B0BEC5\",\"#B0BEC5\",\"#B0BEC5\",\"#B0BEC5\",\"#B0BEC5\",\"#B0BEC5\",\"#B0BEC5\",\"#B0BEC5\",\"#B0BEC5\",\"#B0BEC5\"]]}],\"label\":\"Topic 4\",\"method\":\"update\"},{\"args\":[{\"marker.color\":[[\"#B0BEC5\",\"#B0BEC5\",\"#B0BEC5\",\"#B0BEC5\",\"#B0BEC5\",\"red\",\"#B0BEC5\",\"#B0BEC5\",\"#B0BEC5\",\"#B0BEC5\",\"#B0BEC5\",\"#B0BEC5\",\"#B0BEC5\",\"#B0BEC5\",\"#B0BEC5\",\"#B0BEC5\",\"#B0BEC5\",\"#B0BEC5\",\"#B0BEC5\",\"#B0BEC5\",\"#B0BEC5\",\"#B0BEC5\",\"#B0BEC5\",\"#B0BEC5\",\"#B0BEC5\",\"#B0BEC5\",\"#B0BEC5\"]]}],\"label\":\"Topic 5\",\"method\":\"update\"},{\"args\":[{\"marker.color\":[[\"#B0BEC5\",\"#B0BEC5\",\"#B0BEC5\",\"#B0BEC5\",\"#B0BEC5\",\"#B0BEC5\",\"red\",\"#B0BEC5\",\"#B0BEC5\",\"#B0BEC5\",\"#B0BEC5\",\"#B0BEC5\",\"#B0BEC5\",\"#B0BEC5\",\"#B0BEC5\",\"#B0BEC5\",\"#B0BEC5\",\"#B0BEC5\",\"#B0BEC5\",\"#B0BEC5\",\"#B0BEC5\",\"#B0BEC5\",\"#B0BEC5\",\"#B0BEC5\",\"#B0BEC5\",\"#B0BEC5\",\"#B0BEC5\"]]}],\"label\":\"Topic 6\",\"method\":\"update\"},{\"args\":[{\"marker.color\":[[\"#B0BEC5\",\"#B0BEC5\",\"#B0BEC5\",\"#B0BEC5\",\"#B0BEC5\",\"#B0BEC5\",\"#B0BEC5\",\"red\",\"#B0BEC5\",\"#B0BEC5\",\"#B0BEC5\",\"#B0BEC5\",\"#B0BEC5\",\"#B0BEC5\",\"#B0BEC5\",\"#B0BEC5\",\"#B0BEC5\",\"#B0BEC5\",\"#B0BEC5\",\"#B0BEC5\",\"#B0BEC5\",\"#B0BEC5\",\"#B0BEC5\",\"#B0BEC5\",\"#B0BEC5\",\"#B0BEC5\",\"#B0BEC5\"]]}],\"label\":\"Topic 7\",\"method\":\"update\"},{\"args\":[{\"marker.color\":[[\"#B0BEC5\",\"#B0BEC5\",\"#B0BEC5\",\"#B0BEC5\",\"#B0BEC5\",\"#B0BEC5\",\"#B0BEC5\",\"#B0BEC5\",\"red\",\"#B0BEC5\",\"#B0BEC5\",\"#B0BEC5\",\"#B0BEC5\",\"#B0BEC5\",\"#B0BEC5\",\"#B0BEC5\",\"#B0BEC5\",\"#B0BEC5\",\"#B0BEC5\",\"#B0BEC5\",\"#B0BEC5\",\"#B0BEC5\",\"#B0BEC5\",\"#B0BEC5\",\"#B0BEC5\",\"#B0BEC5\",\"#B0BEC5\"]]}],\"label\":\"Topic 8\",\"method\":\"update\"},{\"args\":[{\"marker.color\":[[\"#B0BEC5\",\"#B0BEC5\",\"#B0BEC5\",\"#B0BEC5\",\"#B0BEC5\",\"#B0BEC5\",\"#B0BEC5\",\"#B0BEC5\",\"#B0BEC5\",\"red\",\"#B0BEC5\",\"#B0BEC5\",\"#B0BEC5\",\"#B0BEC5\",\"#B0BEC5\",\"#B0BEC5\",\"#B0BEC5\",\"#B0BEC5\",\"#B0BEC5\",\"#B0BEC5\",\"#B0BEC5\",\"#B0BEC5\",\"#B0BEC5\",\"#B0BEC5\",\"#B0BEC5\",\"#B0BEC5\",\"#B0BEC5\"]]}],\"label\":\"Topic 9\",\"method\":\"update\"},{\"args\":[{\"marker.color\":[[\"#B0BEC5\",\"#B0BEC5\",\"#B0BEC5\",\"#B0BEC5\",\"#B0BEC5\",\"#B0BEC5\",\"#B0BEC5\",\"#B0BEC5\",\"#B0BEC5\",\"#B0BEC5\",\"red\",\"#B0BEC5\",\"#B0BEC5\",\"#B0BEC5\",\"#B0BEC5\",\"#B0BEC5\",\"#B0BEC5\",\"#B0BEC5\",\"#B0BEC5\",\"#B0BEC5\",\"#B0BEC5\",\"#B0BEC5\",\"#B0BEC5\",\"#B0BEC5\",\"#B0BEC5\",\"#B0BEC5\",\"#B0BEC5\"]]}],\"label\":\"Topic 10\",\"method\":\"update\"},{\"args\":[{\"marker.color\":[[\"#B0BEC5\",\"#B0BEC5\",\"#B0BEC5\",\"#B0BEC5\",\"#B0BEC5\",\"#B0BEC5\",\"#B0BEC5\",\"#B0BEC5\",\"#B0BEC5\",\"#B0BEC5\",\"#B0BEC5\",\"red\",\"#B0BEC5\",\"#B0BEC5\",\"#B0BEC5\",\"#B0BEC5\",\"#B0BEC5\",\"#B0BEC5\",\"#B0BEC5\",\"#B0BEC5\",\"#B0BEC5\",\"#B0BEC5\",\"#B0BEC5\",\"#B0BEC5\",\"#B0BEC5\",\"#B0BEC5\",\"#B0BEC5\"]]}],\"label\":\"Topic 11\",\"method\":\"update\"},{\"args\":[{\"marker.color\":[[\"#B0BEC5\",\"#B0BEC5\",\"#B0BEC5\",\"#B0BEC5\",\"#B0BEC5\",\"#B0BEC5\",\"#B0BEC5\",\"#B0BEC5\",\"#B0BEC5\",\"#B0BEC5\",\"#B0BEC5\",\"#B0BEC5\",\"red\",\"#B0BEC5\",\"#B0BEC5\",\"#B0BEC5\",\"#B0BEC5\",\"#B0BEC5\",\"#B0BEC5\",\"#B0BEC5\",\"#B0BEC5\",\"#B0BEC5\",\"#B0BEC5\",\"#B0BEC5\",\"#B0BEC5\",\"#B0BEC5\",\"#B0BEC5\"]]}],\"label\":\"Topic 12\",\"method\":\"update\"},{\"args\":[{\"marker.color\":[[\"#B0BEC5\",\"#B0BEC5\",\"#B0BEC5\",\"#B0BEC5\",\"#B0BEC5\",\"#B0BEC5\",\"#B0BEC5\",\"#B0BEC5\",\"#B0BEC5\",\"#B0BEC5\",\"#B0BEC5\",\"#B0BEC5\",\"#B0BEC5\",\"red\",\"#B0BEC5\",\"#B0BEC5\",\"#B0BEC5\",\"#B0BEC5\",\"#B0BEC5\",\"#B0BEC5\",\"#B0BEC5\",\"#B0BEC5\",\"#B0BEC5\",\"#B0BEC5\",\"#B0BEC5\",\"#B0BEC5\",\"#B0BEC5\"]]}],\"label\":\"Topic 13\",\"method\":\"update\"},{\"args\":[{\"marker.color\":[[\"#B0BEC5\",\"#B0BEC5\",\"#B0BEC5\",\"#B0BEC5\",\"#B0BEC5\",\"#B0BEC5\",\"#B0BEC5\",\"#B0BEC5\",\"#B0BEC5\",\"#B0BEC5\",\"#B0BEC5\",\"#B0BEC5\",\"#B0BEC5\",\"#B0BEC5\",\"red\",\"#B0BEC5\",\"#B0BEC5\",\"#B0BEC5\",\"#B0BEC5\",\"#B0BEC5\",\"#B0BEC5\",\"#B0BEC5\",\"#B0BEC5\",\"#B0BEC5\",\"#B0BEC5\",\"#B0BEC5\",\"#B0BEC5\"]]}],\"label\":\"Topic 14\",\"method\":\"update\"},{\"args\":[{\"marker.color\":[[\"#B0BEC5\",\"#B0BEC5\",\"#B0BEC5\",\"#B0BEC5\",\"#B0BEC5\",\"#B0BEC5\",\"#B0BEC5\",\"#B0BEC5\",\"#B0BEC5\",\"#B0BEC5\",\"#B0BEC5\",\"#B0BEC5\",\"#B0BEC5\",\"#B0BEC5\",\"#B0BEC5\",\"red\",\"#B0BEC5\",\"#B0BEC5\",\"#B0BEC5\",\"#B0BEC5\",\"#B0BEC5\",\"#B0BEC5\",\"#B0BEC5\",\"#B0BEC5\",\"#B0BEC5\",\"#B0BEC5\",\"#B0BEC5\"]]}],\"label\":\"Topic 15\",\"method\":\"update\"},{\"args\":[{\"marker.color\":[[\"#B0BEC5\",\"#B0BEC5\",\"#B0BEC5\",\"#B0BEC5\",\"#B0BEC5\",\"#B0BEC5\",\"#B0BEC5\",\"#B0BEC5\",\"#B0BEC5\",\"#B0BEC5\",\"#B0BEC5\",\"#B0BEC5\",\"#B0BEC5\",\"#B0BEC5\",\"#B0BEC5\",\"#B0BEC5\",\"red\",\"#B0BEC5\",\"#B0BEC5\",\"#B0BEC5\",\"#B0BEC5\",\"#B0BEC5\",\"#B0BEC5\",\"#B0BEC5\",\"#B0BEC5\",\"#B0BEC5\",\"#B0BEC5\"]]}],\"label\":\"Topic 16\",\"method\":\"update\"},{\"args\":[{\"marker.color\":[[\"#B0BEC5\",\"#B0BEC5\",\"#B0BEC5\",\"#B0BEC5\",\"#B0BEC5\",\"#B0BEC5\",\"#B0BEC5\",\"#B0BEC5\",\"#B0BEC5\",\"#B0BEC5\",\"#B0BEC5\",\"#B0BEC5\",\"#B0BEC5\",\"#B0BEC5\",\"#B0BEC5\",\"#B0BEC5\",\"#B0BEC5\",\"red\",\"#B0BEC5\",\"#B0BEC5\",\"#B0BEC5\",\"#B0BEC5\",\"#B0BEC5\",\"#B0BEC5\",\"#B0BEC5\",\"#B0BEC5\",\"#B0BEC5\"]]}],\"label\":\"Topic 17\",\"method\":\"update\"},{\"args\":[{\"marker.color\":[[\"#B0BEC5\",\"#B0BEC5\",\"#B0BEC5\",\"#B0BEC5\",\"#B0BEC5\",\"#B0BEC5\",\"#B0BEC5\",\"#B0BEC5\",\"#B0BEC5\",\"#B0BEC5\",\"#B0BEC5\",\"#B0BEC5\",\"#B0BEC5\",\"#B0BEC5\",\"#B0BEC5\",\"#B0BEC5\",\"#B0BEC5\",\"#B0BEC5\",\"red\",\"#B0BEC5\",\"#B0BEC5\",\"#B0BEC5\",\"#B0BEC5\",\"#B0BEC5\",\"#B0BEC5\",\"#B0BEC5\",\"#B0BEC5\"]]}],\"label\":\"Topic 18\",\"method\":\"update\"},{\"args\":[{\"marker.color\":[[\"#B0BEC5\",\"#B0BEC5\",\"#B0BEC5\",\"#B0BEC5\",\"#B0BEC5\",\"#B0BEC5\",\"#B0BEC5\",\"#B0BEC5\",\"#B0BEC5\",\"#B0BEC5\",\"#B0BEC5\",\"#B0BEC5\",\"#B0BEC5\",\"#B0BEC5\",\"#B0BEC5\",\"#B0BEC5\",\"#B0BEC5\",\"#B0BEC5\",\"#B0BEC5\",\"red\",\"#B0BEC5\",\"#B0BEC5\",\"#B0BEC5\",\"#B0BEC5\",\"#B0BEC5\",\"#B0BEC5\",\"#B0BEC5\"]]}],\"label\":\"Topic 19\",\"method\":\"update\"},{\"args\":[{\"marker.color\":[[\"#B0BEC5\",\"#B0BEC5\",\"#B0BEC5\",\"#B0BEC5\",\"#B0BEC5\",\"#B0BEC5\",\"#B0BEC5\",\"#B0BEC5\",\"#B0BEC5\",\"#B0BEC5\",\"#B0BEC5\",\"#B0BEC5\",\"#B0BEC5\",\"#B0BEC5\",\"#B0BEC5\",\"#B0BEC5\",\"#B0BEC5\",\"#B0BEC5\",\"#B0BEC5\",\"#B0BEC5\",\"red\",\"#B0BEC5\",\"#B0BEC5\",\"#B0BEC5\",\"#B0BEC5\",\"#B0BEC5\",\"#B0BEC5\"]]}],\"label\":\"Topic 20\",\"method\":\"update\"},{\"args\":[{\"marker.color\":[[\"#B0BEC5\",\"#B0BEC5\",\"#B0BEC5\",\"#B0BEC5\",\"#B0BEC5\",\"#B0BEC5\",\"#B0BEC5\",\"#B0BEC5\",\"#B0BEC5\",\"#B0BEC5\",\"#B0BEC5\",\"#B0BEC5\",\"#B0BEC5\",\"#B0BEC5\",\"#B0BEC5\",\"#B0BEC5\",\"#B0BEC5\",\"#B0BEC5\",\"#B0BEC5\",\"#B0BEC5\",\"#B0BEC5\",\"red\",\"#B0BEC5\",\"#B0BEC5\",\"#B0BEC5\",\"#B0BEC5\",\"#B0BEC5\"]]}],\"label\":\"Topic 21\",\"method\":\"update\"},{\"args\":[{\"marker.color\":[[\"#B0BEC5\",\"#B0BEC5\",\"#B0BEC5\",\"#B0BEC5\",\"#B0BEC5\",\"#B0BEC5\",\"#B0BEC5\",\"#B0BEC5\",\"#B0BEC5\",\"#B0BEC5\",\"#B0BEC5\",\"#B0BEC5\",\"#B0BEC5\",\"#B0BEC5\",\"#B0BEC5\",\"#B0BEC5\",\"#B0BEC5\",\"#B0BEC5\",\"#B0BEC5\",\"#B0BEC5\",\"#B0BEC5\",\"#B0BEC5\",\"red\",\"#B0BEC5\",\"#B0BEC5\",\"#B0BEC5\",\"#B0BEC5\"]]}],\"label\":\"Topic 22\",\"method\":\"update\"},{\"args\":[{\"marker.color\":[[\"#B0BEC5\",\"#B0BEC5\",\"#B0BEC5\",\"#B0BEC5\",\"#B0BEC5\",\"#B0BEC5\",\"#B0BEC5\",\"#B0BEC5\",\"#B0BEC5\",\"#B0BEC5\",\"#B0BEC5\",\"#B0BEC5\",\"#B0BEC5\",\"#B0BEC5\",\"#B0BEC5\",\"#B0BEC5\",\"#B0BEC5\",\"#B0BEC5\",\"#B0BEC5\",\"#B0BEC5\",\"#B0BEC5\",\"#B0BEC5\",\"#B0BEC5\",\"red\",\"#B0BEC5\",\"#B0BEC5\",\"#B0BEC5\"]]}],\"label\":\"Topic 23\",\"method\":\"update\"},{\"args\":[{\"marker.color\":[[\"#B0BEC5\",\"#B0BEC5\",\"#B0BEC5\",\"#B0BEC5\",\"#B0BEC5\",\"#B0BEC5\",\"#B0BEC5\",\"#B0BEC5\",\"#B0BEC5\",\"#B0BEC5\",\"#B0BEC5\",\"#B0BEC5\",\"#B0BEC5\",\"#B0BEC5\",\"#B0BEC5\",\"#B0BEC5\",\"#B0BEC5\",\"#B0BEC5\",\"#B0BEC5\",\"#B0BEC5\",\"#B0BEC5\",\"#B0BEC5\",\"#B0BEC5\",\"#B0BEC5\",\"red\",\"#B0BEC5\",\"#B0BEC5\"]]}],\"label\":\"Topic 24\",\"method\":\"update\"},{\"args\":[{\"marker.color\":[[\"#B0BEC5\",\"#B0BEC5\",\"#B0BEC5\",\"#B0BEC5\",\"#B0BEC5\",\"#B0BEC5\",\"#B0BEC5\",\"#B0BEC5\",\"#B0BEC5\",\"#B0BEC5\",\"#B0BEC5\",\"#B0BEC5\",\"#B0BEC5\",\"#B0BEC5\",\"#B0BEC5\",\"#B0BEC5\",\"#B0BEC5\",\"#B0BEC5\",\"#B0BEC5\",\"#B0BEC5\",\"#B0BEC5\",\"#B0BEC5\",\"#B0BEC5\",\"#B0BEC5\",\"#B0BEC5\",\"red\",\"#B0BEC5\"]]}],\"label\":\"Topic 25\",\"method\":\"update\"},{\"args\":[{\"marker.color\":[[\"#B0BEC5\",\"#B0BEC5\",\"#B0BEC5\",\"#B0BEC5\",\"#B0BEC5\",\"#B0BEC5\",\"#B0BEC5\",\"#B0BEC5\",\"#B0BEC5\",\"#B0BEC5\",\"#B0BEC5\",\"#B0BEC5\",\"#B0BEC5\",\"#B0BEC5\",\"#B0BEC5\",\"#B0BEC5\",\"#B0BEC5\",\"#B0BEC5\",\"#B0BEC5\",\"#B0BEC5\",\"#B0BEC5\",\"#B0BEC5\",\"#B0BEC5\",\"#B0BEC5\",\"#B0BEC5\",\"#B0BEC5\",\"red\"]]}],\"label\":\"Topic 26\",\"method\":\"update\"}]}],\"shapes\":[{\"line\":{\"color\":\"#CFD8DC\",\"width\":2},\"type\":\"line\",\"x0\":9.15137393474579,\"x1\":9.15137393474579,\"y0\":-21.331814765930176,\"y1\":7.700457692146301},{\"line\":{\"color\":\"#9E9E9E\",\"width\":2},\"type\":\"line\",\"x0\":-1.6275965213775634,\"x1\":19.93034439086914,\"y0\":-6.815678536891937,\"y1\":-6.815678536891937}],\"annotations\":[{\"showarrow\":false,\"text\":\"D1\",\"x\":-1.6275965213775634,\"y\":-6.815678536891937,\"yshift\":10},{\"showarrow\":false,\"text\":\"D2\",\"x\":9.15137393474579,\"xshift\":10,\"y\":7.700457692146301}]},                        {\"responsive\": true}                    ).then(function(){\n",
              "                            \n",
              "var gd = document.getElementById('6e18eafd-97e6-4a90-885b-7fba0edd4a20');\n",
              "var x = new MutationObserver(function (mutations, observer) {{\n",
              "        var display = window.getComputedStyle(gd).display;\n",
              "        if (!display || display === 'none') {{\n",
              "            console.log([gd, 'removed!']);\n",
              "            Plotly.purge(gd);\n",
              "            observer.disconnect();\n",
              "        }}\n",
              "}});\n",
              "\n",
              "// Listen for the removal of the full notebook cells\n",
              "var notebookContainer = gd.closest('#notebook-container');\n",
              "if (notebookContainer) {{\n",
              "    x.observe(notebookContainer, {childList: true});\n",
              "}}\n",
              "\n",
              "// Listen for the clearing of the current output cell\n",
              "var outputEl = gd.closest('.output');\n",
              "if (outputEl) {{\n",
              "    x.observe(outputEl, {childList: true});\n",
              "}}\n",
              "\n",
              "                        })                };                            </script>        </div>\n",
              "</body>\n",
              "</html>"
            ]
          },
          "metadata": {}
        }
      ]
    },
    {
      "cell_type": "code",
      "source": [
        "# Visualize Topic Hierarchy\n",
        "topic_model.visualize_hierarchy(top_n_topics=50)"
      ],
      "metadata": {
        "colab": {
          "base_uri": "https://localhost:8080/",
          "height": 642
        },
        "id": "xLcMmCKiWl2X",
        "outputId": "70ca0a26-9d3f-48b8-963e-87e42dd04dff"
      },
      "execution_count": 30,
      "outputs": [
        {
          "output_type": "display_data",
          "data": {
            "text/html": [
              "<html>\n",
              "<head><meta charset=\"utf-8\" /></head>\n",
              "<body>\n",
              "    <div>            <script src=\"https://cdnjs.cloudflare.com/ajax/libs/mathjax/2.7.5/MathJax.js?config=TeX-AMS-MML_SVG\"></script><script type=\"text/javascript\">if (window.MathJax && window.MathJax.Hub && window.MathJax.Hub.Config) {window.MathJax.Hub.Config({SVG: {font: \"STIX-Web\"}});}</script>                <script type=\"text/javascript\">window.PlotlyConfig = {MathJaxConfig: 'local'};</script>\n",
              "        <script charset=\"utf-8\" src=\"https://cdn.plot.ly/plotly-2.24.1.min.js\"></script>                <div id=\"9fab4407-0074-425c-97b4-9546df5ca4a1\" class=\"plotly-graph-div\" style=\"height:605px; width:1000px;\"></div>            <script type=\"text/javascript\">                                    window.PLOTLYENV=window.PLOTLYENV || {};                                    if (document.getElementById(\"9fab4407-0074-425c-97b4-9546df5ca4a1\")) {                    Plotly.newPlot(                        \"9fab4407-0074-425c-97b4-9546df5ca4a1\",                        [{\"hoverinfo\":\"text\",\"marker\":{\"color\":\"rgb(61,153,112)\"},\"mode\":\"lines\",\"x\":[0.0,0.7648352273879341,0.7648352273879341,0.0],\"xaxis\":\"x\",\"y\":[-15.0,-15.0,-25.0,-25.0],\"yaxis\":\"y\",\"type\":\"scatter\"},{\"hoverinfo\":\"text\",\"marker\":{\"color\":\"rgb(61,153,112)\"},\"mode\":\"lines\",\"x\":[0.0,0.9472435851736808,0.9472435851736808,0.7648352273879341],\"xaxis\":\"x\",\"y\":[-5.0,-5.0,-20.0,-20.0],\"yaxis\":\"y\",\"type\":\"scatter\"},{\"hoverinfo\":\"text\",\"marker\":{\"color\":\"rgb(255,65,54)\"},\"mode\":\"lines\",\"x\":[0.0,0.7627548729239955,0.7627548729239955,0.0],\"xaxis\":\"x\",\"y\":[-35.0,-35.0,-45.0,-45.0],\"yaxis\":\"y\",\"type\":\"scatter\"},{\"hoverinfo\":\"text\",\"marker\":{\"color\":\"rgb(255,65,54)\"},\"mode\":\"lines\",\"x\":[0.7627548729239955,0.8478614426537379,0.8478614426537379,0.0],\"xaxis\":\"x\",\"y\":[-40.0,-40.0,-55.0,-55.0],\"yaxis\":\"y\",\"type\":\"scatter\"},{\"hoverinfo\":\"text\",\"marker\":{\"color\":\"rgb(0,116,217)\"},\"mode\":\"lines\",\"x\":[0.9472435851736808,1.017249674414876,1.017249674414876,0.8478614426537379],\"xaxis\":\"x\",\"y\":[-12.5,-12.5,-47.5,-47.5],\"yaxis\":\"y\",\"type\":\"scatter\"},{\"hoverinfo\":\"text\",\"marker\":{\"color\":\"rgb(35,205,205)\"},\"mode\":\"lines\",\"x\":[0.0,0.9097311564543296,0.9097311564543296,0.0],\"xaxis\":\"x\",\"y\":[-65.0,-65.0,-75.0,-75.0],\"yaxis\":\"y\",\"type\":\"scatter\"},{\"hoverinfo\":\"text\",\"marker\":{\"color\":\"rgb(35,205,205)\"},\"mode\":\"lines\",\"x\":[0.0,0.8787413601517734,0.8787413601517734,0.0],\"xaxis\":\"x\",\"y\":[-85.0,-85.0,-95.0,-95.0],\"yaxis\":\"y\",\"type\":\"scatter\"},{\"hoverinfo\":\"text\",\"marker\":{\"color\":\"rgb(35,205,205)\"},\"mode\":\"lines\",\"x\":[0.9097311564543296,0.934571537108253,0.934571537108253,0.8787413601517734],\"xaxis\":\"x\",\"y\":[-70.0,-70.0,-90.0,-90.0],\"yaxis\":\"y\",\"type\":\"scatter\"},{\"hoverinfo\":\"text\",\"marker\":{\"color\":\"rgb(133,20,75)\"},\"mode\":\"lines\",\"x\":[0.0,0.8743269154304807,0.8743269154304807,0.0],\"xaxis\":\"x\",\"y\":[-115.0,-115.0,-125.0,-125.0],\"yaxis\":\"y\",\"type\":\"scatter\"},{\"hoverinfo\":\"text\",\"marker\":{\"color\":\"rgb(133,20,75)\"},\"mode\":\"lines\",\"x\":[0.0,0.8948843511164696,0.8948843511164696,0.8743269154304807],\"xaxis\":\"x\",\"y\":[-105.0,-105.0,-120.0,-120.0],\"yaxis\":\"y\",\"type\":\"scatter\"},{\"hoverinfo\":\"text\",\"marker\":{\"color\":\"rgb(133,20,75)\"},\"mode\":\"lines\",\"x\":[0.0,0.5520581507605773,0.5520581507605773,0.0],\"xaxis\":\"x\",\"y\":[-145.0,-145.0,-155.0,-155.0],\"yaxis\":\"y\",\"type\":\"scatter\"},{\"hoverinfo\":\"text\",\"marker\":{\"color\":\"rgb(133,20,75)\"},\"mode\":\"lines\",\"x\":[0.5520581507605773,0.756416164005403,0.756416164005403,0.0],\"xaxis\":\"x\",\"y\":[-150.0,-150.0,-165.0,-165.0],\"yaxis\":\"y\",\"type\":\"scatter\"},{\"hoverinfo\":\"text\",\"marker\":{\"color\":\"rgb(133,20,75)\"},\"mode\":\"lines\",\"x\":[0.0,0.8874685505074852,0.8874685505074852,0.756416164005403],\"xaxis\":\"x\",\"y\":[-135.0,-135.0,-157.5,-157.5],\"yaxis\":\"y\",\"type\":\"scatter\"},{\"hoverinfo\":\"text\",\"marker\":{\"color\":\"rgb(133,20,75)\"},\"mode\":\"lines\",\"x\":[0.8874685505074852,0.917182215206489,0.917182215206489,0.0],\"xaxis\":\"x\",\"y\":[-146.25,-146.25,-175.0,-175.0],\"yaxis\":\"y\",\"type\":\"scatter\"},{\"hoverinfo\":\"text\",\"marker\":{\"color\":\"rgb(133,20,75)\"},\"mode\":\"lines\",\"x\":[0.8948843511164696,0.987030599491482,0.987030599491482,0.917182215206489],\"xaxis\":\"x\",\"y\":[-112.5,-112.5,-160.625,-160.625],\"yaxis\":\"y\",\"type\":\"scatter\"},{\"hoverinfo\":\"text\",\"marker\":{\"color\":\"rgb(0,116,217)\"},\"mode\":\"lines\",\"x\":[0.934571537108253,1.0251220065594644,1.0251220065594644,0.987030599491482],\"xaxis\":\"x\",\"y\":[-80.0,-80.0,-136.5625,-136.5625],\"yaxis\":\"y\",\"type\":\"scatter\"},{\"hoverinfo\":\"text\",\"marker\":{\"color\":\"rgb(255,220,0)\"},\"mode\":\"lines\",\"x\":[0.0,0.7937680816777324,0.7937680816777324,0.0],\"xaxis\":\"x\",\"y\":[-195.0,-195.0,-205.0,-205.0],\"yaxis\":\"y\",\"type\":\"scatter\"},{\"hoverinfo\":\"text\",\"marker\":{\"color\":\"rgb(255,220,0)\"},\"mode\":\"lines\",\"x\":[0.0,0.8628059188645137,0.8628059188645137,0.7937680816777324],\"xaxis\":\"x\",\"y\":[-185.0,-185.0,-200.0,-200.0],\"yaxis\":\"y\",\"type\":\"scatter\"},{\"hoverinfo\":\"text\",\"marker\":{\"color\":\"rgb(40,35,35)\"},\"mode\":\"lines\",\"x\":[0.0,0.8399701709398857,0.8399701709398857,0.0],\"xaxis\":\"x\",\"y\":[-225.0,-225.0,-235.0,-235.0],\"yaxis\":\"y\",\"type\":\"scatter\"},{\"hoverinfo\":\"text\",\"marker\":{\"color\":\"rgb(40,35,35)\"},\"mode\":\"lines\",\"x\":[0.8399701709398857,0.8738007452097996,0.8738007452097996,0.0],\"xaxis\":\"x\",\"y\":[-230.0,-230.0,-245.0,-245.0],\"yaxis\":\"y\",\"type\":\"scatter\"},{\"hoverinfo\":\"text\",\"marker\":{\"color\":\"rgb(40,35,35)\"},\"mode\":\"lines\",\"x\":[0.0,0.939462488706319,0.939462488706319,0.8738007452097996],\"xaxis\":\"x\",\"y\":[-215.0,-215.0,-237.5,-237.5],\"yaxis\":\"y\",\"type\":\"scatter\"},{\"hoverinfo\":\"text\",\"marker\":{\"color\":\"rgb(61,153,112)\"},\"mode\":\"lines\",\"x\":[0.0,0.8080954587984643,0.8080954587984643,0.0],\"xaxis\":\"x\",\"y\":[-255.0,-255.0,-265.0,-265.0],\"yaxis\":\"y\",\"type\":\"scatter\"},{\"hoverinfo\":\"text\",\"marker\":{\"color\":\"rgb(0,116,217)\"},\"mode\":\"lines\",\"x\":[0.939462488706319,1.0644899328116892,1.0644899328116892,0.8080954587984643],\"xaxis\":\"x\",\"y\":[-226.25,-226.25,-260.0,-260.0],\"yaxis\":\"y\",\"type\":\"scatter\"},{\"hoverinfo\":\"text\",\"marker\":{\"color\":\"rgb(0,116,217)\"},\"mode\":\"lines\",\"x\":[0.8628059188645137,1.184612042609285,1.184612042609285,1.0644899328116892],\"xaxis\":\"x\",\"y\":[-192.5,-192.5,-243.125,-243.125],\"yaxis\":\"y\",\"type\":\"scatter\"},{\"hoverinfo\":\"text\",\"marker\":{\"color\":\"rgb(0,116,217)\"},\"mode\":\"lines\",\"x\":[1.0251220065594644,1.2086997845687106,1.2086997845687106,1.184612042609285],\"xaxis\":\"x\",\"y\":[-108.28125,-108.28125,-217.8125,-217.8125],\"yaxis\":\"y\",\"type\":\"scatter\"},{\"hoverinfo\":\"text\",\"marker\":{\"color\":\"rgb(0,116,217)\"},\"mode\":\"lines\",\"x\":[1.017249674414876,1.306005427465141,1.306005427465141,1.2086997845687106],\"xaxis\":\"x\",\"y\":[-30.0,-30.0,-163.046875,-163.046875],\"yaxis\":\"y\",\"type\":\"scatter\"}],                        {\"autosize\":false,\"height\":605,\"hovermode\":\"closest\",\"showlegend\":false,\"width\":1000,\"xaxis\":{\"mirror\":\"allticks\",\"rangemode\":\"tozero\",\"showgrid\":false,\"showline\":true,\"showticklabels\":true,\"ticks\":\"outside\",\"type\":\"linear\",\"zeroline\":false},\"yaxis\":{\"mirror\":\"allticks\",\"rangemode\":\"tozero\",\"showgrid\":false,\"showline\":true,\"showticklabels\":true,\"tickmode\":\"array\",\"ticks\":\"outside\",\"ticktext\":[\"15_\\u101c\\u1031_\\u1014\\u103e\\u102c\\u1001\\u1031\\u102b\\u1004\\u103a\\u1038_\\u1021\\u102d\\u1019\\u103a\",\"13_\\u1016\\u103c\\u1031_\\u1015\\u1031\\u1038_\\u101b\\u1031\\u1016\\u102d\\u102f\\u1038\",\"19_\\u1015\\u103c\\u1031\\u102c_\\u1013\\u102c\\u1010\\u103a\\u1005\\u102c_\\u101c\\u103b\\u103e\\u1031\\u102c\\u1037\",\"23_\\u101b\\u1031\\u1001\\u1015\\u103a_\\u1021\\u1015\\u1014\\u103a\\u1038_\\u101c\\u1019\\u103a\\u1038\\u100a\\u103d\\u1014\\u103a\",\"12_\\u101c\\u1019\\u103a\\u1038\\u100a\\u103d\\u103e\\u1014\\u103a_\\u1021\\u1000\\u103c\\u1036_\\u1021\\u1000\\u103c\\u1036\\u1015\\u103c\\u102f\",\"20_\\u1011\\u102d\\u1014\\u103a\\u1038\\u100a\\u103e\\u102d_\\u1019\\u103b\\u1000\\u103a\\u1014\\u103e\\u102c\\u1015\\u1014\\u103a\\u1038\\u101c\\u103e_\\u1000\\u102c\",\"11_\\u100c\\u102c\\u1014\\u1019\\u103e\\u1030\\u1038_\\u1001\\u1015\\u103a\\u1015\\u103c\\u1010\\u103a\\u1015\\u103c\\u1010\\u103a_\\u1021\\u1010\\u100a\\u103a\",\"22_\\u101b\\u1032\\u101a\\u102d\\u102f\\u101e\\u102e\\u1038_\\u1021\\u1010\\u1004\\u103a\\u1038_\\u1015\\u103c\\u1031\\u102c\",\"14_\\u1005\\u102c\\u101b\\u1031\\u1038\\u1006\\u101b\\u102c_\\u1015\\u103c\\u1031\\u102c_\\u1005\\u1000\\u102c\\u1038\",\"26_\\u1002\\u101b\\u102f\\u1005\\u102d\\u102f\\u1000\\u103a_\\u1019\\u103b\\u1000\\u103a\\u1005\\u102d_\\u1019\\u103b\\u1000\\u103a\\u1014\\u103e\\u102c\",\"4_\\u101e\\u103d\\u102c\\u1038_\\u101e\\u1031\\u1038_\\u1021\\u102c\\u101c\\u1030\\u1038\",\"9_\\u1000\\u1031\\u102c\\u1004\\u103a\\u1038_\\u1005\\u102d\\u1010\\u103a\\u1011\\u102c\\u1038_\\u1000\\u1036\\u1000\\u1031\\u102c\\u1004\\u103a\\u1038\",\"8_\\u1015\\u103b\\u1031\\u102c\\u103a_\\u1005\\u102d\\u1010\\u103a_\\u1021\\u1000\\u1031\\u102c\\u1004\\u103a\\u1038\\u1019\\u103c\\u1004\\u103a\",\"5_\\u1010\\u1005\\u103a_\\u1005\\u1004\\u103a_\\u1014\\u1031\\u1037\",\"1_\\u101b\\u1031\\u102c\\u1004\\u103a\\u1038\\u1001\\u103b_\\u1019\\u102d\\u1010\\u103a\\u1006\\u1000\\u103a_\\u1015\\u102d\\u102f\\u1037\\u1006\\u1031\\u102c\\u1004\\u103a\",\"0_\\u1014\\u1031\\u1011\\u102d\\u102f\\u1004\\u103a_\\u1021\\u1031\\u102c\\u103a_\\u1000\\u1015\\u103a\",\"3_\\u101d\\u1010\\u103a_\\u1011\\u103d\\u1000\\u103a_\\u1019\\u103c\\u1004\\u103a\",\"7_\\u101e\\u1030_\\u1008\\u1031\\u1038_\\u1006\\u1036\\u101e\\u102c\\u1038\\u1001\\u103c\\u1031\\u102c\\u1000\\u103a\",\"18_\\u1006\\u102e\\u1038\\u1001\\u103b\\u102d\\u102f_\\u1015\\u102f\\u1036\\u1019\\u103e\\u1014\\u103a_\\u1000\\u103c\\u1000\\u103a\\u1025\\u1015\\u103c\\u102f\\u1010\\u103a\",\"21_\\u1000\\u1031\\u102c\\u1004\\u103a\\u1038_\\u101c\\u103e\\u1019\\u103a\\u1038_\\u1005\\u102c\\u1038\",\"25_\\u1005\\u102c\\u1038_\\u1000\\u1014\\u103a\\u1007\\u103d\\u1014\\u103a\\u1038\\u101b\\u102d\\u102f\\u1038\\u1014\\u102e_\\u101e\\u103d\\u102c\\u1038\",\"16_\\u1019\\u1031\\u102c_\\u1021\\u101b\\u1031\\u1038\\u1000\\u103c\\u102e\\u1038_\\u1000\\u103c\\u1031\\u102c\\u1000\\u103a\",\"17_\\u101e\\u103d\\u1031\\u1038\\u101c\\u1031\\u1038\\u1018\\u1000\\u103a\\u1014\\u102c_\\u1021\\u101e\\u1000\\u103a_\\u1014\\u102c\",\"6_\\u101e\\u103d\\u1031\\u1038_\\u1010\\u102d\\u102f\\u1038_\\u1021\\u1006\\u1004\\u103a\\u1015\\u103c\\u1031\",\"24_\\u101c\\u1031\\u1038\\u1018\\u1000\\u103a\\u1014\\u102c_\\u1000\\u103b\\u1031\\u102c\\u1000\\u103a\\u1000\\u1015\\u103a_\\u101e\\u1000\\u103a\\u101e\\u102c\",\"2_\\u101e\\u1031\\u102c\\u1000\\u103a_\\u1006\\u1031\\u1038_\\u101e\\u103d\\u1031\\u1038\\u1000\\u103b\\u1006\\u1031\\u1038\",\"10_\\u101e\\u1031\\u102c\\u1000\\u103a_\\u1006\\u1031\\u1038_\\u1001\\u103b\\u1004\\u103a\\u1038\"],\"tickvals\":[-5.0,-15.0,-25.0,-35.0,-45.0,-55.0,-65.0,-75.0,-85.0,-95.0,-105.0,-115.0,-125.0,-135.0,-145.0,-155.0,-165.0,-175.0,-185.0,-195.0,-205.0,-215.0,-225.0,-235.0,-245.0,-255.0,-265.0],\"type\":\"linear\",\"zeroline\":false,\"range\":[-270.0,0.0]},\"template\":{\"data\":{\"barpolar\":[{\"marker\":{\"line\":{\"color\":\"white\",\"width\":0.5},\"pattern\":{\"fillmode\":\"overlay\",\"size\":10,\"solidity\":0.2}},\"type\":\"barpolar\"}],\"bar\":[{\"error_x\":{\"color\":\"#2a3f5f\"},\"error_y\":{\"color\":\"#2a3f5f\"},\"marker\":{\"line\":{\"color\":\"white\",\"width\":0.5},\"pattern\":{\"fillmode\":\"overlay\",\"size\":10,\"solidity\":0.2}},\"type\":\"bar\"}],\"carpet\":[{\"aaxis\":{\"endlinecolor\":\"#2a3f5f\",\"gridcolor\":\"#C8D4E3\",\"linecolor\":\"#C8D4E3\",\"minorgridcolor\":\"#C8D4E3\",\"startlinecolor\":\"#2a3f5f\"},\"baxis\":{\"endlinecolor\":\"#2a3f5f\",\"gridcolor\":\"#C8D4E3\",\"linecolor\":\"#C8D4E3\",\"minorgridcolor\":\"#C8D4E3\",\"startlinecolor\":\"#2a3f5f\"},\"type\":\"carpet\"}],\"choropleth\":[{\"colorbar\":{\"outlinewidth\":0,\"ticks\":\"\"},\"type\":\"choropleth\"}],\"contourcarpet\":[{\"colorbar\":{\"outlinewidth\":0,\"ticks\":\"\"},\"type\":\"contourcarpet\"}],\"contour\":[{\"colorbar\":{\"outlinewidth\":0,\"ticks\":\"\"},\"colorscale\":[[0.0,\"#0d0887\"],[0.1111111111111111,\"#46039f\"],[0.2222222222222222,\"#7201a8\"],[0.3333333333333333,\"#9c179e\"],[0.4444444444444444,\"#bd3786\"],[0.5555555555555556,\"#d8576b\"],[0.6666666666666666,\"#ed7953\"],[0.7777777777777778,\"#fb9f3a\"],[0.8888888888888888,\"#fdca26\"],[1.0,\"#f0f921\"]],\"type\":\"contour\"}],\"heatmapgl\":[{\"colorbar\":{\"outlinewidth\":0,\"ticks\":\"\"},\"colorscale\":[[0.0,\"#0d0887\"],[0.1111111111111111,\"#46039f\"],[0.2222222222222222,\"#7201a8\"],[0.3333333333333333,\"#9c179e\"],[0.4444444444444444,\"#bd3786\"],[0.5555555555555556,\"#d8576b\"],[0.6666666666666666,\"#ed7953\"],[0.7777777777777778,\"#fb9f3a\"],[0.8888888888888888,\"#fdca26\"],[1.0,\"#f0f921\"]],\"type\":\"heatmapgl\"}],\"heatmap\":[{\"colorbar\":{\"outlinewidth\":0,\"ticks\":\"\"},\"colorscale\":[[0.0,\"#0d0887\"],[0.1111111111111111,\"#46039f\"],[0.2222222222222222,\"#7201a8\"],[0.3333333333333333,\"#9c179e\"],[0.4444444444444444,\"#bd3786\"],[0.5555555555555556,\"#d8576b\"],[0.6666666666666666,\"#ed7953\"],[0.7777777777777778,\"#fb9f3a\"],[0.8888888888888888,\"#fdca26\"],[1.0,\"#f0f921\"]],\"type\":\"heatmap\"}],\"histogram2dcontour\":[{\"colorbar\":{\"outlinewidth\":0,\"ticks\":\"\"},\"colorscale\":[[0.0,\"#0d0887\"],[0.1111111111111111,\"#46039f\"],[0.2222222222222222,\"#7201a8\"],[0.3333333333333333,\"#9c179e\"],[0.4444444444444444,\"#bd3786\"],[0.5555555555555556,\"#d8576b\"],[0.6666666666666666,\"#ed7953\"],[0.7777777777777778,\"#fb9f3a\"],[0.8888888888888888,\"#fdca26\"],[1.0,\"#f0f921\"]],\"type\":\"histogram2dcontour\"}],\"histogram2d\":[{\"colorbar\":{\"outlinewidth\":0,\"ticks\":\"\"},\"colorscale\":[[0.0,\"#0d0887\"],[0.1111111111111111,\"#46039f\"],[0.2222222222222222,\"#7201a8\"],[0.3333333333333333,\"#9c179e\"],[0.4444444444444444,\"#bd3786\"],[0.5555555555555556,\"#d8576b\"],[0.6666666666666666,\"#ed7953\"],[0.7777777777777778,\"#fb9f3a\"],[0.8888888888888888,\"#fdca26\"],[1.0,\"#f0f921\"]],\"type\":\"histogram2d\"}],\"histogram\":[{\"marker\":{\"pattern\":{\"fillmode\":\"overlay\",\"size\":10,\"solidity\":0.2}},\"type\":\"histogram\"}],\"mesh3d\":[{\"colorbar\":{\"outlinewidth\":0,\"ticks\":\"\"},\"type\":\"mesh3d\"}],\"parcoords\":[{\"line\":{\"colorbar\":{\"outlinewidth\":0,\"ticks\":\"\"}},\"type\":\"parcoords\"}],\"pie\":[{\"automargin\":true,\"type\":\"pie\"}],\"scatter3d\":[{\"line\":{\"colorbar\":{\"outlinewidth\":0,\"ticks\":\"\"}},\"marker\":{\"colorbar\":{\"outlinewidth\":0,\"ticks\":\"\"}},\"type\":\"scatter3d\"}],\"scattercarpet\":[{\"marker\":{\"colorbar\":{\"outlinewidth\":0,\"ticks\":\"\"}},\"type\":\"scattercarpet\"}],\"scattergeo\":[{\"marker\":{\"colorbar\":{\"outlinewidth\":0,\"ticks\":\"\"}},\"type\":\"scattergeo\"}],\"scattergl\":[{\"marker\":{\"colorbar\":{\"outlinewidth\":0,\"ticks\":\"\"}},\"type\":\"scattergl\"}],\"scattermapbox\":[{\"marker\":{\"colorbar\":{\"outlinewidth\":0,\"ticks\":\"\"}},\"type\":\"scattermapbox\"}],\"scatterpolargl\":[{\"marker\":{\"colorbar\":{\"outlinewidth\":0,\"ticks\":\"\"}},\"type\":\"scatterpolargl\"}],\"scatterpolar\":[{\"marker\":{\"colorbar\":{\"outlinewidth\":0,\"ticks\":\"\"}},\"type\":\"scatterpolar\"}],\"scatter\":[{\"fillpattern\":{\"fillmode\":\"overlay\",\"size\":10,\"solidity\":0.2},\"type\":\"scatter\"}],\"scatterternary\":[{\"marker\":{\"colorbar\":{\"outlinewidth\":0,\"ticks\":\"\"}},\"type\":\"scatterternary\"}],\"surface\":[{\"colorbar\":{\"outlinewidth\":0,\"ticks\":\"\"},\"colorscale\":[[0.0,\"#0d0887\"],[0.1111111111111111,\"#46039f\"],[0.2222222222222222,\"#7201a8\"],[0.3333333333333333,\"#9c179e\"],[0.4444444444444444,\"#bd3786\"],[0.5555555555555556,\"#d8576b\"],[0.6666666666666666,\"#ed7953\"],[0.7777777777777778,\"#fb9f3a\"],[0.8888888888888888,\"#fdca26\"],[1.0,\"#f0f921\"]],\"type\":\"surface\"}],\"table\":[{\"cells\":{\"fill\":{\"color\":\"#EBF0F8\"},\"line\":{\"color\":\"white\"}},\"header\":{\"fill\":{\"color\":\"#C8D4E3\"},\"line\":{\"color\":\"white\"}},\"type\":\"table\"}]},\"layout\":{\"annotationdefaults\":{\"arrowcolor\":\"#2a3f5f\",\"arrowhead\":0,\"arrowwidth\":1},\"autotypenumbers\":\"strict\",\"coloraxis\":{\"colorbar\":{\"outlinewidth\":0,\"ticks\":\"\"}},\"colorscale\":{\"diverging\":[[0,\"#8e0152\"],[0.1,\"#c51b7d\"],[0.2,\"#de77ae\"],[0.3,\"#f1b6da\"],[0.4,\"#fde0ef\"],[0.5,\"#f7f7f7\"],[0.6,\"#e6f5d0\"],[0.7,\"#b8e186\"],[0.8,\"#7fbc41\"],[0.9,\"#4d9221\"],[1,\"#276419\"]],\"sequential\":[[0.0,\"#0d0887\"],[0.1111111111111111,\"#46039f\"],[0.2222222222222222,\"#7201a8\"],[0.3333333333333333,\"#9c179e\"],[0.4444444444444444,\"#bd3786\"],[0.5555555555555556,\"#d8576b\"],[0.6666666666666666,\"#ed7953\"],[0.7777777777777778,\"#fb9f3a\"],[0.8888888888888888,\"#fdca26\"],[1.0,\"#f0f921\"]],\"sequentialminus\":[[0.0,\"#0d0887\"],[0.1111111111111111,\"#46039f\"],[0.2222222222222222,\"#7201a8\"],[0.3333333333333333,\"#9c179e\"],[0.4444444444444444,\"#bd3786\"],[0.5555555555555556,\"#d8576b\"],[0.6666666666666666,\"#ed7953\"],[0.7777777777777778,\"#fb9f3a\"],[0.8888888888888888,\"#fdca26\"],[1.0,\"#f0f921\"]]},\"colorway\":[\"#636efa\",\"#EF553B\",\"#00cc96\",\"#ab63fa\",\"#FFA15A\",\"#19d3f3\",\"#FF6692\",\"#B6E880\",\"#FF97FF\",\"#FECB52\"],\"font\":{\"color\":\"#2a3f5f\"},\"geo\":{\"bgcolor\":\"white\",\"lakecolor\":\"white\",\"landcolor\":\"white\",\"showlakes\":true,\"showland\":true,\"subunitcolor\":\"#C8D4E3\"},\"hoverlabel\":{\"align\":\"left\"},\"hovermode\":\"closest\",\"mapbox\":{\"style\":\"light\"},\"paper_bgcolor\":\"white\",\"plot_bgcolor\":\"white\",\"polar\":{\"angularaxis\":{\"gridcolor\":\"#EBF0F8\",\"linecolor\":\"#EBF0F8\",\"ticks\":\"\"},\"bgcolor\":\"white\",\"radialaxis\":{\"gridcolor\":\"#EBF0F8\",\"linecolor\":\"#EBF0F8\",\"ticks\":\"\"}},\"scene\":{\"xaxis\":{\"backgroundcolor\":\"white\",\"gridcolor\":\"#DFE8F3\",\"gridwidth\":2,\"linecolor\":\"#EBF0F8\",\"showbackground\":true,\"ticks\":\"\",\"zerolinecolor\":\"#EBF0F8\"},\"yaxis\":{\"backgroundcolor\":\"white\",\"gridcolor\":\"#DFE8F3\",\"gridwidth\":2,\"linecolor\":\"#EBF0F8\",\"showbackground\":true,\"ticks\":\"\",\"zerolinecolor\":\"#EBF0F8\"},\"zaxis\":{\"backgroundcolor\":\"white\",\"gridcolor\":\"#DFE8F3\",\"gridwidth\":2,\"linecolor\":\"#EBF0F8\",\"showbackground\":true,\"ticks\":\"\",\"zerolinecolor\":\"#EBF0F8\"}},\"shapedefaults\":{\"line\":{\"color\":\"#2a3f5f\"}},\"ternary\":{\"aaxis\":{\"gridcolor\":\"#DFE8F3\",\"linecolor\":\"#A2B1C6\",\"ticks\":\"\"},\"baxis\":{\"gridcolor\":\"#DFE8F3\",\"linecolor\":\"#A2B1C6\",\"ticks\":\"\"},\"bgcolor\":\"white\",\"caxis\":{\"gridcolor\":\"#DFE8F3\",\"linecolor\":\"#A2B1C6\",\"ticks\":\"\"}},\"title\":{\"x\":0.05},\"xaxis\":{\"automargin\":true,\"gridcolor\":\"#EBF0F8\",\"linecolor\":\"#EBF0F8\",\"ticks\":\"\",\"title\":{\"standoff\":15},\"zerolinecolor\":\"#EBF0F8\",\"zerolinewidth\":2},\"yaxis\":{\"automargin\":true,\"gridcolor\":\"#EBF0F8\",\"linecolor\":\"#EBF0F8\",\"ticks\":\"\",\"title\":{\"standoff\":15},\"zerolinecolor\":\"#EBF0F8\",\"zerolinewidth\":2}}},\"title\":{\"font\":{\"size\":22,\"color\":\"Black\"},\"text\":\"\\u003cb\\u003eHierarchical Clustering\\u003c\\u002fb\\u003e\",\"x\":0.5,\"xanchor\":\"center\",\"yanchor\":\"top\"},\"hoverlabel\":{\"font\":{\"size\":16,\"family\":\"Rockwell\"},\"bgcolor\":\"white\"},\"plot_bgcolor\":\"#ECEFF1\"},                        {\"responsive\": true}                    ).then(function(){\n",
              "                            \n",
              "var gd = document.getElementById('9fab4407-0074-425c-97b4-9546df5ca4a1');\n",
              "var x = new MutationObserver(function (mutations, observer) {{\n",
              "        var display = window.getComputedStyle(gd).display;\n",
              "        if (!display || display === 'none') {{\n",
              "            console.log([gd, 'removed!']);\n",
              "            Plotly.purge(gd);\n",
              "            observer.disconnect();\n",
              "        }}\n",
              "}});\n",
              "\n",
              "// Listen for the removal of the full notebook cells\n",
              "var notebookContainer = gd.closest('#notebook-container');\n",
              "if (notebookContainer) {{\n",
              "    x.observe(notebookContainer, {childList: true});\n",
              "}}\n",
              "\n",
              "// Listen for the clearing of the current output cell\n",
              "var outputEl = gd.closest('.output');\n",
              "if (outputEl) {{\n",
              "    x.observe(outputEl, {childList: true});\n",
              "}}\n",
              "\n",
              "                        })                };                            </script>        </div>\n",
              "</body>\n",
              "</html>"
            ]
          },
          "metadata": {}
        }
      ]
    },
    {
      "cell_type": "code",
      "source": [
        "# Visualize Terms\n",
        "topic_model.visualize_barchart()"
      ],
      "metadata": {
        "colab": {
          "base_uri": "https://localhost:8080/",
          "height": 537
        },
        "id": "hNScMV4zmXJV",
        "outputId": "2dd9eac0-fd1e-4301-8e08-73cfe0ffee27"
      },
      "execution_count": 31,
      "outputs": [
        {
          "output_type": "display_data",
          "data": {
            "text/html": [
              "<html>\n",
              "<head><meta charset=\"utf-8\" /></head>\n",
              "<body>\n",
              "    <div>            <script src=\"https://cdnjs.cloudflare.com/ajax/libs/mathjax/2.7.5/MathJax.js?config=TeX-AMS-MML_SVG\"></script><script type=\"text/javascript\">if (window.MathJax && window.MathJax.Hub && window.MathJax.Hub.Config) {window.MathJax.Hub.Config({SVG: {font: \"STIX-Web\"}});}</script>                <script type=\"text/javascript\">window.PlotlyConfig = {MathJaxConfig: 'local'};</script>\n",
              "        <script charset=\"utf-8\" src=\"https://cdn.plot.ly/plotly-2.24.1.min.js\"></script>                <div id=\"00770350-9d66-4b70-9dc1-59d667298ac2\" class=\"plotly-graph-div\" style=\"height:500px; width:1000px;\"></div>            <script type=\"text/javascript\">                                    window.PLOTLYENV=window.PLOTLYENV || {};                                    if (document.getElementById(\"00770350-9d66-4b70-9dc1-59d667298ac2\")) {                    Plotly.newPlot(                        \"00770350-9d66-4b70-9dc1-59d667298ac2\",                        [{\"marker\":{\"color\":\"#D55E00\"},\"orientation\":\"h\",\"x\":[0.151305734069517,0.15220961294041796,0.15231346102550042,0.16001381773178178,0.16310459256986332],\"y\":[\"\\u1019\\u102d\\u102f\\u1000\\u103a  \",\"\\u1021\\u103d\\u1014\\u103a\\u101c\\u102d\\u102f\\u1004\\u103a\\u1038  \",\"\\u1000\\u1015\\u103a  \",\"\\u1021\\u1031\\u102c\\u103a  \",\"\\u1014\\u1031\\u1011\\u102d\\u102f\\u1004\\u103a  \"],\"type\":\"bar\",\"xaxis\":\"x\",\"yaxis\":\"y\"},{\"marker\":{\"color\":\"#0072B2\"},\"orientation\":\"h\",\"x\":[0.2722350957837532,0.2924368375979252,0.29558176247475293,0.29823350397876325,0.3188926189362556],\"y\":[\"\\u1021\\u100a\\u1005\\u103a\\u1021\\u1000\\u103c\\u1031\\u1038  \",\"\\u1015\\u1031\\u1038  \",\"\\u1015\\u102d\\u102f\\u1037\\u1006\\u1031\\u102c\\u1004\\u103a  \",\"\\u1019\\u102d\\u1010\\u103a\\u1006\\u1000\\u103a  \",\"\\u101b\\u1031\\u102c\\u1004\\u103a\\u1038\\u1001\\u103b  \"],\"type\":\"bar\",\"xaxis\":\"x2\",\"yaxis\":\"y2\"},{\"marker\":{\"color\":\"#CC79A7\"},\"orientation\":\"h\",\"x\":[0.412337611412671,0.4425293870893635,0.4492050137239847,0.5870663071229684,0.6483203135666614],\"y\":[\"\\u1021\\u102c\\u1038\\u1006\\u1031\\u1038  \",\"\\u1021\\u101b\\u1000\\u103a  \",\"\\u101e\\u103d\\u1031\\u1038\\u1000\\u103b\\u1006\\u1031\\u1038  \",\"\\u1006\\u1031\\u1038  \",\"\\u101e\\u1031\\u102c\\u1000\\u103a  \"],\"type\":\"bar\",\"xaxis\":\"x3\",\"yaxis\":\"y3\"},{\"marker\":{\"color\":\"#E69F00\"},\"orientation\":\"h\",\"x\":[0.2730497391415704,0.2739960565223634,0.28514250927295914,0.2974395270797345,0.34095727843882984],\"y\":[\"\\u1021\\u101c\\u102f\\u1015\\u103a  \",\"\\u1006\\u102d\\u102f\\u1004\\u103a  \",\"\\u1019\\u103c\\u1004\\u103a  \",\"\\u1011\\u103d\\u1000\\u103a  \",\"\\u101d\\u1010\\u103a  \"],\"type\":\"bar\",\"xaxis\":\"x4\",\"yaxis\":\"y4\"},{\"marker\":{\"color\":\"#56B4E9\"},\"orientation\":\"h\",\"x\":[0.33250412464794676,0.3436790126987947,0.3656902571807829,0.45804555239936257,0.5098732125865575],\"y\":[\"\\u101e\\u102f\\u1015\\u103a  \",\"\\u1005\\u102c\\u1038  \",\"\\u1021\\u102c\\u101c\\u1030\\u1038  \",\"\\u101e\\u1031\\u1038  \",\"\\u101e\\u103d\\u102c\\u1038  \"],\"type\":\"bar\",\"xaxis\":\"x5\",\"yaxis\":\"y5\"},{\"marker\":{\"color\":\"#009E73\"},\"orientation\":\"h\",\"x\":[0.36019916719001666,0.3636205274272059,0.3702588164418115,0.39822008914373264,0.6907216991308832],\"y\":[\"\\u1012\\u102b\\u101b\\u102d\\u102f\\u1000\\u103a\\u1010\\u102c  \",\"\\u1015\\u103d\\u1032  \",\"\\u1014\\u1031\\u1037  \",\"\\u1005\\u1004\\u103a  \",\"\\u1010\\u1005\\u103a  \"],\"type\":\"bar\",\"xaxis\":\"x6\",\"yaxis\":\"y6\"},{\"marker\":{\"color\":\"#F0E442\"},\"orientation\":\"h\",\"x\":[0.4771038067400894,0.5573675230989069,0.5800476688397552,0.6448005672444984,0.66905358620306],\"y\":[\"\\u1001\\u102f\\u1014\\u103a  \",\"\\u1000\\u103c\\u100a\\u103a\\u1037  \",\"\\u1021\\u1006\\u1004\\u103a\\u1015\\u103c\\u1031  \",\"\\u1010\\u102d\\u102f\\u1038  \",\"\\u101e\\u103d\\u1031\\u1038  \"],\"type\":\"bar\",\"xaxis\":\"x7\",\"yaxis\":\"y7\"},{\"marker\":{\"color\":\"#D55E00\"},\"orientation\":\"h\",\"x\":[0.3721228493989008,0.37974730168572973,0.3942617694089878,0.48615858207106244,0.6435010707039034],\"y\":[\"\\u1021\\u1011\\u1030\\u1038  \",\"\\u1021\\u101d\\u102d\\u102f\\u1004\\u103a\\u1038  \",\"\\u1006\\u1036\\u101e\\u102c\\u1038\\u1001\\u103c\\u1031\\u102c\\u1000\\u103a  \",\"\\u1008\\u1031\\u1038  \",\"\\u101e\\u1030  \"],\"type\":\"bar\",\"xaxis\":\"x8\",\"yaxis\":\"y8\"}],                        {\"template\":{\"data\":{\"barpolar\":[{\"marker\":{\"line\":{\"color\":\"white\",\"width\":0.5},\"pattern\":{\"fillmode\":\"overlay\",\"size\":10,\"solidity\":0.2}},\"type\":\"barpolar\"}],\"bar\":[{\"error_x\":{\"color\":\"#2a3f5f\"},\"error_y\":{\"color\":\"#2a3f5f\"},\"marker\":{\"line\":{\"color\":\"white\",\"width\":0.5},\"pattern\":{\"fillmode\":\"overlay\",\"size\":10,\"solidity\":0.2}},\"type\":\"bar\"}],\"carpet\":[{\"aaxis\":{\"endlinecolor\":\"#2a3f5f\",\"gridcolor\":\"#C8D4E3\",\"linecolor\":\"#C8D4E3\",\"minorgridcolor\":\"#C8D4E3\",\"startlinecolor\":\"#2a3f5f\"},\"baxis\":{\"endlinecolor\":\"#2a3f5f\",\"gridcolor\":\"#C8D4E3\",\"linecolor\":\"#C8D4E3\",\"minorgridcolor\":\"#C8D4E3\",\"startlinecolor\":\"#2a3f5f\"},\"type\":\"carpet\"}],\"choropleth\":[{\"colorbar\":{\"outlinewidth\":0,\"ticks\":\"\"},\"type\":\"choropleth\"}],\"contourcarpet\":[{\"colorbar\":{\"outlinewidth\":0,\"ticks\":\"\"},\"type\":\"contourcarpet\"}],\"contour\":[{\"colorbar\":{\"outlinewidth\":0,\"ticks\":\"\"},\"colorscale\":[[0.0,\"#0d0887\"],[0.1111111111111111,\"#46039f\"],[0.2222222222222222,\"#7201a8\"],[0.3333333333333333,\"#9c179e\"],[0.4444444444444444,\"#bd3786\"],[0.5555555555555556,\"#d8576b\"],[0.6666666666666666,\"#ed7953\"],[0.7777777777777778,\"#fb9f3a\"],[0.8888888888888888,\"#fdca26\"],[1.0,\"#f0f921\"]],\"type\":\"contour\"}],\"heatmapgl\":[{\"colorbar\":{\"outlinewidth\":0,\"ticks\":\"\"},\"colorscale\":[[0.0,\"#0d0887\"],[0.1111111111111111,\"#46039f\"],[0.2222222222222222,\"#7201a8\"],[0.3333333333333333,\"#9c179e\"],[0.4444444444444444,\"#bd3786\"],[0.5555555555555556,\"#d8576b\"],[0.6666666666666666,\"#ed7953\"],[0.7777777777777778,\"#fb9f3a\"],[0.8888888888888888,\"#fdca26\"],[1.0,\"#f0f921\"]],\"type\":\"heatmapgl\"}],\"heatmap\":[{\"colorbar\":{\"outlinewidth\":0,\"ticks\":\"\"},\"colorscale\":[[0.0,\"#0d0887\"],[0.1111111111111111,\"#46039f\"],[0.2222222222222222,\"#7201a8\"],[0.3333333333333333,\"#9c179e\"],[0.4444444444444444,\"#bd3786\"],[0.5555555555555556,\"#d8576b\"],[0.6666666666666666,\"#ed7953\"],[0.7777777777777778,\"#fb9f3a\"],[0.8888888888888888,\"#fdca26\"],[1.0,\"#f0f921\"]],\"type\":\"heatmap\"}],\"histogram2dcontour\":[{\"colorbar\":{\"outlinewidth\":0,\"ticks\":\"\"},\"colorscale\":[[0.0,\"#0d0887\"],[0.1111111111111111,\"#46039f\"],[0.2222222222222222,\"#7201a8\"],[0.3333333333333333,\"#9c179e\"],[0.4444444444444444,\"#bd3786\"],[0.5555555555555556,\"#d8576b\"],[0.6666666666666666,\"#ed7953\"],[0.7777777777777778,\"#fb9f3a\"],[0.8888888888888888,\"#fdca26\"],[1.0,\"#f0f921\"]],\"type\":\"histogram2dcontour\"}],\"histogram2d\":[{\"colorbar\":{\"outlinewidth\":0,\"ticks\":\"\"},\"colorscale\":[[0.0,\"#0d0887\"],[0.1111111111111111,\"#46039f\"],[0.2222222222222222,\"#7201a8\"],[0.3333333333333333,\"#9c179e\"],[0.4444444444444444,\"#bd3786\"],[0.5555555555555556,\"#d8576b\"],[0.6666666666666666,\"#ed7953\"],[0.7777777777777778,\"#fb9f3a\"],[0.8888888888888888,\"#fdca26\"],[1.0,\"#f0f921\"]],\"type\":\"histogram2d\"}],\"histogram\":[{\"marker\":{\"pattern\":{\"fillmode\":\"overlay\",\"size\":10,\"solidity\":0.2}},\"type\":\"histogram\"}],\"mesh3d\":[{\"colorbar\":{\"outlinewidth\":0,\"ticks\":\"\"},\"type\":\"mesh3d\"}],\"parcoords\":[{\"line\":{\"colorbar\":{\"outlinewidth\":0,\"ticks\":\"\"}},\"type\":\"parcoords\"}],\"pie\":[{\"automargin\":true,\"type\":\"pie\"}],\"scatter3d\":[{\"line\":{\"colorbar\":{\"outlinewidth\":0,\"ticks\":\"\"}},\"marker\":{\"colorbar\":{\"outlinewidth\":0,\"ticks\":\"\"}},\"type\":\"scatter3d\"}],\"scattercarpet\":[{\"marker\":{\"colorbar\":{\"outlinewidth\":0,\"ticks\":\"\"}},\"type\":\"scattercarpet\"}],\"scattergeo\":[{\"marker\":{\"colorbar\":{\"outlinewidth\":0,\"ticks\":\"\"}},\"type\":\"scattergeo\"}],\"scattergl\":[{\"marker\":{\"colorbar\":{\"outlinewidth\":0,\"ticks\":\"\"}},\"type\":\"scattergl\"}],\"scattermapbox\":[{\"marker\":{\"colorbar\":{\"outlinewidth\":0,\"ticks\":\"\"}},\"type\":\"scattermapbox\"}],\"scatterpolargl\":[{\"marker\":{\"colorbar\":{\"outlinewidth\":0,\"ticks\":\"\"}},\"type\":\"scatterpolargl\"}],\"scatterpolar\":[{\"marker\":{\"colorbar\":{\"outlinewidth\":0,\"ticks\":\"\"}},\"type\":\"scatterpolar\"}],\"scatter\":[{\"fillpattern\":{\"fillmode\":\"overlay\",\"size\":10,\"solidity\":0.2},\"type\":\"scatter\"}],\"scatterternary\":[{\"marker\":{\"colorbar\":{\"outlinewidth\":0,\"ticks\":\"\"}},\"type\":\"scatterternary\"}],\"surface\":[{\"colorbar\":{\"outlinewidth\":0,\"ticks\":\"\"},\"colorscale\":[[0.0,\"#0d0887\"],[0.1111111111111111,\"#46039f\"],[0.2222222222222222,\"#7201a8\"],[0.3333333333333333,\"#9c179e\"],[0.4444444444444444,\"#bd3786\"],[0.5555555555555556,\"#d8576b\"],[0.6666666666666666,\"#ed7953\"],[0.7777777777777778,\"#fb9f3a\"],[0.8888888888888888,\"#fdca26\"],[1.0,\"#f0f921\"]],\"type\":\"surface\"}],\"table\":[{\"cells\":{\"fill\":{\"color\":\"#EBF0F8\"},\"line\":{\"color\":\"white\"}},\"header\":{\"fill\":{\"color\":\"#C8D4E3\"},\"line\":{\"color\":\"white\"}},\"type\":\"table\"}]},\"layout\":{\"annotationdefaults\":{\"arrowcolor\":\"#2a3f5f\",\"arrowhead\":0,\"arrowwidth\":1},\"autotypenumbers\":\"strict\",\"coloraxis\":{\"colorbar\":{\"outlinewidth\":0,\"ticks\":\"\"}},\"colorscale\":{\"diverging\":[[0,\"#8e0152\"],[0.1,\"#c51b7d\"],[0.2,\"#de77ae\"],[0.3,\"#f1b6da\"],[0.4,\"#fde0ef\"],[0.5,\"#f7f7f7\"],[0.6,\"#e6f5d0\"],[0.7,\"#b8e186\"],[0.8,\"#7fbc41\"],[0.9,\"#4d9221\"],[1,\"#276419\"]],\"sequential\":[[0.0,\"#0d0887\"],[0.1111111111111111,\"#46039f\"],[0.2222222222222222,\"#7201a8\"],[0.3333333333333333,\"#9c179e\"],[0.4444444444444444,\"#bd3786\"],[0.5555555555555556,\"#d8576b\"],[0.6666666666666666,\"#ed7953\"],[0.7777777777777778,\"#fb9f3a\"],[0.8888888888888888,\"#fdca26\"],[1.0,\"#f0f921\"]],\"sequentialminus\":[[0.0,\"#0d0887\"],[0.1111111111111111,\"#46039f\"],[0.2222222222222222,\"#7201a8\"],[0.3333333333333333,\"#9c179e\"],[0.4444444444444444,\"#bd3786\"],[0.5555555555555556,\"#d8576b\"],[0.6666666666666666,\"#ed7953\"],[0.7777777777777778,\"#fb9f3a\"],[0.8888888888888888,\"#fdca26\"],[1.0,\"#f0f921\"]]},\"colorway\":[\"#636efa\",\"#EF553B\",\"#00cc96\",\"#ab63fa\",\"#FFA15A\",\"#19d3f3\",\"#FF6692\",\"#B6E880\",\"#FF97FF\",\"#FECB52\"],\"font\":{\"color\":\"#2a3f5f\"},\"geo\":{\"bgcolor\":\"white\",\"lakecolor\":\"white\",\"landcolor\":\"white\",\"showlakes\":true,\"showland\":true,\"subunitcolor\":\"#C8D4E3\"},\"hoverlabel\":{\"align\":\"left\"},\"hovermode\":\"closest\",\"mapbox\":{\"style\":\"light\"},\"paper_bgcolor\":\"white\",\"plot_bgcolor\":\"white\",\"polar\":{\"angularaxis\":{\"gridcolor\":\"#EBF0F8\",\"linecolor\":\"#EBF0F8\",\"ticks\":\"\"},\"bgcolor\":\"white\",\"radialaxis\":{\"gridcolor\":\"#EBF0F8\",\"linecolor\":\"#EBF0F8\",\"ticks\":\"\"}},\"scene\":{\"xaxis\":{\"backgroundcolor\":\"white\",\"gridcolor\":\"#DFE8F3\",\"gridwidth\":2,\"linecolor\":\"#EBF0F8\",\"showbackground\":true,\"ticks\":\"\",\"zerolinecolor\":\"#EBF0F8\"},\"yaxis\":{\"backgroundcolor\":\"white\",\"gridcolor\":\"#DFE8F3\",\"gridwidth\":2,\"linecolor\":\"#EBF0F8\",\"showbackground\":true,\"ticks\":\"\",\"zerolinecolor\":\"#EBF0F8\"},\"zaxis\":{\"backgroundcolor\":\"white\",\"gridcolor\":\"#DFE8F3\",\"gridwidth\":2,\"linecolor\":\"#EBF0F8\",\"showbackground\":true,\"ticks\":\"\",\"zerolinecolor\":\"#EBF0F8\"}},\"shapedefaults\":{\"line\":{\"color\":\"#2a3f5f\"}},\"ternary\":{\"aaxis\":{\"gridcolor\":\"#DFE8F3\",\"linecolor\":\"#A2B1C6\",\"ticks\":\"\"},\"baxis\":{\"gridcolor\":\"#DFE8F3\",\"linecolor\":\"#A2B1C6\",\"ticks\":\"\"},\"bgcolor\":\"white\",\"caxis\":{\"gridcolor\":\"#DFE8F3\",\"linecolor\":\"#A2B1C6\",\"ticks\":\"\"}},\"title\":{\"x\":0.05},\"xaxis\":{\"automargin\":true,\"gridcolor\":\"#EBF0F8\",\"linecolor\":\"#EBF0F8\",\"ticks\":\"\",\"title\":{\"standoff\":15},\"zerolinecolor\":\"#EBF0F8\",\"zerolinewidth\":2},\"yaxis\":{\"automargin\":true,\"gridcolor\":\"#EBF0F8\",\"linecolor\":\"#EBF0F8\",\"ticks\":\"\",\"title\":{\"standoff\":15},\"zerolinecolor\":\"#EBF0F8\",\"zerolinewidth\":2}}},\"xaxis\":{\"anchor\":\"y\",\"domain\":[0.0,0.175],\"showgrid\":true},\"yaxis\":{\"anchor\":\"x\",\"domain\":[0.6000000000000001,1.0],\"showgrid\":true},\"xaxis2\":{\"anchor\":\"y2\",\"domain\":[0.275,0.45],\"showgrid\":true},\"yaxis2\":{\"anchor\":\"x2\",\"domain\":[0.6000000000000001,1.0],\"showgrid\":true},\"xaxis3\":{\"anchor\":\"y3\",\"domain\":[0.55,0.7250000000000001],\"showgrid\":true},\"yaxis3\":{\"anchor\":\"x3\",\"domain\":[0.6000000000000001,1.0],\"showgrid\":true},\"xaxis4\":{\"anchor\":\"y4\",\"domain\":[0.825,1.0],\"showgrid\":true},\"yaxis4\":{\"anchor\":\"x4\",\"domain\":[0.6000000000000001,1.0],\"showgrid\":true},\"xaxis5\":{\"anchor\":\"y5\",\"domain\":[0.0,0.175],\"showgrid\":true},\"yaxis5\":{\"anchor\":\"x5\",\"domain\":[0.0,0.4],\"showgrid\":true},\"xaxis6\":{\"anchor\":\"y6\",\"domain\":[0.275,0.45],\"showgrid\":true},\"yaxis6\":{\"anchor\":\"x6\",\"domain\":[0.0,0.4],\"showgrid\":true},\"xaxis7\":{\"anchor\":\"y7\",\"domain\":[0.55,0.7250000000000001],\"showgrid\":true},\"yaxis7\":{\"anchor\":\"x7\",\"domain\":[0.0,0.4],\"showgrid\":true},\"xaxis8\":{\"anchor\":\"y8\",\"domain\":[0.825,1.0],\"showgrid\":true},\"yaxis8\":{\"anchor\":\"x8\",\"domain\":[0.0,0.4],\"showgrid\":true},\"annotations\":[{\"font\":{\"size\":16},\"showarrow\":false,\"text\":\"Topic 0\",\"x\":0.0875,\"xanchor\":\"center\",\"xref\":\"paper\",\"y\":1.0,\"yanchor\":\"bottom\",\"yref\":\"paper\"},{\"font\":{\"size\":16},\"showarrow\":false,\"text\":\"Topic 1\",\"x\":0.36250000000000004,\"xanchor\":\"center\",\"xref\":\"paper\",\"y\":1.0,\"yanchor\":\"bottom\",\"yref\":\"paper\"},{\"font\":{\"size\":16},\"showarrow\":false,\"text\":\"Topic 2\",\"x\":0.6375000000000001,\"xanchor\":\"center\",\"xref\":\"paper\",\"y\":1.0,\"yanchor\":\"bottom\",\"yref\":\"paper\"},{\"font\":{\"size\":16},\"showarrow\":false,\"text\":\"Topic 3\",\"x\":0.9125,\"xanchor\":\"center\",\"xref\":\"paper\",\"y\":1.0,\"yanchor\":\"bottom\",\"yref\":\"paper\"},{\"font\":{\"size\":16},\"showarrow\":false,\"text\":\"Topic 4\",\"x\":0.0875,\"xanchor\":\"center\",\"xref\":\"paper\",\"y\":0.4,\"yanchor\":\"bottom\",\"yref\":\"paper\"},{\"font\":{\"size\":16},\"showarrow\":false,\"text\":\"Topic 5\",\"x\":0.36250000000000004,\"xanchor\":\"center\",\"xref\":\"paper\",\"y\":0.4,\"yanchor\":\"bottom\",\"yref\":\"paper\"},{\"font\":{\"size\":16},\"showarrow\":false,\"text\":\"Topic 6\",\"x\":0.6375000000000001,\"xanchor\":\"center\",\"xref\":\"paper\",\"y\":0.4,\"yanchor\":\"bottom\",\"yref\":\"paper\"},{\"font\":{\"size\":16},\"showarrow\":false,\"text\":\"Topic 7\",\"x\":0.9125,\"xanchor\":\"center\",\"xref\":\"paper\",\"y\":0.4,\"yanchor\":\"bottom\",\"yref\":\"paper\"}],\"title\":{\"font\":{\"size\":22,\"color\":\"Black\"},\"text\":\"Topic Word Scores\",\"x\":0.5,\"xanchor\":\"center\",\"yanchor\":\"top\"},\"hoverlabel\":{\"font\":{\"size\":16,\"family\":\"Rockwell\"},\"bgcolor\":\"white\"},\"showlegend\":false,\"width\":1000,\"height\":500},                        {\"responsive\": true}                    ).then(function(){\n",
              "                            \n",
              "var gd = document.getElementById('00770350-9d66-4b70-9dc1-59d667298ac2');\n",
              "var x = new MutationObserver(function (mutations, observer) {{\n",
              "        var display = window.getComputedStyle(gd).display;\n",
              "        if (!display || display === 'none') {{\n",
              "            console.log([gd, 'removed!']);\n",
              "            Plotly.purge(gd);\n",
              "            observer.disconnect();\n",
              "        }}\n",
              "}});\n",
              "\n",
              "// Listen for the removal of the full notebook cells\n",
              "var notebookContainer = gd.closest('#notebook-container');\n",
              "if (notebookContainer) {{\n",
              "    x.observe(notebookContainer, {childList: true});\n",
              "}}\n",
              "\n",
              "// Listen for the clearing of the current output cell\n",
              "var outputEl = gd.closest('.output');\n",
              "if (outputEl) {{\n",
              "    x.observe(outputEl, {childList: true});\n",
              "}}\n",
              "\n",
              "                        })                };                            </script>        </div>\n",
              "</body>\n",
              "</html>"
            ]
          },
          "metadata": {}
        }
      ]
    },
    {
      "cell_type": "code",
      "source": [
        "# Visualize Topic Similarity\n",
        "topic_model.visualize_heatmap(n_clusters=20, width=1000, height=1000)"
      ],
      "metadata": {
        "colab": {
          "base_uri": "https://localhost:8080/",
          "height": 1000
        },
        "id": "nZl5X71VXFyu",
        "outputId": "ed262c6d-ad22-4387-e814-bf99e9aeedfd"
      },
      "execution_count": 32,
      "outputs": [
        {
          "output_type": "display_data",
          "data": {
            "text/html": [
              "<html>\n",
              "<head><meta charset=\"utf-8\" /></head>\n",
              "<body>\n",
              "    <div>            <script src=\"https://cdnjs.cloudflare.com/ajax/libs/mathjax/2.7.5/MathJax.js?config=TeX-AMS-MML_SVG\"></script><script type=\"text/javascript\">if (window.MathJax && window.MathJax.Hub && window.MathJax.Hub.Config) {window.MathJax.Hub.Config({SVG: {font: \"STIX-Web\"}});}</script>                <script type=\"text/javascript\">window.PlotlyConfig = {MathJaxConfig: 'local'};</script>\n",
              "        <script charset=\"utf-8\" src=\"https://cdn.plot.ly/plotly-2.24.1.min.js\"></script>                <div id=\"755b96c5-9b1c-42f7-9ea5-ee14d49933fc\" class=\"plotly-graph-div\" style=\"height:1000px; width:1000px;\"></div>            <script type=\"text/javascript\">                                    window.PLOTLYENV=window.PLOTLYENV || {};                                    if (document.getElementById(\"755b96c5-9b1c-42f7-9ea5-ee14d49933fc\")) {                    Plotly.newPlot(                        \"755b96c5-9b1c-42f7-9ea5-ee14d49933fc\",                        [{\"coloraxis\":\"coloraxis\",\"name\":\"0\",\"x\":[\"0_\\u1014\\u1031\\u1011\\u102d\\u102f\\u1004\\u103a_\\u1021\\u1031\\u102c\\u103a_\\u1000\\u1015\\u103a\",\"1_\\u101b\\u1031\\u102c\\u1004\\u103a\\u1038\\u1001\\u103b_\\u1019\\u102d\\u1010\\u103a\\u1006\\u1000\\u103a_\\u1015\\u102d\\u102f\\u1037\\u1006\\u1031\\u102c\\u1004\\u103a\",\"2_\\u101e\\u1031\\u102c\\u1000\\u103a_\\u1006\\u1031\\u1038_\\u101e\\u103d\\u1031\\u1038\\u1000\\u103b\\u1006\\u1031\\u1038\",\"10_\\u101e\\u1031\\u102c\\u1000\\u103a_\\u1006\\u1031\\u1038_\\u1001\\u103b\\u1004\\u103a\\u1038\",\"3_\\u101d\\u1010\\u103a_\\u1011\\u103d\\u1000\\u103a_\\u1019\\u103c\\u1004\\u103a\",\"4_\\u101e\\u103d\\u102c\\u1038_\\u101e\\u1031\\u1038_\\u1021\\u102c\\u101c\\u1030\\u1038\",\"5_\\u1010\\u1005\\u103a_\\u1005\\u1004\\u103a_\\u1014\\u1031\\u1037\",\"6_\\u101e\\u103d\\u1031\\u1038_\\u1010\\u102d\\u102f\\u1038_\\u1021\\u1006\\u1004\\u103a\\u1015\\u103c\\u1031\",\"7_\\u101e\\u1030_\\u1008\\u1031\\u1038_\\u1006\\u1036\\u101e\\u102c\\u1038\\u1001\\u103c\\u1031\\u102c\\u1000\\u103a\",\"8_\\u1015\\u103b\\u1031\\u102c\\u103a_\\u1005\\u102d\\u1010\\u103a_\\u1021\\u1000\\u1031\\u102c\\u1004\\u103a\\u1038\\u1019\\u103c\\u1004\\u103a\",\"9_\\u1000\\u1031\\u102c\\u1004\\u103a\\u1038_\\u1005\\u102d\\u1010\\u103a\\u1011\\u102c\\u1038_\\u1000\\u1036\\u1000\\u1031\\u102c\\u1004\\u103a\\u1038\",\"21_\\u1000\\u1031\\u102c\\u1004\\u103a\\u1038_\\u101c\\u103e\\u1019\\u103a\\u1038_\\u1005\\u102c\\u1038\",\"11_\\u100c\\u102c\\u1014\\u1019\\u103e\\u1030\\u1038_\\u1001\\u1015\\u103a\\u1015\\u103c\\u1010\\u103a\\u1015\\u103c\\u1010\\u103a_\\u1021\\u1010\\u100a\\u103a\",\"14_\\u1005\\u102c\\u101b\\u1031\\u1038\\u1006\\u101b\\u102c_\\u1015\\u103c\\u1031\\u102c_\\u1005\\u1000\\u102c\\u1038\",\"19_\\u1015\\u103c\\u1031\\u102c_\\u1013\\u102c\\u1010\\u103a\\u1005\\u102c_\\u101c\\u103b\\u103e\\u1031\\u102c\\u1037\",\"22_\\u101b\\u1032\\u101a\\u102d\\u102f\\u101e\\u102e\\u1038_\\u1021\\u1010\\u1004\\u103a\\u1038_\\u1015\\u103c\\u1031\\u102c\",\"12_\\u101c\\u1019\\u103a\\u1038\\u100a\\u103d\\u103e\\u1014\\u103a_\\u1021\\u1000\\u103c\\u1036_\\u1021\\u1000\\u103c\\u1036\\u1015\\u103c\\u102f\",\"20_\\u1011\\u102d\\u1014\\u103a\\u1038\\u100a\\u103e\\u102d_\\u1019\\u103b\\u1000\\u103a\\u1014\\u103e\\u102c\\u1015\\u1014\\u103a\\u1038\\u101c\\u103e_\\u1000\\u102c\",\"23_\\u101b\\u1031\\u1001\\u1015\\u103a_\\u1021\\u1015\\u1014\\u103a\\u1038_\\u101c\\u1019\\u103a\\u1038\\u100a\\u103d\\u1014\\u103a\",\"13_\\u1016\\u103c\\u1031_\\u1015\\u1031\\u1038_\\u101b\\u1031\\u1016\\u102d\\u102f\\u1038\",\"15_\\u101c\\u1031_\\u1014\\u103e\\u102c\\u1001\\u1031\\u102b\\u1004\\u103a\\u1038_\\u1021\\u102d\\u1019\\u103a\",\"16_\\u1019\\u1031\\u102c_\\u1021\\u101b\\u1031\\u1038\\u1000\\u103c\\u102e\\u1038_\\u1000\\u103c\\u1031\\u102c\\u1000\\u103a\",\"17_\\u101e\\u103d\\u1031\\u1038\\u101c\\u1031\\u1038\\u1018\\u1000\\u103a\\u1014\\u102c_\\u1021\\u101e\\u1000\\u103a_\\u1014\\u102c\",\"18_\\u1006\\u102e\\u1038\\u1001\\u103b\\u102d\\u102f_\\u1015\\u102f\\u1036\\u1019\\u103e\\u1014\\u103a_\\u1000\\u103c\\u1000\\u103a\\u1025\\u1015\\u103c\\u102f\\u1010\\u103a\",\"24_\\u101c\\u1031\\u1038\\u1018\\u1000\\u103a\\u1014\\u102c_\\u1000\\u103b\\u1031\\u102c\\u1000\\u103a\\u1000\\u1015\\u103a_\\u101e\\u1000\\u103a\\u101e\\u102c\",\"25_\\u1005\\u102c\\u1038_\\u1000\\u1014\\u103a\\u1007\\u103d\\u1014\\u103a\\u1038\\u101b\\u102d\\u102f\\u1038\\u1014\\u102e_\\u101e\\u103d\\u102c\\u1038\",\"26_\\u1002\\u101b\\u102f\\u1005\\u102d\\u102f\\u1000\\u103a_\\u1019\\u103b\\u1000\\u103a\\u1005\\u102d_\\u1019\\u103b\\u1000\\u103a\\u1014\\u103e\\u102c\"],\"y\":[\"0_\\u1014\\u1031\\u1011\\u102d\\u102f\\u1004\\u103a_\\u1021\\u1031\\u102c\\u103a_\\u1000\\u1015\\u103a\",\"1_\\u101b\\u1031\\u102c\\u1004\\u103a\\u1038\\u1001\\u103b_\\u1019\\u102d\\u1010\\u103a\\u1006\\u1000\\u103a_\\u1015\\u102d\\u102f\\u1037\\u1006\\u1031\\u102c\\u1004\\u103a\",\"2_\\u101e\\u1031\\u102c\\u1000\\u103a_\\u1006\\u1031\\u1038_\\u101e\\u103d\\u1031\\u1038\\u1000\\u103b\\u1006\\u1031\\u1038\",\"10_\\u101e\\u1031\\u102c\\u1000\\u103a_\\u1006\\u1031\\u1038_\\u1001\\u103b\\u1004\\u103a\\u1038\",\"3_\\u101d\\u1010\\u103a_\\u1011\\u103d\\u1000\\u103a_\\u1019\\u103c\\u1004\\u103a\",\"4_\\u101e\\u103d\\u102c\\u1038_\\u101e\\u1031\\u1038_\\u1021\\u102c\\u101c\\u1030\\u1038\",\"5_\\u1010\\u1005\\u103a_\\u1005\\u1004\\u103a_\\u1014\\u1031\\u1037\",\"6_\\u101e\\u103d\\u1031\\u1038_\\u1010\\u102d\\u102f\\u1038_\\u1021\\u1006\\u1004\\u103a\\u1015\\u103c\\u1031\",\"7_\\u101e\\u1030_\\u1008\\u1031\\u1038_\\u1006\\u1036\\u101e\\u102c\\u1038\\u1001\\u103c\\u1031\\u102c\\u1000\\u103a\",\"8_\\u1015\\u103b\\u1031\\u102c\\u103a_\\u1005\\u102d\\u1010\\u103a_\\u1021\\u1000\\u1031\\u102c\\u1004\\u103a\\u1038\\u1019\\u103c\\u1004\\u103a\",\"9_\\u1000\\u1031\\u102c\\u1004\\u103a\\u1038_\\u1005\\u102d\\u1010\\u103a\\u1011\\u102c\\u1038_\\u1000\\u1036\\u1000\\u1031\\u102c\\u1004\\u103a\\u1038\",\"21_\\u1000\\u1031\\u102c\\u1004\\u103a\\u1038_\\u101c\\u103e\\u1019\\u103a\\u1038_\\u1005\\u102c\\u1038\",\"11_\\u100c\\u102c\\u1014\\u1019\\u103e\\u1030\\u1038_\\u1001\\u1015\\u103a\\u1015\\u103c\\u1010\\u103a\\u1015\\u103c\\u1010\\u103a_\\u1021\\u1010\\u100a\\u103a\",\"14_\\u1005\\u102c\\u101b\\u1031\\u1038\\u1006\\u101b\\u102c_\\u1015\\u103c\\u1031\\u102c_\\u1005\\u1000\\u102c\\u1038\",\"19_\\u1015\\u103c\\u1031\\u102c_\\u1013\\u102c\\u1010\\u103a\\u1005\\u102c_\\u101c\\u103b\\u103e\\u1031\\u102c\\u1037\",\"22_\\u101b\\u1032\\u101a\\u102d\\u102f\\u101e\\u102e\\u1038_\\u1021\\u1010\\u1004\\u103a\\u1038_\\u1015\\u103c\\u1031\\u102c\",\"12_\\u101c\\u1019\\u103a\\u1038\\u100a\\u103d\\u103e\\u1014\\u103a_\\u1021\\u1000\\u103c\\u1036_\\u1021\\u1000\\u103c\\u1036\\u1015\\u103c\\u102f\",\"20_\\u1011\\u102d\\u1014\\u103a\\u1038\\u100a\\u103e\\u102d_\\u1019\\u103b\\u1000\\u103a\\u1014\\u103e\\u102c\\u1015\\u1014\\u103a\\u1038\\u101c\\u103e_\\u1000\\u102c\",\"23_\\u101b\\u1031\\u1001\\u1015\\u103a_\\u1021\\u1015\\u1014\\u103a\\u1038_\\u101c\\u1019\\u103a\\u1038\\u100a\\u103d\\u1014\\u103a\",\"13_\\u1016\\u103c\\u1031_\\u1015\\u1031\\u1038_\\u101b\\u1031\\u1016\\u102d\\u102f\\u1038\",\"15_\\u101c\\u1031_\\u1014\\u103e\\u102c\\u1001\\u1031\\u102b\\u1004\\u103a\\u1038_\\u1021\\u102d\\u1019\\u103a\",\"16_\\u1019\\u1031\\u102c_\\u1021\\u101b\\u1031\\u1038\\u1000\\u103c\\u102e\\u1038_\\u1000\\u103c\\u1031\\u102c\\u1000\\u103a\",\"17_\\u101e\\u103d\\u1031\\u1038\\u101c\\u1031\\u1038\\u1018\\u1000\\u103a\\u1014\\u102c_\\u1021\\u101e\\u1000\\u103a_\\u1014\\u102c\",\"18_\\u1006\\u102e\\u1038\\u1001\\u103b\\u102d\\u102f_\\u1015\\u102f\\u1036\\u1019\\u103e\\u1014\\u103a_\\u1000\\u103c\\u1000\\u103a\\u1025\\u1015\\u103c\\u102f\\u1010\\u103a\",\"24_\\u101c\\u1031\\u1038\\u1018\\u1000\\u103a\\u1014\\u102c_\\u1000\\u103b\\u1031\\u102c\\u1000\\u103a\\u1000\\u1015\\u103a_\\u101e\\u1000\\u103a\\u101e\\u102c\",\"25_\\u1005\\u102c\\u1038_\\u1000\\u1014\\u103a\\u1007\\u103d\\u1014\\u103a\\u1038\\u101b\\u102d\\u102f\\u1038\\u1014\\u102e_\\u101e\\u103d\\u102c\\u1038\",\"26_\\u1002\\u101b\\u102f\\u1005\\u102d\\u102f\\u1000\\u103a_\\u1019\\u103b\\u1000\\u103a\\u1005\\u102d_\\u1019\\u103b\\u1000\\u103a\\u1014\\u103e\\u102c\"],\"z\":[[0.9999999999999991,0.23182316539184727,0.09968579701521987,-0.00303519767357231,0.5578439978490997,0.11985716440151604,0.18215496956418284,0.14626671258799925,0.15828040730722706,0.2328572014912234,0.10625327160411736,0.026400893592922265,0.0717861656092775,0.08013173815424891,0.019724176371970086,0.11288265937073125,0.06601198996635836,0.10948455568512204,0.10208868180406228,0.04087580336855584,0.11405542942012697,0.4483821764880403,0.07710854875109312,0.02322982130649615,0.1624305469027172,0.08904111071254774,0.2497617427951986],[0.23182316539184727,0.9999999999999998,0.02723025038218199,8.612902466323848e-05,0.1251836691871817,0.030553231758782752,0.04408472302533828,0.04298180865616058,0.08146384323516259,0.04970054321284524,0.030098600780066827,0.007470487265366437,0.04054356338532226,0.09419913760389463,0.05447611400449969,0.02873883061033919,0.971640706139627,0.9695251962500758,0.9664568476986121,0.7294733739808209,0.02380163309705839,0.05082234613231602,0.016613028962214536,0.022191524637581565,0.02876531086231292,0.0209950683474648,0.05382388432438012],[0.09968579701521987,0.02723025038218199,1.0000000000000002,0.971584498519431,0.0547641971822335,0.032320762383341806,0.1489942183584008,0.05200695640357896,0.04739671724479985,0.028161194859308777,0.01569234449918011,0.006551523435492163,0.012050344807712374,0.009028411644368245,0.0006038939679899075,0.017578647039534878,0.007367713986178003,0.01546941099020475,0.01193068730127946,0.009878584762643729,0.02221068070492649,0.04238274952922987,0.02427380155743019,0.0353494725701425,0.05002317494622406,0.015259926070575669,0.014007307015115987],[-0.00303519767357231,8.612902466323848e-05,0.971584498519431,1.0000000000000007,-0.004115329551918354,-0.0009227808665283971,0.00013410584649430543,0.0007142141060010473,-0.001611971009468176,-0.0013247014294239215,-0.0010464430171306315,-0.00017678991422104094,0.0004762709732037138,-0.0014272541513756175,5.228378055949095e-05,-0.0003182983673541351,1.1277551182089234e-05,-0.0009717408169221059,-0.000913236806387486,-0.00042926037539158044,-0.00022883565530573243,0.00016339274633703766,-0.0005182583190487544,-0.0004516766361940942,0.005864007018277878,-0.0006877886719719809,-0.0007558662526304994],[0.5578439978490997,0.1251836691871817,0.0547641971822335,-0.004115329551918354,1.0,0.08155057259591994,0.09515360299906522,0.11584195701798397,0.08738418070366508,0.404279673566219,0.10628021296979666,0.007634403305300364,0.030958700717349897,0.03744506069176083,0.008977920578099005,0.07317295915343704,0.016450461771862802,0.05967226798960792,0.03045508175711479,0.019040069027462372,0.13760522030589725,0.3003494462905454,0.05805015497162244,0.008393680058206787,0.03519474437325685,0.04982954263054488,0.11305432746485991],[0.11985716440151604,0.030553231758782752,0.032320762383341806,-0.0009227808665283971,0.08155057259591994,1.0,0.01706106679188537,0.028757396273750107,0.024833329097292953,0.05696589676711937,0.13722220791425283,0.03653102617452328,0.015781011292496754,0.045098717680199914,0.013719870228350634,0.01617660579341174,0.0031252792966143836,0.0077392638176126795,0.011985337555470994,0.018663405305807436,0.036724078288266,0.0472651663161628,0.023850213561532517,0.043927587338260146,0.009346968363798636,0.8099879303226349,0.011398522107452149],[0.18215496956418284,0.04408472302533828,0.1489942183584008,0.00013410584649430543,0.09515360299906522,0.01706106679188537,0.9999999999999997,0.013316114643580228,0.028990814980629092,0.060909573280576494,0.01756683085569096,0.0017136034564546538,0.01162966289687445,0.010962609427504065,0.0027469730763287135,0.018579625443783093,0.008693500699823654,0.015828478102779344,0.01082447094238545,0.006554027597044719,0.01923476125244724,0.05216870019015846,0.012143782392647991,0.035126535415838996,0.03182131678247904,0.006029637099174314,0.018649212704603364],[0.14626671258799925,0.04298180865616058,0.05200695640357896,0.0007142141060010473,0.11584195701798397,0.028757396273750107,0.013316114643580228,1.0000000000000002,0.13462689001647102,0.08961403831485246,0.02309203651041775,0.0011745626157693301,0.022347478335152268,0.007790790929359388,0.0006586513121561385,0.042762854766643765,0.05130251443340127,0.02753494783169903,0.02832869833215782,0.011627011108733924,0.004822510701360916,0.11100523487000126,0.020515218408706057,0.01789659552431478,0.02993953035336893,0.0025479446760445007,0.008438936120779833],[0.15828040730722706,0.08146384323516259,0.04739671724479985,-0.001611971009468176,0.08738418070366508,0.024833329097292953,0.028990814980629092,0.13462689001647102,1.0000000000000002,0.03776271980368771,0.01740443296250595,0.006955643366439359,0.06461762688022366,0.03987559338849841,0.023650819909474426,0.04900406339247663,0.020318680682872237,0.03781290310494913,0.017437365316790382,0.15360536010752415,0.01096130595819691,0.05236857415629965,0.00332125517147181,0.0033334852665659995,0.00261968509208063,0.020653006047729346,0.04175594673305085],[0.2328572014912234,0.04970054321284524,0.028161194859308777,-0.0013247014294239215,0.404279673566219,0.05696589676711937,0.060909573280576494,0.08961403831485246,0.03776271980368771,1.0000000000000002,0.053068779116894775,0.0035321514609797243,0.018653508329927914,0.02432147934753524,0.011699852341017848,0.03358804324057916,0.0025002239312895457,0.02206223675953824,0.01812878398713426,0.031315883956808864,0.07031713493835598,0.17293620198401805,0.09125625656911511,0.00569165998973649,-0.0041166537113106515,0.024626197653635364,0.025746795921056043],[0.10625327160411736,0.030098600780066827,0.01569234449918011,-0.0010464430171306315,0.10628021296979666,0.13722220791425283,0.01756683085569096,0.02309203651041775,0.01740443296250595,0.053068779116894775,0.9999999999999998,0.9805361546568294,0.02972531504860405,0.06167360830392712,0.04173940650738055,0.015132456666463914,0.005729641312738682,0.00824849188770413,0.005317086847241417,0.007536910944645448,0.040919424351085754,0.04531209901591131,0.005373481663229666,0.023463850631482628,0.004304759384208808,0.20571881810699863,0.017092950029901858],[0.026400893592922265,0.007470487265366437,0.006551523435492163,-0.00017678991422104094,0.007634403305300364,0.03653102617452328,0.0017136034564546538,0.0011745626157693301,0.006955643366439359,0.0035321514609797243,0.9805361546568294,0.9999999999999994,0.02230913980120367,0.05004514764600461,0.04021110705557528,0.002230152542420522,0.0014291293232134455,0.0012937111205211904,0.0011185464971167338,0.0031323594858276146,0.0034504335830461514,0.010493114590166736,0.0002899886611199839,0.04307474569147024,0.004900342009563877,0.1106278232211265,0.0008181146747850673],[0.0717861656092775,0.04054356338532226,0.012050344807712374,0.0004762709732037138,0.030958700717349897,0.015781011292496754,0.01162966289687445,0.022347478335152268,0.06461762688022366,0.018653508329927914,0.02972531504860405,0.02230913980120367,1.0000000000000013,0.9849502173695718,0.991285263015954,0.9857237592296717,0.02685920358049424,0.031245446146888924,0.029521978700102976,0.10902397947030991,0.021792324267474027,0.023099850827048546,0.022808945873115757,0.0020706941233783935,0.009855718672195606,0.017286150672375922,0.007594857725624611],[0.08013173815424891,0.09419913760389463,0.009028411644368245,-0.0014272541513756175,0.03744506069176083,0.045098717680199914,0.010962609427504065,0.007790790929359388,0.03987559338849841,0.02432147934753524,0.06167360830392712,0.05004514764600461,0.9849502173695718,1.0000000000000002,0.9868737636125768,0.9808941440917979,0.07877663255859647,0.08316809978249577,0.07995653457282607,0.14244780662878742,0.012803389798278096,0.034963946323833324,0.06298069074091893,0.005790321600917033,0.014086289225232324,0.05337216047515096,0.021130678063559723],[0.019724176371970086,0.05447611400449969,0.0006038939679899075,5.228378055949095e-05,0.008977920578099005,0.013719870228350634,0.0027469730763287135,0.0006586513121561385,0.023650819909474426,0.011699852341017848,0.04173940650738055,0.04021110705557528,0.991285263015954,0.9868737636125768,0.9999999999999998,0.9779618364704343,0.050058544858984505,0.05156817958912126,0.04934437717090548,0.12400926639862558,0.009249150549997585,0.0008959661884377712,0.00026537383355820993,0.002298945604766969,0.002828082276891916,0.01912244830059868,0.0035453586700561193],[0.11288265937073125,0.02873883061033919,0.017578647039534878,-0.0003182983673541351,0.07317295915343704,0.01617660579341174,0.018579625443783093,0.042762854766643765,0.04900406339247663,0.03358804324057916,0.015132456666463914,0.002230152542420522,0.9857237592296717,0.9808941440917979,0.9779618364704343,0.999999999999999,0.008523820952954503,0.018926852998507635,0.009791623044292945,0.0875827122795214,0.010665951777959006,0.0571391126693265,0.06255209218114523,0.0029538133076873183,0.04116718244982596,0.009467115105671917,0.01695415060299375],[0.06601198996635836,0.971640706139627,0.007367713986178003,1.1277551182089234e-05,0.016450461771862802,0.0031252792966143836,0.008693500699823654,0.05130251443340127,0.020318680682872237,0.0025002239312895457,0.005729641312738682,0.0014291293232134455,0.02685920358049424,0.07877663255859647,0.050058544858984505,0.008523820952954503,1.0000000000000002,0.9838323802361205,0.9844640111771437,0.7658823300484042,0.0007801941604390051,0.01278099776625929,0.0028709856581555252,-0.0006352057450078626,0.00973210072115452,0.0036839083248856276,0.004868430824688384],[0.10948455568512204,0.9695251962500758,0.01546941099020475,-0.0009717408169221059,0.05967226798960792,0.0077392638176126795,0.015828478102779344,0.02753494783169903,0.03781290310494913,0.02206223675953824,0.00824849188770413,0.0012937111205211904,0.031245446146888924,0.08316809978249577,0.05156817958912126,0.018926852998507635,0.9838323802361205,1.0,0.9774398032697432,0.7704692436618099,0.0037648711664287206,0.025525725561606417,0.028478873989871735,0.028884517052210432,0.04012063893989799,0.013049933748551448,0.022961768126262255],[0.10208868180406228,0.9664568476986121,0.01193068730127946,-0.000913236806387486,0.03045508175711479,0.011985337555470994,0.01082447094238545,0.02832869833215782,0.017437365316790382,0.01812878398713426,0.005317086847241417,0.0011185464971167338,0.029521978700102976,0.07995653457282607,0.04934437717090548,0.009791623044292945,0.9844640111771437,0.9774398032697432,0.9999999999999998,0.7942174122721405,0.005513657161071186,-0.0037782946015724904,0.028629590213238236,0.0032936324504924926,0.016735027908402995,0.003225883327623398,0.012225391607514341],[0.04087580336855584,0.7294733739808209,0.009878584762643729,-0.00042926037539158044,0.019040069027462372,0.018663405305807436,0.006554027597044719,0.011627011108733924,0.15360536010752415,0.031315883956808864,0.007536910944645448,0.0031323594858276146,0.10902397947030991,0.14244780662878742,0.12400926639862558,0.0875827122795214,0.7658823300484042,0.7704692436618099,0.7942174122721405,0.9999999999999993,0.06591484252676137,0.02639623028702926,-0.008191824589316894,0.0014258487169793983,-0.0069448882790825815,0.0028256054361624813,-0.0051532741221576505],[0.11405542942012697,0.02380163309705839,0.02221068070492649,-0.00022883565530573243,0.13760522030589725,0.036724078288266,0.01923476125244724,0.004822510701360916,0.01096130595819691,0.07031713493835598,0.040919424351085754,0.0034504335830461514,0.021792324267474027,0.012803389798278096,0.009249150549997585,0.010665951777959006,0.0007801941604390051,0.0037648711664287206,0.005513657161071186,0.06591484252676137,0.9999999999999999,0.01609986228260887,-0.0009522158727517917,0.0007472469044198717,-0.0007097943890954446,0.0029232039981041996,0.01655703344371171],[0.4483821764880403,0.05082234613231602,0.04238274952922987,0.00016339274633703766,0.3003494462905454,0.0472651663161628,0.05216870019015846,0.11100523487000126,0.05236857415629965,0.17293620198401805,0.04531209901591131,0.010493114590166736,0.023099850827048546,0.034963946323833324,0.0008959661884377712,0.0571391126693265,0.01278099776625929,0.025525725561606417,-0.0037782946015724904,0.02639623028702926,0.01609986228260887,0.9999999999999999,0.09833010721542901,0.020375722663535843,-0.04239303907255856,0.02478200614314924,0.052879984473326716],[0.07710854875109312,0.016613028962214536,0.02427380155743019,-0.0005182583190487544,0.05805015497162244,0.023850213561532517,0.012143782392647991,0.020515218408706057,0.00332125517147181,0.09125625656911511,0.005373481663229666,0.0002899886611199839,0.022808945873115757,0.06298069074091893,0.00026537383355820993,0.06255209218114523,0.0028709856581555252,0.028478873989871735,0.028629590213238236,-0.008191824589316894,-0.0009522158727517917,0.09833010721542901,1.0,0.011124984761223396,0.030033176794967895,0.002372765774829405,0.00850108974882935],[0.02322982130649615,0.022191524637581565,0.0353494725701425,-0.0004516766361940942,0.008393680058206787,0.043927587338260146,0.035126535415838996,0.01789659552431478,0.0033334852665659995,0.00569165998973649,0.023463850631482628,0.04307474569147024,0.0020706941233783935,0.005790321600917033,0.002298945604766969,0.0029538133076873183,-0.0006352057450078626,0.028884517052210432,0.0032936324504924926,0.0014258487169793983,0.0007472469044198717,0.020375722663535843,0.011124984761223396,0.9999999999999997,0.0033861761625814603,0.05472592897257469,0.004742807954736391],[0.1624305469027172,0.02876531086231292,0.05002317494622406,0.005864007018277878,0.03519474437325685,0.009346968363798636,0.03182131678247904,0.02993953035336893,0.00261968509208063,-0.0041166537113106515,0.004304759384208808,0.004900342009563877,0.009855718672195606,0.014086289225232324,0.002828082276891916,0.04116718244982596,0.00973210072115452,0.04012063893989799,0.016735027908402995,-0.0069448882790825815,-0.0007097943890954446,-0.04239303907255856,0.030033176794967895,0.0033861761625814603,1.0000000000000002,0.01185403895177162,0.014835708038603235],[0.08904111071254774,0.0209950683474648,0.015259926070575669,-0.0006877886719719809,0.04982954263054488,0.8099879303226349,0.006029637099174314,0.0025479446760445007,0.020653006047729346,0.024626197653635364,0.20571881810699863,0.1106278232211265,0.017286150672375922,0.05337216047515096,0.01912244830059868,0.009467115105671917,0.0036839083248856276,0.013049933748551448,0.003225883327623398,0.0028256054361624813,0.0029232039981041996,0.02478200614314924,0.002372765774829405,0.05472592897257469,0.01185403895177162,1.0000000000000002,0.010301234908151297],[0.2497617427951986,0.05382388432438012,0.014007307015115987,-0.0007558662526304994,0.11305432746485991,0.011398522107452149,0.018649212704603364,0.008438936120779833,0.04175594673305085,0.025746795921056043,0.017092950029901858,0.0008181146747850673,0.007594857725624611,0.021130678063559723,0.0035453586700561193,0.01695415060299375,0.004868430824688384,0.022961768126262255,0.012225391607514341,-0.0051532741221576505,0.01655703344371171,0.052879984473326716,0.00850108974882935,0.004742807954736391,0.014835708038603235,0.010301234908151297,0.9999999999999996]],\"type\":\"heatmap\",\"xaxis\":\"x\",\"yaxis\":\"y\",\"hovertemplate\":\"x: %{x}\\u003cbr\\u003ey: %{y}\\u003cbr\\u003eSimilarity Score: %{z}\\u003cextra\\u003e\\u003c\\u002fextra\\u003e\"}],                        {\"template\":{\"data\":{\"histogram2dcontour\":[{\"type\":\"histogram2dcontour\",\"colorbar\":{\"outlinewidth\":0,\"ticks\":\"\"},\"colorscale\":[[0.0,\"#0d0887\"],[0.1111111111111111,\"#46039f\"],[0.2222222222222222,\"#7201a8\"],[0.3333333333333333,\"#9c179e\"],[0.4444444444444444,\"#bd3786\"],[0.5555555555555556,\"#d8576b\"],[0.6666666666666666,\"#ed7953\"],[0.7777777777777778,\"#fb9f3a\"],[0.8888888888888888,\"#fdca26\"],[1.0,\"#f0f921\"]]}],\"choropleth\":[{\"type\":\"choropleth\",\"colorbar\":{\"outlinewidth\":0,\"ticks\":\"\"}}],\"histogram2d\":[{\"type\":\"histogram2d\",\"colorbar\":{\"outlinewidth\":0,\"ticks\":\"\"},\"colorscale\":[[0.0,\"#0d0887\"],[0.1111111111111111,\"#46039f\"],[0.2222222222222222,\"#7201a8\"],[0.3333333333333333,\"#9c179e\"],[0.4444444444444444,\"#bd3786\"],[0.5555555555555556,\"#d8576b\"],[0.6666666666666666,\"#ed7953\"],[0.7777777777777778,\"#fb9f3a\"],[0.8888888888888888,\"#fdca26\"],[1.0,\"#f0f921\"]]}],\"heatmap\":[{\"type\":\"heatmap\",\"colorbar\":{\"outlinewidth\":0,\"ticks\":\"\"},\"colorscale\":[[0.0,\"#0d0887\"],[0.1111111111111111,\"#46039f\"],[0.2222222222222222,\"#7201a8\"],[0.3333333333333333,\"#9c179e\"],[0.4444444444444444,\"#bd3786\"],[0.5555555555555556,\"#d8576b\"],[0.6666666666666666,\"#ed7953\"],[0.7777777777777778,\"#fb9f3a\"],[0.8888888888888888,\"#fdca26\"],[1.0,\"#f0f921\"]]}],\"heatmapgl\":[{\"type\":\"heatmapgl\",\"colorbar\":{\"outlinewidth\":0,\"ticks\":\"\"},\"colorscale\":[[0.0,\"#0d0887\"],[0.1111111111111111,\"#46039f\"],[0.2222222222222222,\"#7201a8\"],[0.3333333333333333,\"#9c179e\"],[0.4444444444444444,\"#bd3786\"],[0.5555555555555556,\"#d8576b\"],[0.6666666666666666,\"#ed7953\"],[0.7777777777777778,\"#fb9f3a\"],[0.8888888888888888,\"#fdca26\"],[1.0,\"#f0f921\"]]}],\"contourcarpet\":[{\"type\":\"contourcarpet\",\"colorbar\":{\"outlinewidth\":0,\"ticks\":\"\"}}],\"contour\":[{\"type\":\"contour\",\"colorbar\":{\"outlinewidth\":0,\"ticks\":\"\"},\"colorscale\":[[0.0,\"#0d0887\"],[0.1111111111111111,\"#46039f\"],[0.2222222222222222,\"#7201a8\"],[0.3333333333333333,\"#9c179e\"],[0.4444444444444444,\"#bd3786\"],[0.5555555555555556,\"#d8576b\"],[0.6666666666666666,\"#ed7953\"],[0.7777777777777778,\"#fb9f3a\"],[0.8888888888888888,\"#fdca26\"],[1.0,\"#f0f921\"]]}],\"surface\":[{\"type\":\"surface\",\"colorbar\":{\"outlinewidth\":0,\"ticks\":\"\"},\"colorscale\":[[0.0,\"#0d0887\"],[0.1111111111111111,\"#46039f\"],[0.2222222222222222,\"#7201a8\"],[0.3333333333333333,\"#9c179e\"],[0.4444444444444444,\"#bd3786\"],[0.5555555555555556,\"#d8576b\"],[0.6666666666666666,\"#ed7953\"],[0.7777777777777778,\"#fb9f3a\"],[0.8888888888888888,\"#fdca26\"],[1.0,\"#f0f921\"]]}],\"mesh3d\":[{\"type\":\"mesh3d\",\"colorbar\":{\"outlinewidth\":0,\"ticks\":\"\"}}],\"scatter\":[{\"fillpattern\":{\"fillmode\":\"overlay\",\"size\":10,\"solidity\":0.2},\"type\":\"scatter\"}],\"parcoords\":[{\"type\":\"parcoords\",\"line\":{\"colorbar\":{\"outlinewidth\":0,\"ticks\":\"\"}}}],\"scatterpolargl\":[{\"type\":\"scatterpolargl\",\"marker\":{\"colorbar\":{\"outlinewidth\":0,\"ticks\":\"\"}}}],\"bar\":[{\"error_x\":{\"color\":\"#2a3f5f\"},\"error_y\":{\"color\":\"#2a3f5f\"},\"marker\":{\"line\":{\"color\":\"#E5ECF6\",\"width\":0.5},\"pattern\":{\"fillmode\":\"overlay\",\"size\":10,\"solidity\":0.2}},\"type\":\"bar\"}],\"scattergeo\":[{\"type\":\"scattergeo\",\"marker\":{\"colorbar\":{\"outlinewidth\":0,\"ticks\":\"\"}}}],\"scatterpolar\":[{\"type\":\"scatterpolar\",\"marker\":{\"colorbar\":{\"outlinewidth\":0,\"ticks\":\"\"}}}],\"histogram\":[{\"marker\":{\"pattern\":{\"fillmode\":\"overlay\",\"size\":10,\"solidity\":0.2}},\"type\":\"histogram\"}],\"scattergl\":[{\"type\":\"scattergl\",\"marker\":{\"colorbar\":{\"outlinewidth\":0,\"ticks\":\"\"}}}],\"scatter3d\":[{\"type\":\"scatter3d\",\"line\":{\"colorbar\":{\"outlinewidth\":0,\"ticks\":\"\"}},\"marker\":{\"colorbar\":{\"outlinewidth\":0,\"ticks\":\"\"}}}],\"scattermapbox\":[{\"type\":\"scattermapbox\",\"marker\":{\"colorbar\":{\"outlinewidth\":0,\"ticks\":\"\"}}}],\"scatterternary\":[{\"type\":\"scatterternary\",\"marker\":{\"colorbar\":{\"outlinewidth\":0,\"ticks\":\"\"}}}],\"scattercarpet\":[{\"type\":\"scattercarpet\",\"marker\":{\"colorbar\":{\"outlinewidth\":0,\"ticks\":\"\"}}}],\"carpet\":[{\"aaxis\":{\"endlinecolor\":\"#2a3f5f\",\"gridcolor\":\"white\",\"linecolor\":\"white\",\"minorgridcolor\":\"white\",\"startlinecolor\":\"#2a3f5f\"},\"baxis\":{\"endlinecolor\":\"#2a3f5f\",\"gridcolor\":\"white\",\"linecolor\":\"white\",\"minorgridcolor\":\"white\",\"startlinecolor\":\"#2a3f5f\"},\"type\":\"carpet\"}],\"table\":[{\"cells\":{\"fill\":{\"color\":\"#EBF0F8\"},\"line\":{\"color\":\"white\"}},\"header\":{\"fill\":{\"color\":\"#C8D4E3\"},\"line\":{\"color\":\"white\"}},\"type\":\"table\"}],\"barpolar\":[{\"marker\":{\"line\":{\"color\":\"#E5ECF6\",\"width\":0.5},\"pattern\":{\"fillmode\":\"overlay\",\"size\":10,\"solidity\":0.2}},\"type\":\"barpolar\"}],\"pie\":[{\"automargin\":true,\"type\":\"pie\"}]},\"layout\":{\"autotypenumbers\":\"strict\",\"colorway\":[\"#636efa\",\"#EF553B\",\"#00cc96\",\"#ab63fa\",\"#FFA15A\",\"#19d3f3\",\"#FF6692\",\"#B6E880\",\"#FF97FF\",\"#FECB52\"],\"font\":{\"color\":\"#2a3f5f\"},\"hovermode\":\"closest\",\"hoverlabel\":{\"align\":\"left\"},\"paper_bgcolor\":\"white\",\"plot_bgcolor\":\"#E5ECF6\",\"polar\":{\"bgcolor\":\"#E5ECF6\",\"angularaxis\":{\"gridcolor\":\"white\",\"linecolor\":\"white\",\"ticks\":\"\"},\"radialaxis\":{\"gridcolor\":\"white\",\"linecolor\":\"white\",\"ticks\":\"\"}},\"ternary\":{\"bgcolor\":\"#E5ECF6\",\"aaxis\":{\"gridcolor\":\"white\",\"linecolor\":\"white\",\"ticks\":\"\"},\"baxis\":{\"gridcolor\":\"white\",\"linecolor\":\"white\",\"ticks\":\"\"},\"caxis\":{\"gridcolor\":\"white\",\"linecolor\":\"white\",\"ticks\":\"\"}},\"coloraxis\":{\"colorbar\":{\"outlinewidth\":0,\"ticks\":\"\"}},\"colorscale\":{\"sequential\":[[0.0,\"#0d0887\"],[0.1111111111111111,\"#46039f\"],[0.2222222222222222,\"#7201a8\"],[0.3333333333333333,\"#9c179e\"],[0.4444444444444444,\"#bd3786\"],[0.5555555555555556,\"#d8576b\"],[0.6666666666666666,\"#ed7953\"],[0.7777777777777778,\"#fb9f3a\"],[0.8888888888888888,\"#fdca26\"],[1.0,\"#f0f921\"]],\"sequentialminus\":[[0.0,\"#0d0887\"],[0.1111111111111111,\"#46039f\"],[0.2222222222222222,\"#7201a8\"],[0.3333333333333333,\"#9c179e\"],[0.4444444444444444,\"#bd3786\"],[0.5555555555555556,\"#d8576b\"],[0.6666666666666666,\"#ed7953\"],[0.7777777777777778,\"#fb9f3a\"],[0.8888888888888888,\"#fdca26\"],[1.0,\"#f0f921\"]],\"diverging\":[[0,\"#8e0152\"],[0.1,\"#c51b7d\"],[0.2,\"#de77ae\"],[0.3,\"#f1b6da\"],[0.4,\"#fde0ef\"],[0.5,\"#f7f7f7\"],[0.6,\"#e6f5d0\"],[0.7,\"#b8e186\"],[0.8,\"#7fbc41\"],[0.9,\"#4d9221\"],[1,\"#276419\"]]},\"xaxis\":{\"gridcolor\":\"white\",\"linecolor\":\"white\",\"ticks\":\"\",\"title\":{\"standoff\":15},\"zerolinecolor\":\"white\",\"automargin\":true,\"zerolinewidth\":2},\"yaxis\":{\"gridcolor\":\"white\",\"linecolor\":\"white\",\"ticks\":\"\",\"title\":{\"standoff\":15},\"zerolinecolor\":\"white\",\"automargin\":true,\"zerolinewidth\":2},\"scene\":{\"xaxis\":{\"backgroundcolor\":\"#E5ECF6\",\"gridcolor\":\"white\",\"linecolor\":\"white\",\"showbackground\":true,\"ticks\":\"\",\"zerolinecolor\":\"white\",\"gridwidth\":2},\"yaxis\":{\"backgroundcolor\":\"#E5ECF6\",\"gridcolor\":\"white\",\"linecolor\":\"white\",\"showbackground\":true,\"ticks\":\"\",\"zerolinecolor\":\"white\",\"gridwidth\":2},\"zaxis\":{\"backgroundcolor\":\"#E5ECF6\",\"gridcolor\":\"white\",\"linecolor\":\"white\",\"showbackground\":true,\"ticks\":\"\",\"zerolinecolor\":\"white\",\"gridwidth\":2}},\"shapedefaults\":{\"line\":{\"color\":\"#2a3f5f\"}},\"annotationdefaults\":{\"arrowcolor\":\"#2a3f5f\",\"arrowhead\":0,\"arrowwidth\":1},\"geo\":{\"bgcolor\":\"white\",\"landcolor\":\"#E5ECF6\",\"subunitcolor\":\"white\",\"showland\":true,\"showlakes\":true,\"lakecolor\":\"white\"},\"title\":{\"x\":0.05},\"mapbox\":{\"style\":\"light\"}}},\"xaxis\":{\"anchor\":\"y\",\"domain\":[0.0,1.0],\"scaleanchor\":\"y\",\"constrain\":\"domain\"},\"yaxis\":{\"anchor\":\"x\",\"domain\":[0.0,1.0],\"autorange\":\"reversed\",\"constrain\":\"domain\"},\"coloraxis\":{\"colorbar\":{\"title\":{\"text\":\"Similarity Score\"}},\"colorscale\":[[0.0,\"rgb(247,252,240)\"],[0.125,\"rgb(224,243,219)\"],[0.25,\"rgb(204,235,197)\"],[0.375,\"rgb(168,221,181)\"],[0.5,\"rgb(123,204,196)\"],[0.625,\"rgb(78,179,211)\"],[0.75,\"rgb(43,140,190)\"],[0.875,\"rgb(8,104,172)\"],[1.0,\"rgb(8,64,129)\"]]},\"margin\":{\"t\":60},\"title\":{\"font\":{\"size\":22,\"color\":\"Black\"},\"text\":\"\\u003cb\\u003eSimilarity Matrix\\u003c\\u002fb\\u003e\",\"y\":0.95,\"x\":0.55,\"xanchor\":\"center\",\"yanchor\":\"top\"},\"hoverlabel\":{\"font\":{\"size\":16,\"family\":\"Rockwell\"},\"bgcolor\":\"white\"},\"width\":1000,\"height\":1000,\"showlegend\":true,\"legend\":{\"title\":{\"text\":\"Trend\"}}},                        {\"responsive\": true}                    ).then(function(){\n",
              "                            \n",
              "var gd = document.getElementById('755b96c5-9b1c-42f7-9ea5-ee14d49933fc');\n",
              "var x = new MutationObserver(function (mutations, observer) {{\n",
              "        var display = window.getComputedStyle(gd).display;\n",
              "        if (!display || display === 'none') {{\n",
              "            console.log([gd, 'removed!']);\n",
              "            Plotly.purge(gd);\n",
              "            observer.disconnect();\n",
              "        }}\n",
              "}});\n",
              "\n",
              "// Listen for the removal of the full notebook cells\n",
              "var notebookContainer = gd.closest('#notebook-container');\n",
              "if (notebookContainer) {{\n",
              "    x.observe(notebookContainer, {childList: true});\n",
              "}}\n",
              "\n",
              "// Listen for the clearing of the current output cell\n",
              "var outputEl = gd.closest('.output');\n",
              "if (outputEl) {{\n",
              "    x.observe(outputEl, {childList: true});\n",
              "}}\n",
              "\n",
              "                        })                };                            </script>        </div>\n",
              "</body>\n",
              "</html>"
            ]
          },
          "metadata": {}
        }
      ]
    },
    {
      "cell_type": "markdown",
      "source": [
        "\n",
        "\n",
        "## Search Topics\n",
        "\n",
        "\n"
      ],
      "metadata": {
        "id": "yqMkhBJoXoow"
      }
    },
    {
      "cell_type": "code",
      "source": [
        "similar_topics, similarity = topic_model.find_topics(\"ကိုဗစ်\", top_n=5); similar_topics"
      ],
      "metadata": {
        "colab": {
          "base_uri": "https://localhost:8080/"
        },
        "id": "UxeR6dr7YEsP",
        "outputId": "250af7d6-9aa7-4d3c-e284-bd9b8e9ff3b8"
      },
      "execution_count": 33,
      "outputs": [
        {
          "output_type": "execute_result",
          "data": {
            "text/plain": [
              "[-1, 6, 16, 11, 0]"
            ]
          },
          "metadata": {},
          "execution_count": 33
        }
      ]
    },
    {
      "cell_type": "code",
      "source": [
        "topic_model.get_topic(6)"
      ],
      "metadata": {
        "colab": {
          "base_uri": "https://localhost:8080/"
        },
        "id": "P1Wlf9ZWYiZ3",
        "outputId": "867b605b-ec33-4d3c-9b13-bc7855193f9d"
      },
      "execution_count": 34,
      "outputs": [
        {
          "output_type": "execute_result",
          "data": {
            "text/plain": [
              "[('သွေး', 0.66905358620306),\n",
              " ('တိုး', 0.6448005672444984),\n",
              " ('အဆင်ပြေ', 0.5800476688397552),\n",
              " ('ကြည့်', 0.5573675230989069),\n",
              " ('ခုန်', 0.4771038067400894),\n",
              " ('ကိုဗစ်', 0.4524212078660494),\n",
              " ('အောက်သွေး', 0.42301958813024654),\n",
              " ('တစ်ရာ', 0.4101050683487138),\n",
              " ('မြန်', 0.40040577457199383),\n",
              " ('ရောဂါ', 0.399900206377967)]"
            ]
          },
          "metadata": {},
          "execution_count": 34
        }
      ]
    },
    {
      "cell_type": "markdown",
      "source": [
        "# Model Serialization"
      ],
      "metadata": {
        "id": "8U0w8ImEY8ho"
      }
    },
    {
      "cell_type": "code",
      "source": [
        "# Save model\n",
        "topic_model.save(\"my_topic_model\")"
      ],
      "metadata": {
        "id": "3Kt2oyoLY7lW"
      },
      "execution_count": 35,
      "outputs": []
    },
    {
      "cell_type": "code",
      "source": [
        "# Load model\n",
        "my_model = BERTopic.load(\"my_topic_model\")"
      ],
      "metadata": {
        "id": "kCyL1IjfZLbL"
      },
      "execution_count": 36,
      "outputs": []
    },
    {
      "cell_type": "code",
      "source": [
        "# Group sentences based on topic groups\n",
        "grouped_sentences = {}\n",
        "for sentence, topic in zip(df.sent, topics):\n",
        "    if topic not in grouped_sentences:\n",
        "        grouped_sentences[topic] = [sentence]\n",
        "    else:\n",
        "        grouped_sentences[topic].append(sentence)"
      ],
      "metadata": {
        "id": "YicsKtwnfYWW"
      },
      "execution_count": 37,
      "outputs": []
    },
    {
      "cell_type": "code",
      "source": [
        "# Access sentences for topic number 1\n",
        "topic_number = 6\n",
        "sentences_topic_1 = grouped_sentences.get(topic_number, [])\n",
        "\n",
        "num_sentences_topic_1 = len(sentences_topic_1)\n",
        "print (num_sentences_topic_1)\n",
        "\n",
        "for sentence in sentences_topic_1:\n",
        "    print(sentence)"
      ],
      "metadata": {
        "colab": {
          "base_uri": "https://localhost:8080/"
        },
        "id": "UNH8509cXUJ3",
        "outputId": "594324e3-3440-4ba6-8aba-8b9823895108"
      },
      "execution_count": 38,
      "outputs": [
        {
          "output_type": "stream",
          "name": "stdout",
          "text": [
            "116\n",
            "အပင် လေး ကြည့် ပြီး စိတ်ချမ်းသာ ကြည်နူး နေ မိ တယ်\n",
            "ကျန်းမာရေး အတွက် ဆိုရင် အသည်းရောင် အသားဝါ ရောဂါ ကို သက်သာ စေ တယ်\n",
            "အဆင်ပြေ တယ်\n",
            "ကျ မှ အဆင်ပြေ မယ်\n",
            "အဆင်ပြေ ပါ တယ် ရှင်\n",
            "ပို အဆင်ပြေ ပါ တယ် ရှင်\n",
            "သုံး ရ တာ လည်း အရမ်း အဆင်ပြေ တယ်\n",
            "အခု တော့ သိပ် မ အေး တော့ ဘူး အဆင်ပြေ လာ ပြီ\n",
            "အရမ်း အဆင်ပြေ တယ် နော်\n",
            "အရမ်း အဆင်ပြေ တယ်\n",
            "ဘယ်လောက် အဆင်ပြေ လိုက် လဲ လို့ နော်\n",
            "အကုန်လုံး ကို စမ်းသုံး ကြည့် ပါ နော်\n",
            "အဆင်ပြေ တာ သုံး လို့ ရ တယ် နော်\n",
            "ပိုက်ဆံအိတ် ထဲ ပိုက်ဆံ ထည့် ရင် အဲ့လို ထည့် ကြည့် ကြ ပါ\n",
            "အဆင်ပြေ သလို သုံး လို့ ရ ပါ တယ် နော်\n",
            "သုံး ရ တာ အရမ်း အဆင်ပြေ ပါ တယ် ရှင်\n",
            "အရမ်း ကို အဆင်ပြေ ပါ တယ်\n",
            "အမဲစက် တွေ လဲ တော်တော် လေး ကို သက်သာ လာ ပါ ပြီ နော်\n",
            "သိပ် အဆင်ပြေ ပါ ပြီ\n",
            "မ ယုံ ဒါ လေး စမ်းသုံး ကြည့် ပါ\n",
            "လို သလို သုံး လို့ ရ လို့ အရမ်း အဆင်ပြေ ပါ တယ် လို့\n",
            "ထည့် ပြီး ထား သုံး လဲ အဆင်ပြေ ပါ တယ်\n",
            "အဆင်ပြေ ပါ တယ်\n",
            "မိုးအေးအေး မှာ ထိမိဂွိ နဲ့ ရုပ်ရှင် ကြည့် တော့ မယ်\n",
            "ကိုဗစ် ကို မ မေ့ ပါ နဲ့\n",
            "ဘယ်မှာ ကိုဗစ် စစ် လို့ ရ လဲ ရှင့် နေမကောင်း လို့ ပါ\n",
            "အဆင်ပြေ လား ရှင့်\n",
            "သွေး သိပ် မ တိုး ဘူး\n",
            "ခု အစ်မ တော့ ဒီ ရောဂါ ဖြစ် ခဲ့ တာ ခုနှစ် နှစ် နီးပါး ရှိ ပြီ\n",
            "လ နဲ ချီ ကြာ ပြီ ဖြစ် တဲ့ ခံတွင်း ပါးစပ် အရသာ က ချဉ် တာ ချို တာ ငန် တာ က ဘာ ဖြစ် တဲ့ လက္ခဏာ လဲ ဗျာ\n",
            "သွေး တိုး လား ဗျ\n",
            "ညီမ နှလုံး က ခုန် တာ မြန် တာ  သုံး ရက် လောက် ရှိ ပြီ\n",
            "လည်ပင်း ထိ လို့ ဆေးခန်းပြ ကြည့် တာ အေအက်စ်အို ရှိ တယ်\n",
            "ခု တော့ နည်းနည်း အဆင်ပြေ လာ ပါ ပြီ\n",
            "သွေး က လည်း အရမ်း ကြီး တော့ မ တိုး ပါ ဘူး\n",
            "ကိုဗစ် ဖြစ် ပြီး နှလုံးခုန် မြန်လာ လို့ ဆေးသောက် နေ ရ တယ်\n",
            "အစာစား ပြီး နှစ် နာရီ တစ်ရာ လေးဆယ့် ငါး တစ်ရာ့ ငါးဆယ်\n",
            "အဆင်ပြေ နေ တယ်\n",
            "သွေး မ တိုး တော့ ဘူး\n",
            "ဖျား တာ နဲ့ ဦးစွာ ငှက်ဖျား ဟုတ် မ ဟုတ် သွေး ဖောက်စစ် ကြည့် ရန် လို ပါ တယ်\n",
            "ကိုဗစ် ကာကွယ်ဆေး ကြောင့် ဘယ်လို ဘေးထွက် ဆိုးကျိုး တွေ ခံစား နိုင် သ လဲ\n",
            "အဆင်ပြေ တယ်\n",
            "ယခု ဆေးသောက် နေ တာ ဘယ်လောက် ကြာ ပြီ လဲ\n",
            "ဘယ် နည်း နဲ့ ဆီးချိုစစ် ကြည့် ကြ မလဲ\n",
            "သွေး လည်း တိုး တယ်\n",
            "အဆင်ပြေ ပါ တယ်\n",
            "သွေးတိုးသမား တွေ က နှလုံး မော တတ် လား ရှင့်\n",
            "ဒါပေမယ့် ရောဂါ စ စ ဖြစ် ချင်း မှာ ဘာ လက္ခဏာ မှ မ ပြ တတ် ပါ ဘူး\n",
            "အပြင်ဆိုင် က ဝယ်စား တဲ့ ထမင်းကြော် ကို အဝစား ပြီး ပြီး ချင်း တိုင်း တာ ကိုး ဒဿမ ကိုး ဆိုတာ ဆီးချို ရှိ နေ လား ရှင့်\n",
            "အဆင်ပြေ တာ လား\n",
            "အကောင်းဆုံး က တော့ ဆီးချို ကို မ ဖြစ် အောင် ကာကွယ် တာ ပါ\n",
            "သွေး က ခဏ ခဏ တိုး နေ တယ်\n",
            "ကိုဗစ် ဆယ့်ကိုး  ဖြစ် နိုင် ပါ လား\n",
            "ဒါပေမယ့် နှလုံး က တော့ ခုန် မြန် နေ တုန်း ပါ ပဲ\n",
            "အရမ်း အဆင်ပြေ ပါ တယ်\n",
            "အန်တီ အသက် လေးဆယ့် ကိုး လောက် မှာ သွေး စ တိုး တယ်\n",
            "နှလုံး အရမ်း အခုန် မြန် လာ ရင် သက်သာ အောင် ဘယ်လို ပုံစံ နေ သင့် လဲ ရှင့်\n",
            "ဆီးချိုရောဂါ ဖြစ် တာ ဘယ်လောက် ကြာ ပြီ လဲ ရှင့်\n",
            "မ တည့် ဘူး ထင် ပါ တယ်\n",
            "ချောင်း မ ဆိုး ဘူး အကုန် ပျောက် နေ ပြီ\n",
            "ဒါပေမယ့် နှလုံး ခုန် က တော့ မြန် နေ တုန်း ပါ ပဲ\n",
            "ကျွန်တော့် အမေ သွေးတိုး များ လာ ရင် အကြော တွေ အားလုံး ကုပ် ပြီး တက် တယ် ဗျ\n",
            "သွေး ရော တိုး လား တယ် ဗျာ\n",
            "ကိုဗစ် ဖြစ် ပြီး ဘယ်လောက် ကြာ ရင် လိင် ဆက်ဆံ လို့ ရ ပြီ လဲ\n",
            "သွေး တော့ မ တိုး တော့ ဘူး ခင်ဗျာ\n",
            "သွေးပေါင်ချိန် ရင် အပေါ် သွေး က တစ်ရာ့ လေးဆယ် အောက်သွေး က တစ်ရာ အမြဲ လိုလို ရှိ နေ ပါ တယ် ရှင့်\n",
            "နှလုံးခုန်နှုန်း က ငါးဆယ့် ခြောက် လောက် ဖြစ် နေ ရင် ဘာ ရောဂါ ဖြစ် နိုင် ပါ သလဲ\n",
            "အဆင်ပြေ လို့ ပါ\n",
            "ရေရှည် မှာ နောက်ဆက်တွဲ ရောဂါ တွေ ဖြစ် တတ် ပါ တယ်\n",
            "နှလုံး သွေးကြော ကျဉ်း နေ ရင် ကာကွယ်ဆေး ထိုး လို့ ရ လား ရှင့်\n",
            "တခြား နောက်ဆက်တွဲ ရောဂါ တွေ ဖြစ် တတ် လို့ ပါ\n",
            "သွေး ရော တိုး လာ တယ် ဗျာ\n",
            "တစ်ရာ့ နှစ်ဆယ် တစ်ရာ့ ခုနှစ် ဆို အောက်သွေး တိုး နေ တာ လား ရှင့်\n",
            "အပေါ်သွေး က တစ်ရာ နှစ်ဆယ့် ငါး အောက်သွေး က ကိုးဆယ်  လောက် ရှိ ပါ တယ်\n",
            "နာတာရှည် ရောဂါ ထဲ ပါ ပါ တယ်\n",
            "သွေး က တော့ မ တိုး တော့ ဘူး\n",
            "အဆင်ပြေ မှာ ပါ\n",
            "သွေး မ တိုး ပါ ဘူး ဗျာ\n",
            "လုံးဝ သွေး မ တိုး ဘူး\n",
            "နာတာရှည် ရောဂါ ဖြစ် တယ်\n",
            "အခု ဘာ သွေး မှ မ တိုး တော့ ဘူး\n",
            "ဘယ်လို လုပ် ရင် အဆင်ပြေ နိုင် မလဲ ရှင့်\n",
            "သွေး လည်း မ တိုး တော့ ဘူး\n",
            "အနံ့ ပျောက် တာ တစ်ပတ် ရှိ ပြီ\n",
            "အဲတာ ရောဂါ မ ဟုတ် ပါ ဘူး\n",
            "သွေး မကြာခဏ တိုး ချင် မယ်\n",
            "အခု ငါးဆယ် ကျော် ပြီ သွေး မ တိုး တော့ ဘူး\n",
            "သွေး တအား တိုး တတ် လို့ ပါ\n",
            "သွေး ခဏ ခဏ တိုး တာ ဘာ ကြောင့် ပါ လဲ ရှင့်\n",
            "အာရုံ စူးစိုက် လို့ မ ရ ဘူး အစ ရှိ တာ တွေ ဆို တွေး ကြည့် မ နေ ပါ နဲ့\n",
            "ဉာဏ် ကို လွှာ ပြီး သုံး ကြည့် ပါ လား\n",
            "အဆင်ပြေ မ နေ ပါ ဘူး\n",
            "သင့် အတွက် ဒါ ဆို ရင် အဆင်ပြေ မလား\n",
            "အမြဲတမ်း အဆင်ပြေ ပါ စေ\n",
            "အဆင်ပြေ တယ် လို့\n",
            "မြည်း စမ်း ကြည့် ပါ လား\n",
            "ကြာ ရင် မ လွယ် ဘူး\n",
            "အဲဒါ ပို အဆင်ပြေ တယ်\n",
            "အဆင်ပြေ အောင် နေ တတ် ဖို့ ပဲ\n",
            "ဝပ်ဘ်ဆိုက် ထဲ ကို ဝင် ကြည့် လို့ ရ ပါ တယ် နော်\n",
            "အပေါ်ယံ အလွှာ ကို ကြည့် ပြီး သုံးသပ် လိုက် မိ တာ\n",
            "စိတ်ပါဝင်စား စွာ ကြည့် နေ တာ\n",
            "သေချာ စွာ ဆုံး အောင် ကြည့် နော်\n",
            "အဲ့ဒါ က အဆင်ပြေ လား\n",
            "ကျွန်မ အတွက် အဆင်ပြေ ပါ တယ်\n",
            "အဆင်ပြေ အောင် တော့ လုပ် ရ မှာ ပေါ့\n",
            "အဲဒါ အဆင်ပြေ မလား\n",
            "ပိုက်ဆံ ရှိ ရင် ရင်းနှီးမြှပ်နှံ ကြည့် ပါ့ လား\n",
            "အဆင်ပြေ အောင် နေ နော်\n",
            "မနက် က နှိုးစက် ပိတ် ပြီး ပြန် အိပ် လိုက် မိ တယ်\n",
            "တချို့ လာရောက် ဝယ်ယူသူ တွေ ကို လဲ ကျွန်တော် ဘယ်လို မှ ကြည့် မ ရ ပါ\n",
            "အခန်း ကို ပုံစံ အမျိုးမျိုး ပြောင်းလဲ ကြည့် တယ်\n",
            "သားငယ် ဒါ ချည်း ကြည့် နေ တာ ပဲ\n",
            "စာအုပ် ဖတ် ကြည့် လိုက် ဦး\n",
            "အလုပ်ရုံ မှာ အလုပ်လျှောက် ကြည့် ပါ့ လား\n",
            "ကြာ တော့ မ ခေါ် ချင် တော့ ဘူး\n"
          ]
        }
      ]
    },
    {
      "cell_type": "code",
      "source": [
        "# Save sentences based on topic\n",
        "\n",
        "for topic, sentences in grouped_sentences.items():\n",
        "    file_name = f\"topic_{topic}.txt\"\n",
        "    with open(file_name, 'w', encoding='utf-8') as f:\n",
        "        f.write(f\"Topic {topic} Keywords: {topic_model.get_topic(topic)}\\n\\n\")\n",
        "        f.write(\"Sentences:\\n\")\n",
        "        for sentence in sentences:\n",
        "            f.write(f\"{sentence}\\n\")\n",
        "\n",
        "    print(f\"File '{file_name}' created.\")"
      ],
      "metadata": {
        "colab": {
          "base_uri": "https://localhost:8080/"
        },
        "id": "BxUtFYc2Ytcl",
        "outputId": "640cd49f-999f-4691-c0a3-0317fcd723a9"
      },
      "execution_count": 39,
      "outputs": [
        {
          "output_type": "stream",
          "name": "stdout",
          "text": [
            "File 'topic_-1.txt' created.\n",
            "File 'topic_0.txt' created.\n",
            "File 'topic_1.txt' created.\n",
            "File 'topic_3.txt' created.\n",
            "File 'topic_5.txt' created.\n",
            "File 'topic_8.txt' created.\n",
            "File 'topic_4.txt' created.\n",
            "File 'topic_7.txt' created.\n",
            "File 'topic_25.txt' created.\n",
            "File 'topic_2.txt' created.\n",
            "File 'topic_9.txt' created.\n",
            "File 'topic_6.txt' created.\n",
            "File 'topic_24.txt' created.\n",
            "File 'topic_20.txt' created.\n",
            "File 'topic_17.txt' created.\n",
            "File 'topic_21.txt' created.\n",
            "File 'topic_19.txt' created.\n",
            "File 'topic_12.txt' created.\n",
            "File 'topic_14.txt' created.\n",
            "File 'topic_11.txt' created.\n",
            "File 'topic_13.txt' created.\n",
            "File 'topic_10.txt' created.\n",
            "File 'topic_22.txt' created.\n",
            "File 'topic_23.txt' created.\n",
            "File 'topic_26.txt' created.\n",
            "File 'topic_15.txt' created.\n",
            "File 'topic_16.txt' created.\n",
            "File 'topic_18.txt' created.\n"
          ]
        }
      ]
    },
    {
      "cell_type": "code",
      "source": [
        "mv topic* /content/drive/MyDrive"
      ],
      "metadata": {
        "id": "gudm4gH05BXH"
      },
      "execution_count": 40,
      "outputs": []
    }
  ],
  "metadata": {
    "colab": {
      "provenance": [],
      "gpuType": "T4"
    },
    "kernelspec": {
      "display_name": "Python 3",
      "name": "python3"
    },
    "language_info": {
      "name": "python"
    },
    "accelerator": "GPU"
  },
  "nbformat": 4,
  "nbformat_minor": 0
}